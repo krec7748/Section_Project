{
  "nbformat": 4,
  "nbformat_minor": 0,
  "metadata": {
    "colab": {
      "name": "AI_05_김도욱_Section_1.ipynb",
      "private_outputs": true,
      "provenance": []
    },
    "kernelspec": {
      "name": "python3",
      "display_name": "Python 3"
    },
    "language_info": {
      "name": "python"
    }
  },
  "cells": [
    {
      "cell_type": "markdown",
      "metadata": {
        "id": "BgnOrcJu8IcP"
      },
      "source": [
        "# <Section 01 Project: 다음 분기에 어떤 게임을 설계해야 할까?>\n"
      ]
    },
    {
      "cell_type": "code",
      "metadata": {
        "id": "AqgFFt6F8CaI"
      },
      "source": [
        "#다음 분기에 출고량이 높을 것이라 예상되는 게임"
      ],
      "execution_count": null,
      "outputs": []
    },
    {
      "cell_type": "markdown",
      "metadata": {
        "id": "2D1Ha5taCSDK"
      },
      "source": [
        "## 1. EDA"
      ]
    },
    {
      "cell_type": "code",
      "metadata": {
        "id": "00ejzxhyCchw"
      },
      "source": [
        "import pandas as pd\n",
        "\n",
        "df = pd.read_csv(\"https://ds-lecture-data.s3.ap-northeast-2.amazonaws.com/datasets/vgames2.csv\")\n",
        "df.drop([\"Unnamed: 0\"], axis = 1, inplace = True)\n",
        "df.head()"
      ],
      "execution_count": null,
      "outputs": []
    },
    {
      "cell_type": "code",
      "metadata": {
        "id": "JOyp4nluDCUX"
      },
      "source": [
        "df.info()"
      ],
      "execution_count": null,
      "outputs": []
    },
    {
      "cell_type": "code",
      "metadata": {
        "id": "eEuFsYp1DFMW"
      },
      "source": [
        "import numpy as np\n",
        "\n",
        "def int_to_year(num):\n",
        "    this_year = 21 #2021년도\n",
        "    if num < 0 or num == np.nan:\n",
        "        return num.replace(num, np.nan)\n",
        "    elif num < this_year:\n",
        "        return int(num) + 2000\n",
        "    elif num < 100:\n",
        "        return int(num) + 1900\n",
        "    else:\n",
        "        return int(num)\n",
        "\n",
        "def convert_str_to_number(string):\n",
        "    if \"K\" in string:\n",
        "        return float(string.replace(\"K\", \"\")) * (10**3)\n",
        "    elif \"M\" in string:\n",
        "        return float(string.replace(\"M\", \"\")) * (10**6)\n",
        "    else:\n",
        "        return float(string) * (10**6)\n",
        "\n",
        "df.dropna(axis = 0, inplace = True) #결측치 제거\n",
        "\n",
        "df[\"Year\"] = df[\"Year\"].apply(int_to_year)\n",
        "for Sales in [\"NA_Sales\", \"EU_Sales\", \"JP_Sales\", \"Other_Sales\"]:\n",
        "    df[Sales] = df[Sales].apply(convert_str_to_number)\n",
        "\n",
        "df.reset_index(drop = True, inplace = True)\n",
        "\n",
        "#확인\n",
        "df.info()\n",
        "print()\n",
        "df"
      ],
      "execution_count": null,
      "outputs": []
    },
    {
      "cell_type": "markdown",
      "metadata": {
        "id": "QIJlRL13VOJU"
      },
      "source": [
        "## 2. 분석"
      ]
    },
    {
      "cell_type": "markdown",
      "metadata": {
        "id": "bbRecksaWD22"
      },
      "source": [
        "### 1. \"**지역**\"과 \"**선호하는 게임장르**\"는 연관이 있을것인가?\n",
        "= 선호하는 게임장르는 곧 출고량과 직결되므로 위 물음을 답하기 위해 Chi-square test을 사용할 수 있음.\n",
        "\n",
        "    (1) 귀무가설: 지역과 게임장르는 출고량에 대해서 서로 연관이 있을 것이다.\n",
        "    (2) 대안가설: 지역과 게임장르는 출고량과 대해서 서로 연관이 없을 것이다.\n",
        "    (3) 신뢰도: 95 %"
      ]
    },
    {
      "cell_type": "code",
      "metadata": {
        "id": "mj98dRD0y-2L"
      },
      "source": [
        "df_Genre_sales = df.drop([\"Name\", \"Platform\", \"Year\", \"Publisher\"], axis = 1, inplace = False)\n",
        "df_Genre_sales"
      ],
      "execution_count": null,
      "outputs": []
    },
    {
      "cell_type": "code",
      "metadata": {
        "id": "hDA4N7tbzSXL"
      },
      "source": [
        "Genre_Region_sum_list = []\n",
        "for Sales in [\"NA_Sales\", \"EU_Sales\", \"JP_Sales\", \"Other_Sales\"]:\n",
        "    Genre_sum = df_Genre_sales[Sales].groupby(df_Genre_sales[\"Genre\"]).sum()\n",
        "    Genre_Region_sum_list.append(Genre_sum)\n",
        "\n",
        "df_Genre_Region_sum = pd.concat(Genre_Region_sum_list, axis = 1)\n",
        "df_Genre_Region_sum"
      ],
      "execution_count": null,
      "outputs": []
    },
    {
      "cell_type": "code",
      "metadata": {
        "id": "nVoVQjoC0d2l"
      },
      "source": [
        "from scipy import stats\n",
        "\n",
        "chi1 = stats.chi2_contingency(df_Genre_Region_sum, correction = False)\n",
        "pv1 = chi1[1]\n",
        "pv1"
      ],
      "execution_count": null,
      "outputs": []
    },
    {
      "cell_type": "code",
      "metadata": {
        "id": "lAKIexQb5C-V"
      },
      "source": [
        "#p-value가 0.05 이하이므로 귀무가설을 기각, 대안가설을 채택함.\n",
        "#즉, 지역과 게임 장르는 출고량에 대해서 서로 연관이 없다고 볼 수 있다."
      ],
      "execution_count": null,
      "outputs": []
    },
    {
      "cell_type": "markdown",
      "metadata": {
        "id": "cWZiIWwr83fd"
      },
      "source": [
        "1. 연도별로 게임 장르의 트렌드를 통해 다음 분기에 설계할 게임의 장르를 추릴 수 있을 것이다.\n",
        "\n",
        "    (1) 연도별 - 지역별로 출고량의 합 구하기 및 비율 구하기\n",
        "        연도별로 특정 지역의 전체 출고량(그 지역의 게임시장의 크기)를 알 수 있음.\n",
        "\n",
        "    (2) 연도별 - 장르별로 출고량의 합 구하기\n",
        "        연도별로 어떤 장르의 출고량이 가장 높은지 알 수 있음.\n",
        "\n",
        "    (3) 장르별 - 지역별로 출고량의 합 구하기\n",
        "        \n",
        "\n",
        "\n",
        "\n"
      ]
    },
    {
      "cell_type": "code",
      "metadata": {
        "id": "8wey6LOhYl0c"
      },
      "source": [
        "df_year_sales = df.drop([\"Name\", \"Platform\", \"Genre\", \"Publisher\"], axis = 1, inplace = False)"
      ],
      "execution_count": null,
      "outputs": []
    },
    {
      "cell_type": "code",
      "metadata": {
        "id": "zeoZ4XilZXjd"
      },
      "source": [
        "Year_Region_sum_list = []\n",
        "for Sales in [\"NA_Sales\", \"EU_Sales\", \"JP_Sales\", \"Other_Sales\"]:\n",
        "    Year_sum = df_year_sales[Sales].groupby(df_year_sales[\"Year\"]).sum()\n",
        "    Year_Region_sum_list.append(Year_sum)\n",
        "\n",
        "df_Year_Region_sum = pd.concat(Year_Region_sum_list, axis = 1)\n",
        "df_Year_Region_sum[\"All_Sales\"] = df_Year_Region_sum.sum(axis = 1)\n",
        "\n",
        "df_Year_Region_All_Sales = df_Year_Region_sum[\"All_Sales\"]\n",
        "\n",
        "df_Year_Region_sum.head()"
      ],
      "execution_count": null,
      "outputs": []
    },
    {
      "cell_type": "code",
      "metadata": {
        "id": "2asWAGQ5GPky"
      },
      "source": [
        "for Sales in [\"NA_Sales\", \"EU_Sales\", \"JP_Sales\", \"Other_Sales\"]:\n",
        "    df_Year_Region_sum[Sales] = df_Year_Region_sum[Sales] / df_Year_Region_sum[\"All_Sales\"]\n",
        "\n",
        "df_Year_Region_sum.drop([\"All_Sales\"], axis = 1, inplace = True)\n",
        "df_Year_Region_sum.drop([2017, 2020], axis = 0, inplace = True) #데이터 수 적어 신뢰성 부족하다고 판단.\n",
        "df_Year_Region_sum = df_Year_Region_sum * 100\n",
        "df_Year_Region_sum.head()"
      ],
      "execution_count": null,
      "outputs": []
    },
    {
      "cell_type": "code",
      "metadata": {
        "id": "MQ7yICCUG3d6"
      },
      "source": [
        "import matplotlib.pyplot as plt\n",
        "\n",
        "df_Year_Region_sum.plot(kind = \"bar\", stacked = True, fontsize = 9, figsize = (13, 8))\n",
        "plt.xticks(rotation = 40)\n",
        "plt.axhline(y = 70, color = \"r\", linewidth = 1)\n",
        "\n",
        "plt.xlabel(\"Year\")\n",
        "plt.ylabel(\"Market Share (%)\")\n",
        "plt.title(\"< Market share by continent (country) >\", fontsize = 12)\n",
        "\n",
        "plt.show()"
      ],
      "execution_count": null,
      "outputs": []
    },
    {
      "cell_type": "code",
      "metadata": {
        "id": "y4mndamfN29m"
      },
      "source": [
        "#위 그래프는 게임의 장르에 상관없이 연도별로 각 지역별 출고량을 누적 막대 그래프로 나타낸 자료 입니다.\n",
        "# >> 북미 + 유럽지역의 출고량 압도적임."
      ],
      "execution_count": null,
      "outputs": []
    },
    {
      "cell_type": "code",
      "metadata": {
        "id": "eT0lxE-xim-o"
      },
      "source": [
        "#연도별 게임장르의 트렌드 분석"
      ],
      "execution_count": null,
      "outputs": []
    },
    {
      "cell_type": "code",
      "metadata": {
        "id": "m37yK03Giq57"
      },
      "source": [
        "df[\"All_Sales\"] = df[\"NA_Sales\"] + df[\"EU_Sales\"] + df[\"JP_Sales\"] + df[\"Other_Sales\"]\n",
        "df_Year_Genre = df.drop([\"Name\", \"Platform\", \"Publisher\", \"NA_Sales\", \"EU_Sales\", \"JP_Sales\", \"Other_Sales\"], axis = 1, inplace = False)\n",
        "df_Year_Genre.head()"
      ],
      "execution_count": null,
      "outputs": []
    },
    {
      "cell_type": "code",
      "metadata": {
        "id": "OMB_TLzFkajg"
      },
      "source": [
        "Year_Genre_sum = df_Year_Genre.groupby([\"Year\", \"Genre\"])[\"All_Sales\"].sum()\n",
        "Year_Genre_ratio = Year_Genre_sum / df_Year_Region_All_Sales\n",
        "df_Year_Genre_ratio = pd.DataFrame(Year_Genre_ratio)\n",
        "df_Year_Genre_ratio.drop([2017, 2020], axis = 0, inplace = True) #데이터 수 적어 신뢰성 부족하다고 판단.\n",
        "df_Year_Genre_ratio = df_Year_Genre_ratio * 100 #백분율"
      ],
      "execution_count": null,
      "outputs": []
    },
    {
      "cell_type": "code",
      "metadata": {
        "id": "xcAzqciSn9ff"
      },
      "source": [
        "colors = [\"tab:blue\", \"tab:orange\", \"tab:green\", \"tab:red\", \"tab:purple\", \"tab:brown\", \"tab:pink\", \"tab:gray\", \"tab:olive\", \"tab:cyan\", \"tan\", \"slateblue\"]\n",
        "\n",
        "df_Year_Genre_ratio.unstack().plot(kind = 'line',\n",
        "                                   fontsize = 8,\n",
        "                                   figsize = (7, 13),\n",
        "                                   color = colors,\n",
        "                                   subplots = True,\n",
        "                                   ylim = [0, 40],\n",
        "                                   grid = True,\n",
        "                                   xlabel = \"Year\",\n",
        "                                   ylabel = \"Share(%)\")\n",
        "\n",
        "plt.show()"
      ],
      "execution_count": null,
      "outputs": []
    },
    {
      "cell_type": "code",
      "metadata": {
        "id": "j8vbT19pDrqS"
      },
      "source": [
        "df_Year_Genre_sum = pd.DataFrame(Year_Genre_sum)\n",
        "\n",
        "Year_Genre_count = df_Year_Genre.groupby([\"Year\", \"Genre\"])[\"Genre\"].count()\n",
        "df_Year_Genre_count = pd.DataFrame(Year_Genre_count)\n",
        "\n",
        "df_Year_Genre_sum[\"Count\"] = df_Year_Genre_count[\"Genre\"]\n",
        "\n",
        "df_Year_Genre_sum.reset_index(level = 0, drop = True, inplace = True)\n",
        "\n",
        "#확인\n",
        "df_Year_Genre_sum"
      ],
      "execution_count": null,
      "outputs": []
    },
    {
      "cell_type": "code",
      "metadata": {
        "id": "wPv096LNDWt1"
      },
      "source": [
        "from sklearn.preprocessing import StandardScaler\n",
        "import seaborn as sns\n",
        "\n",
        "labels = df_Year_Genre_sum.index\n",
        "\n",
        "standard_df_Year_Genre = StandardScaler().fit_transform(df_Year_Genre_sum)\n",
        "df_standard_Year_Genre = pd.DataFrame(standard_df_Year_Genre, columns = [\"All_Sales\", \"Count\"])\n",
        "\n",
        "df_standard_Year_Genre[\"Labels\"] = labels\n",
        "\n",
        "#시각화\n",
        "sns.lmplot(x = 'Count',\n",
        "           y = 'All_Sales',\n",
        "           hue = 'Labels',\n",
        "           #col = 'Labels',\n",
        "           line_kws={'label':\"tip\"},\n",
        "           data = df_standard_Year_Genre,\n",
        "           #col_wrap = 3,\n",
        "           order = 1)"
      ],
      "execution_count": null,
      "outputs": []
    },
    {
      "cell_type": "code",
      "metadata": {
        "id": "MJlq6paLZLh-"
      },
      "source": [
        "#나라별로 보다 선호하는 장르\n",
        "#나라별로 보다 선호하는 플랫폼\n",
        "#위에 나온 그래프는 전체 지역에서 선호하는 장르를 추린것임."
      ],
      "execution_count": null,
      "outputs": []
    },
    {
      "cell_type": "code",
      "metadata": {
        "id": "--L6zi4NKiib"
      },
      "source": [
        "from sklearn.preprocessing import StandardScaler\n",
        "from sklearn.cluster import KMeans\n",
        "\n",
        "df_Total_Sales = df[[\"All_Sales\"]]\n",
        "scaler = StandardScaler()\n",
        "df_Total_Sales_standard = scaler.fit_transform(df_Total_Sales)\n",
        "\n",
        "sum_of_squared_distances = []\n",
        "K = range(1, 15)\n",
        "for k in K:\n",
        "    km = KMeans(n_clusters = k)\n",
        "    km = km.fit(df_Total_Sales_standard)\n",
        "    sum_of_squared_distances.append(km.inertia_)\n",
        "\n",
        "plt.plot(K, sum_of_squared_distances, 'bx-')\n",
        "plt.xlabel('k')\n",
        "plt.ylabel('Sum_of_squared_distances')\n",
        "plt.title('Elbow Method For Optimal k')\n",
        "plt.show()\n"
      ],
      "execution_count": null,
      "outputs": []
    },
    {
      "cell_type": "code",
      "metadata": {
        "id": "8Me6yEtNitCR"
      },
      "source": [
        "scaler = StandardScaler()\n",
        "All_Sales_std = scaler.fit_transform(df[[\"All_Sales\"]])\n",
        "df_All_Sales_std = pd.DataFrame(All_Sales_std, columns = [\"std_All_Sales\"])\n",
        "\n",
        "kmeans = KMeans(n_clusters = 6, random_state = 7)\n",
        "kmeans.fit(df_All_Sales_std)\n",
        "K_labels = kmeans.labels_\n",
        "df_cluster = pd.DataFrame(K_labels, columns = [\"Sale_rating\"])\n",
        "\n",
        "df[\"std_All_Sales\"] = df_All_Sales_std[\"std_All_Sales\"]\n",
        "df[\"Sale_rating\"] = df_cluster[\"Sale_rating\"]\n",
        "df.head()"
      ],
      "execution_count": null,
      "outputs": []
    },
    {
      "cell_type": "code",
      "metadata": {
        "id": "S7DoECYnjO3p"
      },
      "source": [
        "#scatterplot 그리기\n",
        "sns.scatterplot(x = \"Year\", y = \"std_All_Sales\", hue = \"Sale_rating\", data = df)"
      ],
      "execution_count": null,
      "outputs": []
    },
    {
      "cell_type": "code",
      "metadata": {
        "id": "Ia66WdTHP4eh"
      },
      "source": [
        "df_Sales_high = df.query(\"Sale_rating > 0\") #상위 14.57 %\n",
        "df_Sales_low = df.query('Sale_rating == 0') #상위 85.43 %\n",
        "\n",
        "#높은 출고율이 전체 출고율에 차지하는 비율\n",
        "rate = (df_Sales_high.shape[0] / (df_Sales_high.shape[0] + df_Sales_low.shape[0])) * 100\n",
        "\n",
        "print(\"'높은 출고량'에 대한 기준을 출고량의 상위\", round(rate, 2), \"% 로 두었습니다. \\n\")\n",
        "\n",
        "#EDA\n",
        "df_Sales_high.reset_index(drop = True, inplace = True)\n",
        "df_Sales_high = df_Sales_high.drop([\"Sale_rating\", \"std_All_Sales\", \"Name\", \"Publisher\"], axis = 1, inplace = False)\n",
        "df_Sales_high"
      ],
      "execution_count": null,
      "outputs": []
    },
    {
      "cell_type": "code",
      "metadata": {
        "id": "KVmwlUJNodp3"
      },
      "source": [
        "df_high_Year_Plat_count = pd.crosstab(df_Sales_high.Year, df_Sales_high.Platform, margins=True)\n",
        "df_high_Year_Plat_count.head()"
      ],
      "execution_count": null,
      "outputs": []
    },
    {
      "cell_type": "code",
      "metadata": {
        "id": "QmonuIKXwDMx"
      },
      "source": [
        "import seaborn as sns\n",
        "\n",
        "df_high_Year_Plat_count_drop = df_high_Year_Plat_count.drop([\"All\"], axis = 0) #마지막 row에 있는 All index를 없앰\n",
        "\n",
        "for Plat in df_high_Year_Plat_count_drop.columns:\n",
        "    df_high_Year_Plat_count_drop[Plat] = df_high_Year_Plat_count_drop[Plat] / df_high_Year_Plat_count_drop[\"All\"]\n",
        "\n",
        "df_high_Year_Plat_count_drop2 = df_high_Year_Plat_count_drop.drop([\"All\"], axis = 1)\n",
        "df_high_Year_Plat_ratio = round(df_high_Year_Plat_count_drop2, 2).T\n",
        "df_high_Year_Plat_ratio_drop = df_high_Year_Plat_ratio.drop(df_high_Year_Plat_ratio.columns[:25], axis = 1)\n",
        "\n",
        "\n",
        "plt.rcParams[\"figure.figsize\"] = (30, 10)\n",
        "sns.heatmap(df_high_Year_Plat_ratio_drop,\n",
        "           annot = True, #실제 값 화면에 나타내기\n",
        "           cmap = 'Greens', #색상\n",
        "           vmin = 0, vmax = 0.5 , #컬러차트 영역\n",
        "           )"
      ],
      "execution_count": null,
      "outputs": []
    },
    {
      "cell_type": "code",
      "metadata": {
        "id": "tDxmJo539PAo"
      },
      "source": [
        "#필요없는 platform제거 (다음분기에 설계할 게임의 플랫폼의 후보에서 제외)\n",
        "df_high_Year_Plat_ratio_drop2 = df_high_Year_Plat_ratio_drop.drop([\"2600\", \"DC\", \"GB\", \"GBA\", \"GC\", \"GEN\", \"N64\", \"NES\", \"PS\", \"PSP\", \"PSV\", \"SAT\", \"SCD\", \"SNES\", \"XB\"], axis = 0, inplace = False)\n",
        "\n",
        "plt.rcParams[\"figure.figsize\"] = (30, 10)\n",
        "sns.heatmap(df_high_Year_Plat_ratio_drop2,\n",
        "           annot = True, #실제 값 화면에 나타내기\n",
        "           cmap = 'Greens', #색상\n",
        "           vmin = 0, vmax = 0.5 , #컬러차트 영역\n",
        "           )\n",
        "\n",
        "plt.show()\n",
        "## 출고량이 높은 게임들이 어떤 플랫폼을 이용해 만들어 졌는지 분석\n",
        "# - 기술이 발전함에 따라 게임 플랫폼도 점점 발전하기 때문에 2005년 이전 데이터들은 필요없다고 판단. (2005년도 부터 분석)\n",
        "#3DS >> 출고량이 높았던 게임들 중 2011년부터 2016년까지  약 6 ~ 10% 가 3DS 플랫폼 기반의 게임이다.\n",
        "#DS >> 출고량이 높았던 게임들 중 2005년부터 2010년까지 약 10 ~ 20 %가 DS 플랫폼 기반의 게임이다.\n",
        "#PC >> 출고량이 높았던 게임들 중 2005년부터 2015년까지 약 2 ~ 5% 가 PC 플랫폼 기반의 게임이다.\n",
        "#PS Series >> PS Platform이 간헐적으로 업데이트를 하고 있으며 14년도 이후에 출고량이 높았던 게임들 중 가장 많은 비중을 차지한 게임이 PS4 플랫폼 기반의 게임이었음. (14년도 29%, 15년도 41%, 16년도 72%)\n",
        "#XOne >> 출고량이 높았던 게임들 중 2013년부터 2016년까지 약 10 ~ 25 %가 XOne 플랫폰 기반의 게임이다.\n",
        "\n",
        "# >> 1순위 PS4, 2순위, XONE, 3순위 WiiU, 3DS"
      ],
      "execution_count": null,
      "outputs": []
    },
    {
      "cell_type": "code",
      "metadata": {
        "id": "yK0dAhRmEtYm"
      },
      "source": [
        "df_high_Year_Genre_count = pd.crosstab(df_Sales_high.Year, df_Sales_high.Genre, margins=True)\n",
        "df_high_Year_Genre_count.head()"
      ],
      "execution_count": null,
      "outputs": []
    },
    {
      "cell_type": "code",
      "metadata": {
        "id": "zLFd0LixVGG_"
      },
      "source": [
        "import seaborn as sns\n",
        "\n",
        "df_high_Year_Genre_count_drop = df_high_Year_Genre_count.drop([\"All\"], axis = 0) #마지막 row에 있는 All index를 없앰\n",
        "\n",
        "for Plat in df_high_Year_Genre_count_drop.columns:\n",
        "    df_high_Year_Genre_count_drop[Plat] = df_high_Year_Genre_count_drop[Plat] / df_high_Year_Genre_count_drop[\"All\"]\n",
        "\n",
        "df_high_Year_Genre_count_drop2 = df_high_Year_Genre_count_drop.drop([\"All\"], axis = 1)\n",
        "df_high_Year_Genre_ratio = round(df_high_Year_Genre_count_drop2, 2).T\n",
        "df_high_Year_Genre_ratio_drop = df_high_Year_Genre_ratio.drop(df_high_Year_Genre_ratio.columns[:25], axis = 1)\n",
        "\n",
        "\n",
        "plt.rcParams[\"figure.figsize\"] = (30, 10)\n",
        "sns.heatmap(df_high_Year_Genre_ratio_drop,\n",
        "           annot = True, #실제 값 화면에 나타내기\n",
        "           cmap = 'Greens', #색상\n",
        "           vmin = 0, vmax = 0.3 , #컬러차트 영역\n",
        "           )"
      ],
      "execution_count": null,
      "outputs": []
    },
    {
      "cell_type": "code",
      "metadata": {
        "id": "JglGWVqOWYSg"
      },
      "source": [
        "# 1순위 - Shooter, 2순위 - Action, Sports, 3순위 - Role-Playing"
      ],
      "execution_count": null,
      "outputs": []
    },
    {
      "cell_type": "code",
      "metadata": {
        "id": "BFfxezjWVz7X"
      },
      "source": [
        "df_high_Plat_Genre_count = pd.crosstab(df_Sales_high.Platform, df_Sales_high.Genre, margins=True)\n",
        "df_high_Plat_Genre_count.head()"
      ],
      "execution_count": null,
      "outputs": []
    },
    {
      "cell_type": "code",
      "metadata": {
        "id": "LrstRpckW--A"
      },
      "source": [
        "#관심 있는 row, column만 추출\n",
        "Genre_drop_list = []\n",
        "for i in df_high_Plat_Genre_count.columns:\n",
        "    if i not in [\"Action\", \"Shooter\", \"Sports\", \"Role-Playing\"]:\n",
        "        Genre_drop_list.append(i)\n",
        "    else:\n",
        "        continue\n",
        "\n",
        "Plat_drop_list = []\n",
        "for j in df_high_Plat_Genre_count.index:\n",
        "    if j not in [\"PS4\", \"XOne\", \"WiiU\", \"3DS\"]:\n",
        "        Plat_drop_list.append(j)\n",
        "        \n",
        "\n",
        "df_high_Plat_Genre_F1 = df_high_Plat_Genre_count.drop(Genre_drop_list, axis = 1)\n",
        "df_high_Plat_Genre_F2 = df_high_Plat_Genre_F1.drop(Plat_drop_list, axis = 0)\n",
        "df_high_Plat_Genre_F2"
      ],
      "execution_count": null,
      "outputs": []
    },
    {
      "cell_type": "code",
      "metadata": {
        "id": "mEjPRt83bH5v"
      },
      "source": [
        "from scipy import stats\n",
        "\n",
        "chi1 = stats.chi2_contingency(df_high_Plat_Genre_F2, correction = False)\n",
        "pv1 = chi1[1]\n",
        "pv1"
      ],
      "execution_count": null,
      "outputs": []
    }
  ]
}