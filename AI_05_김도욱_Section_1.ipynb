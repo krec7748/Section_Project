{
  "nbformat": 4,
  "nbformat_minor": 0,
  "metadata": {
    "colab": {
      "name": "AI_05_김도욱_Section_1.ipynb",
      "private_outputs": true,
      "provenance": []
    },
    "kernelspec": {
      "name": "python3",
      "display_name": "Python 3"
    },
    "language_info": {
      "name": "python"
    }
  },
  "cells": [
    {
      "cell_type": "markdown",
      "metadata": {
        "id": "BgnOrcJu8IcP"
      },
      "source": [
        "# <Section 01 Project: 다음 분기에 어떤 게임을 설계해야 할까?>\n"
      ]
    },
    {
      "cell_type": "code",
      "metadata": {
        "id": "AqgFFt6F8CaI"
      },
      "source": [
        "#다음 분기에 출고량이 높을 것이라 예상되는 게임\n",
        "#게임 설계를 \"어떤 플랫폼\"을 기반으로 \"어떤 장르\"로 해야 출고량이 높을지 분석"
      ],
      "execution_count": null,
      "outputs": []
    },
    {
      "cell_type": "markdown",
      "metadata": {
        "id": "2D1Ha5taCSDK"
      },
      "source": [
        "## 1. 전처리"
      ]
    },
    {
      "cell_type": "code",
      "metadata": {
        "id": "00ejzxhyCchw"
      },
      "source": [
        "import pandas as pd\n",
        "import numpy as np\n",
        "\n",
        "def int_to_year(num):\n",
        "    this_year = 21 #2021년도\n",
        "    if num < 0 or num == np.nan:\n",
        "        return num.replace(num, np.nan)\n",
        "    elif num < this_year:\n",
        "        return int(num) + 2000\n",
        "    elif num < 100:\n",
        "        return int(num) + 1900\n",
        "    else:\n",
        "        return int(num)\n",
        "\n",
        "def convert_str_to_number(string):\n",
        "    if \"K\" in string:\n",
        "        return float(string.replace(\"K\", \"\")) * (10**3)\n",
        "    elif \"M\" in string:\n",
        "        return float(string.replace(\"M\", \"\")) * (10**6)\n",
        "    else:\n",
        "        return float(string) * (10**6)\n",
        "\n",
        "#csv파일 읽기\n",
        "df = pd.read_csv(\"https://ds-lecture-data.s3.ap-northeast-2.amazonaws.com/datasets/vgames2.csv\")\n",
        "df.drop([\"Unnamed: 0\"], axis = 1, inplace = True)\n",
        "\n",
        "#데이터에서 결측치가 포함된 row제거 (361개, 전체 데이터의 약 2.71% 에 해당)\n",
        "df.dropna(axis = 0, inplace = True) #결측치 제거\n",
        "\n",
        "#출고량 데이터들을 수치형 데이터로 변환\n",
        "df[\"Year\"] = df[\"Year\"].apply(int_to_year)\n",
        "for Sales in [\"NA_Sales\", \"EU_Sales\", \"JP_Sales\", \"Other_Sales\"]:\n",
        "    df[Sales] = df[Sales].apply(convert_str_to_number)\n",
        "\n",
        "#인덱스 reset\n",
        "df.reset_index(drop = True, inplace = True)\n",
        "\n",
        "#2017, 2020년 데이터들은 데이터수가 적어 신뢰성이 부족해 제거함.\n",
        "del_index = df[(df[\"Year\"] == 2017) | (df[\"Year\"] == 2020)].index\n",
        "df = df.drop(del_index) \n",
        "\n",
        "#지역별 출고량 합\n",
        "df[\"All_Sales\"] = df[\"NA_Sales\"] + df[\"EU_Sales\"] + df[\"JP_Sales\"] + df[\"Other_Sales\"]\n",
        "\n",
        "#확인\n",
        "df.info()\n",
        "df"
      ],
      "execution_count": null,
      "outputs": []
    },
    {
      "cell_type": "markdown",
      "metadata": {
        "id": "QIJlRL13VOJU"
      },
      "source": [
        "## 2. 분석"
      ]
    },
    {
      "cell_type": "markdown",
      "metadata": {
        "id": "bbRecksaWD22"
      },
      "source": [
        "### 1. \"**지역**\"과 \"**선호하는 게임장르**\"는 연관이 있을것인가?\n",
        "= 위 물음에 답하기 위해 Chi-square test을 사용할 수 있음.\n",
        "\n",
        "    (1) 귀무가설: 출고량에 대해 지역과 게임장르는 서로 연관이 없을 것이다. (독립적 O)\n",
        "    (2) 대안가설: 출고량에 대해 지역과 게임장르는 서로 연관이 있을 것이다. (독립적 X)\n",
        "    (3) 신뢰도: 95 %"
      ]
    },
    {
      "cell_type": "code",
      "metadata": {
        "id": "mj98dRD0y-2L"
      },
      "source": [
        "df_Genre_sales = df.drop([\"Name\", \"Platform\", \"Publisher\", \"All_Sales\"], axis = 1, inplace = False)\n",
        "\n",
        "df_Genre_sales.head()"
      ],
      "execution_count": null,
      "outputs": []
    },
    {
      "cell_type": "code",
      "metadata": {
        "id": "SeRvz0gXkrKK"
      },
      "source": [
        "df_Year_Genre_Sales = df_Genre_sales.groupby([\"Year\", \"Genre\"]).sum()\n",
        "\n",
        "df_Year_Genre_Sales2 = df_Year_Genre_Sales.reset_index(drop = False, inplace = False)\n",
        "\n",
        "df_Year_Genre_Sales2.head()"
      ],
      "execution_count": null,
      "outputs": []
    },
    {
      "cell_type": "code",
      "metadata": {
        "id": "Uv89S-gyn1jy"
      },
      "source": [
        "#2 sample chi-square test (지역 - 장르의 연관성)\n",
        "from scipy import stats\n",
        "\n",
        "p_value_list = []\n",
        "for i in range(1980, 2017, 1):\n",
        "    sort = df_Year_Genre_Sales2.loc[df_Year_Genre_Sales2[\"Year\"] == i]\n",
        "    sort.index = sort[\"Genre\"]\n",
        "    sort_drop = sort.drop([\"Year\", \"Genre\"], axis = 1, inplace = False)\n",
        "    for j in sort_drop.columns:\n",
        "        if sort_drop[j].sum() == 0:\n",
        "            sort_drop.drop([j], axis = 1, inplace = True)\n",
        "    chi = stats.chi2_contingency(sort_drop, correction = False)\n",
        "    pv = chi[1]\n",
        "    p_value_list.append(pv)\n",
        "\n",
        "df_p_value = pd.DataFrame(p_value_list, columns = [\"p_value\"])\n",
        "df_p_value.index = range(1980, 2017, 1)\n",
        "df_p_value.head()"
      ],
      "execution_count": null,
      "outputs": []
    },
    {
      "cell_type": "code",
      "metadata": {
        "id": "I7_Lsps1MApd"
      },
      "source": [
        " df_p_value.query(\"p_value < 0.05\").shape[0] / df_p_value.shape[0]\n",
        " #모든 연도에서 귀무가설이 기각됨\n",
        " #출고량에 대해서 지역과 장르는 연관이 있다고 볼 수 있다."
      ],
      "execution_count": null,
      "outputs": []
    },
    {
      "cell_type": "code",
      "metadata": {
        "id": "mWh7Wo-P5Eno"
      },
      "source": [
        "#연관이 있다는 건 알았다. 이제 \"어떤 지역\"이 \"어떤 장르\"와 연관이 있는지 살펴보기 (2000년 이후)\n",
        "\n",
        "#EDA\n",
        "import matplotlib.pyplot as plt\n",
        "colors = [\"tab:blue\", \"tab:orange\", \"tab:green\", \"tab:red\", \"tab:purple\", \"tab:brown\", \"tab:pink\", \"tab:gray\", \"tab:olive\", \"tab:cyan\", \"tan\", \"slateblue\"]\n",
        "\n",
        "Region_Genre = df.groupby([\"Year\", \"Genre\"]).sum()\n",
        "for region in Region_Genre.columns:\n",
        "    Region_Genre1 = Region_Genre.drop([\"All_Sales\"], axis = 1)\n",
        "\n",
        "Region_Genre2 = Region_Genre1.reset_index(drop = False)\n",
        "Region_Genre2"
      ],
      "execution_count": null,
      "outputs": []
    },
    {
      "cell_type": "code",
      "metadata": {
        "id": "-PAea-ODIlN3"
      },
      "source": [
        "#연도별 지역과 장르의 출고량 시각화\n",
        "#어떤 지역에서 어떤 장르가 선호도가 높은지 시각적으로 알 수 있을 것임.\n",
        "\n",
        "i = 1980 #데이터에서 가장 작은 연도\n",
        "Region_Genre3 = Region_Genre2.loc[Region_Genre2[\"Year\"] < i + 10]\n",
        "while i <= 2016: #데이터에서 가장 큰 연도\n",
        "    Region_Genre3 = Region_Genre3.drop([\"Year\"], axis = 1)\n",
        "    Region_Genre3 = Region_Genre3.groupby([\"Genre\"]).sum().T\n",
        "\n",
        "    #시각화\n",
        "    plt.rcParams[\"figure.figsize\"] = (7,5) #크기\n",
        "    Region_Genre3.plot(kind = 'bar', color = colors) #plot 유형, 색 지정\n",
        "    plt.ylim(0, Region_Genre3.sum().max()) #y축 범위 지정\n",
        "    plt.grid() #보조선\n",
        "    plt.xticks(rotation = 0) # x-label 회전 각도\n",
        "    #Title\n",
        "    if i < 2010:\n",
        "        plt.title(\"%d's\"%i)\n",
        "    elif i == 2016:\n",
        "        plt.title(\"%d\"%i)\n",
        "    else:\n",
        "        plt.title(\"%d ~ %d\"%(i, i+1))\n",
        "    \n",
        "    plt.show()\n",
        "\n",
        "    if i <= 2000:\n",
        "        i += 10 #80연도에서 00연도 까지는 10년 단위로 묶어서 분석\n",
        "        Region_Genre3 = Region_Genre2.loc[Region_Genre2[\"Year\"] < i + 10]\n",
        "    else:\n",
        "        i += 2 #11년부터는 최신 데이터 이므로 2년 단위로 분석\n",
        "        Region_Genre3 = Region_Genre2.loc[Region_Genre2[\"Year\"] <= i + 1]"
      ],
      "execution_count": null,
      "outputs": []
    },
    {
      "cell_type": "code",
      "metadata": {
        "id": "KnhLCYuxLPCA"
      },
      "source": [
        "#결과 해석\n",
        "#전반적으로 북미 + 유럽 시장이 전체 시장의 대부분을 차지한다는 것을 볼 수있다.\n",
        "\n",
        "#80년대\n",
        "# 북미: Platform, Shooter, Puzzle 순으로 선호도 높음.\n",
        "# 유럽: Platform, Puzzle, Action 순으로 선호도 높음.\n",
        "# 일본: Platform, Sports, Action 순으로 선호도 높음.\n",
        "\n",
        "#90년대\n",
        "# 북미: Platform, Action, Shooter 순으로 선호도 높음.\n",
        "# 유럽: Puzzle, Action, Racing 순으로 선호도 높음.\n",
        "# 일본: Role-playing, Platform, Sports 순으로 선호도 높음.\n",
        "\n",
        "#00년대\n",
        "# 북미: Action, Sports, Platform 순으로 선호도 높음.\n",
        "# 유럽: Action, Sports, Racing 순으로 선호도 높음.\n",
        "# 일본: Role-playing, Sports, Platform 순으로 선호도 높음.\n",
        "\n",
        "#10 ~ 16년 (2년 단위로 나누어 분석했지만 지역별 동일한 선호도)\n",
        "# 북미: Action, Sports, Shooter 순으로 선호도 높음.\n",
        "# 유럽: Action, Sports, Shooter 순으로 선호도 높음.\n",
        "# 일본: Role-playing, Action, Sports(= Platform) 순으로 선호도 높음.\n",
        "\n",
        "#Other 시장은 전체 연도 통들어 차지하는 비율이 너무 작아 의미가 없다고 판단하여 해석에서 제외"
      ],
      "execution_count": null,
      "outputs": []
    },
    {
      "cell_type": "markdown",
      "metadata": {
        "id": "SYR2XTALrm22"
      },
      "source": [
        "### 2. 연도에 따른 장르별 시장점유율\n",
        "- 연도별 게임의 트렌드를 알 수 있다."
      ]
    },
    {
      "cell_type": "code",
      "metadata": {
        "id": "eT0lxE-xim-o"
      },
      "source": [
        "#연도별 게임장르의 트렌드 분석"
      ],
      "execution_count": null,
      "outputs": []
    },
    {
      "cell_type": "code",
      "metadata": {
        "id": "8wey6LOhYl0c"
      },
      "source": [
        "#필요없는 column 제거\n",
        "df_year_sales = df.drop([\"Name\", \"Platform\", \"Genre\", \"Publisher\"], axis = 1, inplace = False)\n",
        "\n",
        "#확인\n",
        "df_year_sales.head()"
      ],
      "execution_count": null,
      "outputs": []
    },
    {
      "cell_type": "code",
      "metadata": {
        "id": "zeoZ4XilZXjd"
      },
      "source": [
        "#지역별 출고량의 합을 연도별로 구하기\n",
        "Year_Region_sum_list = []\n",
        "for Sales in [\"NA_Sales\", \"EU_Sales\", \"JP_Sales\", \"Other_Sales\"]:\n",
        "    Year_sum = df_year_sales[Sales].groupby(df_year_sales[\"Year\"]).sum()\n",
        "    Year_Region_sum_list.append(Year_sum)\n",
        "\n",
        "df_Year_Region_sum = pd.concat(Year_Region_sum_list, axis = 1)\n",
        "df_Year_Region_sum[\"All_Sales\"] = df_Year_Region_sum.sum(axis = 1)\n",
        "\n",
        "df_Year_Region_All_Sales = df_Year_Region_sum[\"All_Sales\"]\n",
        "df_Year_Region_sum.head()"
      ],
      "execution_count": null,
      "outputs": []
    },
    {
      "cell_type": "code",
      "metadata": {
        "id": "m37yK03Giq57"
      },
      "source": [
        "#필요없는 column제거\n",
        "df_Year_Genre = df.drop([\"Name\", \"Platform\", \"Publisher\", \"NA_Sales\", \"EU_Sales\", \"JP_Sales\", \"Other_Sales\"], axis = 1, inplace = False)\n",
        "\n",
        "#확인\n",
        "df_Year_Genre.head()"
      ],
      "execution_count": null,
      "outputs": []
    },
    {
      "cell_type": "code",
      "metadata": {
        "id": "OMB_TLzFkajg"
      },
      "source": [
        "#연도에 따른 장르별 시장점유율 구하기\n",
        "\n",
        "#그룹화 (연도-장르, 지역별 출고량 합)\n",
        "Year_Genre_sum = df_Year_Genre.groupby([\"Year\", \"Genre\"])[\"All_Sales\"].sum()\n",
        "\n",
        "#출고율 구해서 백분율로 변환\n",
        "Year_Genre_ratio = Year_Genre_sum / df_Year_Region_All_Sales\n",
        "df_Year_Genre_ratio = pd.DataFrame(Year_Genre_ratio)\n",
        "df_Year_Genre_ratio = df_Year_Genre_ratio * 100 #백분율\n",
        "\n",
        "#확인\n",
        "df_Year_Genre_ratio"
      ],
      "execution_count": null,
      "outputs": []
    },
    {
      "cell_type": "code",
      "metadata": {
        "id": "xcAzqciSn9ff"
      },
      "source": [
        "#연도에 따른 장르별 시장점유율 구하기 (시각화)\n",
        "import matplotlib.pyplot as plt\n",
        "\n",
        "#색 List\n",
        "colors = [\"tab:blue\", \"tab:orange\", \"tab:green\", \"tab:red\", \"tab:purple\", \"tab:brown\", \"tab:pink\", \"tab:gray\", \"tab:olive\", \"tab:cyan\", \"tan\", \"slateblue\"]\n",
        "\n",
        "df_Year_Genre_ratio.unstack().plot(kind = 'line',\n",
        "                                   fontsize = 8,\n",
        "                                   figsize = (7, 13),\n",
        "                                   color = colors,\n",
        "                                   subplots = True,\n",
        "                                   ylim = [0, 40],\n",
        "                                   grid = True,\n",
        "                                   xlabel = \"Year\",\n",
        "                                   ylabel = \"Share(%)\")\n",
        "\n",
        "plt.show()"
      ],
      "execution_count": null,
      "outputs": []
    },
    {
      "cell_type": "code",
      "metadata": {
        "id": "jFaSXGwja0NP"
      },
      "source": [
        "#최근에는 Action, Shooter, Sports, Role-Playing이 게임 대부분의 장르를 차지하고 있음. (최근 대세 장르라고 해석이 가능함.)\n",
        "#그러나 우리가 설계할 게임의 장르를 위 4가지로 결정하는 것은 섣부른 결정임. \n",
        "#특정 장르의 게임이 해당 년도에 출시한 게임수가 많으면 그 장르에 대한 출고량이 높은 게임이 많이 없어도 높은 점유율을 차지할 수도 있기 때문임.\n",
        "\n",
        "#우리의 목적은 다음분기에 출고량이 높을거라고 예상되는 게임의 장르와 플랫폼을 결정하는 것임."
      ],
      "execution_count": null,
      "outputs": []
    },
    {
      "cell_type": "markdown",
      "metadata": {
        "id": "8dGN_KAUwWj8"
      },
      "source": [
        "### 3. 출고량이 높은 게임에 대해 기준 설정 및 전처리\n",
        "우리의 목적은 다음분기에 출고량이 높은것이라고 예상되는 게임의 장르와 플랫폼을 결정하는 것임\n",
        "\n",
        "따라서 출고량이 높은 게임에 대해 분석을 할 필요가 있음. 그리고 그 전에 \"출고량이 높다\"에 대한 기준을 설정해야 하고 전처리 과정이 필요함."
      ]
    },
    {
      "cell_type": "code",
      "metadata": {
        "id": "--L6zi4NKiib"
      },
      "source": [
        "#높은 출고량에 대한 기준 설정에 K-means clustering을 이용할 것임.\n",
        "#Elbow method를 이용해 적절한 K값을 결정\n",
        "\n",
        "from sklearn.preprocessing import StandardScaler\n",
        "from sklearn.cluster import KMeans\n",
        "\n",
        "df_Total_Sales = df[[\"All_Sales\"]]\n",
        "scaler = StandardScaler()\n",
        "df_Total_Sales_standard = scaler.fit_transform(df_Total_Sales)\n",
        "\n",
        "sum_of_squared_distances = []\n",
        "K = range(1, 15)\n",
        "for k in K:\n",
        "    km = KMeans(n_clusters = k)\n",
        "    km = km.fit(df_Total_Sales_standard)\n",
        "    sum_of_squared_distances.append(km.inertia_)\n",
        "\n",
        "plt.plot(K, sum_of_squared_distances, 'bx-')\n",
        "plt.xlabel('k')\n",
        "plt.ylabel('Sum_of_squared_distances')\n",
        "plt.title('Elbow Method For Optimal k')\n",
        "plt.show() #k값은 6"
      ],
      "execution_count": null,
      "outputs": []
    },
    {
      "cell_type": "code",
      "metadata": {
        "id": "8Me6yEtNitCR"
      },
      "source": [
        "#표준화 및 K-means clustering 진행\n",
        "import seaborn as sns\n",
        "\n",
        "#지역별 출고량의 합에 대해서 표준화 진행 (Feature 1개)\n",
        "scaler = StandardScaler()\n",
        "All_Sales_std = scaler.fit_transform(df[[\"All_Sales\"]])\n",
        "df_All_Sales_std = pd.DataFrame(All_Sales_std, columns = [\"std_All_Sales\"])\n",
        "\n",
        "#K-mean clustering\n",
        "kmeans = KMeans(n_clusters = 6, random_state = 7)\n",
        "kmeans.fit(df_All_Sales_std)\n",
        "K_labels = kmeans.labels_\n",
        "df_cluster = pd.DataFrame(K_labels, columns = [\"Sale_rating\"])\n",
        "\n",
        "df[\"std_All_Sales\"] = df_All_Sales_std[\"std_All_Sales\"]\n",
        "df[\"Sale_rating\"] = df_cluster[\"Sale_rating\"]"
      ],
      "execution_count": null,
      "outputs": []
    },
    {
      "cell_type": "code",
      "metadata": {
        "id": "S7DoECYnjO3p"
      },
      "source": [
        "#K-means clustering 결과 이미지로 구현\n",
        "plt.rcParams[\"figure.figsize\"] = (7, 7)\n",
        "#plt.rcParams[\"figure.figsize\"] = (5, 200) #더 자세히 볼 수있음.\n",
        "sns.scatterplot(x = \"Year\", y = \"std_All_Sales\", hue = \"Sale_rating\", data = df)"
      ],
      "execution_count": null,
      "outputs": []
    },
    {
      "cell_type": "code",
      "metadata": {
        "id": "Ia66WdTHP4eh"
      },
      "source": [
        "#결과에 따라 출고량이 높다고 판단되는 데이터만 선별 및 DataFrame화\n",
        "\n",
        "#가장 작은 cluster를 제외한 나머지 5개의 cluster에 대해 출고량이 높다고 판단\n",
        "df_Sales_high = df.query(\"Sale_rating > 0\") #상위 14.34 %\n",
        "df_Sales_low = df.query('Sale_rating == 0') #상위 85.43 %\n",
        "\n",
        "#출고량이 높다는 기준 정의\n",
        "rate = (df_Sales_high.shape[0] / (df.shape[0])) * 100\n",
        "print(\"'높은 출고량'에 대한 기준은 결과적으로 상위\", round(rate, 2), \"% 입니다. \\n\")\n",
        "\n",
        "#출고량이 높은 데이터 전처리\n",
        "df_Sales_high.reset_index(drop = True, inplace = True)\n",
        "df_Sales_high = df_Sales_high.drop([\"Sale_rating\", \"std_All_Sales\", \"Name\", \"Publisher\"], axis = 1, inplace = False)\n",
        "\n",
        "#확인\n",
        "df_Sales_high"
      ],
      "execution_count": null,
      "outputs": []
    },
    {
      "cell_type": "markdown",
      "metadata": {
        "id": "2V4SUuMRxwvL"
      },
      "source": [
        "### 4. 출고량이 높은 게임에 대한 분석 (플랫폼)"
      ]
    },
    {
      "cell_type": "code",
      "metadata": {
        "id": "QmonuIKXwDMx"
      },
      "source": [
        "#출고량이 높은 게임들간의 점유율을 플랫폼별로 나타내기\n",
        "#이 분석으로 최근에 시장이 선호하는 플랫폼을 알 수 있다.\n",
        "\n",
        "import seaborn as sns\n",
        "\n",
        "#출고량이 높은 게임들 간의 연도 - 플랫폼 별로 출시된 게임의 수를 DataFrame화\n",
        "df_high_Year_Plat_count = pd.crosstab(df_Sales_high.Year, df_Sales_high.Platform, margins=True)\n",
        "\n",
        "#필요없는 row제거\n",
        "df_high_Year_Plat_count_drop = df_high_Year_Plat_count.drop([\"All\"], axis = 0)\n",
        "\n",
        "#플랫폼별 점유율 계산하기 (출고량이 높은 게임들 사이에서)\n",
        "for Plat in df_high_Year_Plat_count_drop.columns:\n",
        "    df_high_Year_Plat_count_drop[Plat] = df_high_Year_Plat_count_drop[Plat] / df_high_Year_Plat_count_drop[\"All\"]\n",
        "\n",
        "#필요없는 column 제거\n",
        "df_high_Year_Plat_count_drop2 = df_high_Year_Plat_count_drop.drop([\"All\"], axis = 1)\n",
        "\n",
        "#소수점 자릿수 제어\n",
        "df_high_Year_Plat_ratio = round(df_high_Year_Plat_count_drop2, 2).T\n",
        "\n",
        "#2010년 이후 데이터만 추림.\n",
        "df_high_Year_Plat_ratio_drop = df_high_Year_Plat_ratio.drop(df_high_Year_Plat_ratio.columns[:29], axis = 1)\n",
        "\n",
        "#시각화\n",
        "plt.rcParams[\"figure.figsize\"] = (15, 10)\n",
        "sns.heatmap(df_high_Year_Plat_ratio_drop,\n",
        "           annot = True, #실제 값 화면에 나타내기\n",
        "           cmap = 'Greens', #색상\n",
        "           vmin = 0, vmax = 0.5 , #컬러차트 영역\n",
        "           )"
      ],
      "execution_count": null,
      "outputs": []
    },
    {
      "cell_type": "code",
      "metadata": {
        "id": "tDxmJo539PAo"
      },
      "source": [
        "#주목하지 않아도 되는 platform제거 (다음분기에 설계할 게임의 플랫폼의 후보에서 제외)\n",
        "df_high_Year_Plat_ratio_drop2 = df_high_Year_Plat_ratio_drop.drop([\"2600\", \"3DO\", \"DC\", \"GB\", \"GBA\", \"GC\",\n",
        "                                                                   \"GEN\", \"N64\", \"NES\", \"NG\", \"PS\", \"PSP\",\n",
        "                                                                   \"PSV\", \"SAT\", \"SNES\", \"TG16\", \"WS\", \"XB\"], axis = 0, inplace = False)\n",
        "\n",
        "#다시 시각화\n",
        "plt.rcParams[\"figure.figsize\"] = (15, 10)\n",
        "sns.heatmap(df_high_Year_Plat_ratio_drop2,\n",
        "           annot = True, #실제 값 화면에 나타내기\n",
        "           cmap = 'Greens', #색상\n",
        "           vmin = 0, vmax = 0.5 , #컬러차트 영역\n",
        "           )\n",
        "\n",
        "plt.show()"
      ],
      "execution_count": null,
      "outputs": []
    },
    {
      "cell_type": "code",
      "metadata": {
        "id": "Cl6LVEPNe_x9"
      },
      "source": [
        "#진한 Heatmap은 그 플랫폼이 현재 시장의 관심을 받고 있음을 뜻한다.\n",
        "#최근에는 PS4, XOne, WiiU, X360 순으로 시장의 관심을 받고 있다고 해석할 수 있다."
      ],
      "execution_count": null,
      "outputs": []
    },
    {
      "cell_type": "code",
      "metadata": {
        "id": "t3iwhSFbsLim"
      },
      "source": [
        "#출고량이 높은 게임이 전체시장에서 차지하는 비율을 플랫폼 별로 나타내기\n",
        "#이 분석으로 특정 플랫폼을 출시했을 때 출고량이 높은 비중이 어느정도 차지하는지를 알 수 있음. (여러 요인이 있겠지만 출고량으로만 분석했을 때)\n",
        "\n",
        "#출고량이 높은 게임들의 연도-플랫폼별 게임수와 전체 시장에서 연도-플랫폼별 게임수를 DataFrame화\n",
        "df_high_Year_Plat_count = pd.crosstab(df_Sales_high.Year, df_Sales_high.Platform, margins=True)\n",
        "df_Year_Plat_count = pd.crosstab(df.Year, df.Platform, margins=True)\n",
        "\n",
        "#출고량이 높은 게임이 전체시장에서 차지하는 비율을 계산하기\n",
        "df_high_Year_Plat_ratio_1 = df_high_Year_Plat_count / df_Year_Plat_count\n",
        "\n",
        "#2010년 이후 데이터만 추림\n",
        "df_high_Year_Plat_ratio2 = df_high_Year_Plat_ratio_1.T.drop(df_high_Year_Plat_ratio_1.T.columns[:30], axis = 1)\n",
        "\n",
        "#필요없는 row, column 제거\n",
        "df_high_Year_Plat_ratio2.drop([\"All\"], axis = 1, inplace = True)\n",
        "df_high_Year_Plat_ratio2.drop([\"All\"], axis = 0, inplace = True)\n",
        "df_high_Year_Plat_ratio2.drop([\"2600\", \"3DO\", \"DC\", \"GB\", \"GBA\", \"GC\",\n",
        "                               \"GEN\", \"N64\", \"NES\", \"NG\", \"PS\", \"PSP\",\n",
        "                               \"PSV\", \"SAT\", \"SNES\", \"TG16\", \"WS\", \"XB\", \"GG\", \"PCFX\", \"SCD\"],axis = 0, inplace = True)\n",
        "\n",
        "#결측치 처리\n",
        "df_high_Year_Plat_ratio2.fillna(0)\n",
        "\n",
        "#시각화\n",
        "plt.rcParams[\"figure.figsize\"] = (10, 10)\n",
        "sns.heatmap(df_high_Year_Plat_ratio2,\n",
        "           annot = True, #실제 값 화면에 나타내기\n",
        "           cmap = 'Greens', #색상\n",
        "           vmin = 0, vmax = 0.4 , #컬러차트 영역\n",
        "           )"
      ],
      "execution_count": null,
      "outputs": []
    },
    {
      "cell_type": "code",
      "metadata": {
        "id": "dOq01jhCkodn"
      },
      "source": [
        "#진한 heatmap은 그 플랫폼을 기반으로 한 게임을 출시했을 때 높은 출고량인 게임의 수가 많다는 것을 뜻함.\n",
        "#WiiU, X360, PS4 순으로 해당 플랫폼을 기반으로 출시했을 때 높은 출고량인 게임의 수가 많다."
      ],
      "execution_count": null,
      "outputs": []
    },
    {
      "cell_type": "code",
      "metadata": {
        "id": "F4tOK2IQm_Ki"
      },
      "source": [
        "#그래서 어떤 플랫폼을 기반으로 하는 게임을 설계?\n",
        "#종합해보면 압도적인 시장의 선호도를 가지는 PS4와 지금은 높은 출고량의 갖는 게임에 대한 점유율이 낮지만 유망있는 블루오션으로 보여지는 WiiU, X360, XONE 정도로 추릴 수 있겠다.\n",
        "#요약: PS4, WiiU, X360, XONE순"
      ],
      "execution_count": null,
      "outputs": []
    },
    {
      "cell_type": "markdown",
      "metadata": {
        "id": "egaTurN93R0p"
      },
      "source": [
        "### 5. 출고량이 높은 게임에 대한 분석 (장르)"
      ]
    },
    {
      "cell_type": "code",
      "metadata": {
        "id": "zLFd0LixVGG_"
      },
      "source": [
        "#출고량이 높은 게임들간의 점유율을 장르별로 나타내기\n",
        "#이 분석으로 최근에 시장이 선호하는 장르를 알 수 있다.\n",
        "\n",
        "import seaborn as sns\n",
        "\n",
        "#출고량이 높은 게임들 간의 연도 - 장르별로 출시된 게임의 수를 DataFrame화\n",
        "df_high_Year_Genre_count = pd.crosstab(df_Sales_high.Year, df_Sales_high.Genre, margins=True)\n",
        "\n",
        "#필요없는 row제거\n",
        "df_high_Year_Genre_count_drop = df_high_Year_Genre_count.drop([\"All\"], axis = 0)\n",
        "\n",
        "#장르별 점유율 계산하기 (출고량이 높은 게임들 사이에서)\n",
        "for Plat in df_high_Year_Genre_count_drop.columns:\n",
        "    df_high_Year_Genre_count_drop[Plat] = df_high_Year_Genre_count_drop[Plat] / df_high_Year_Genre_count_drop[\"All\"]\n",
        "\n",
        "#필요없는 column 제거\n",
        "df_high_Year_Genre_count_drop2 = df_high_Year_Genre_count_drop.drop([\"All\"], axis = 1)\n",
        "\n",
        "#소수점 자리수 제어\n",
        "df_high_Year_Genre_ratio = round(df_high_Year_Genre_count_drop2, 2).T\n",
        "\n",
        "#2010년 이후 데이터만 추림\n",
        "df_high_Year_Genre_ratio_drop = df_high_Year_Genre_ratio.drop(df_high_Year_Genre_ratio.columns[:29], axis = 1)\n",
        "\n",
        "#시각화\n",
        "plt.rcParams[\"figure.figsize\"] = (15, 10)\n",
        "sns.heatmap(df_high_Year_Genre_ratio_drop,\n",
        "           annot = True, #실제 값 화면에 나타내기\n",
        "           cmap = 'Greens', #색상\n",
        "           vmin = 0, vmax = 0.3 , #컬러차트 영역\n",
        "           )"
      ],
      "execution_count": null,
      "outputs": []
    },
    {
      "cell_type": "code",
      "metadata": {
        "id": "uFs0_cpdotvI"
      },
      "source": [
        "#진한 Heatmap은 그 장르가 현재 시장의 관심을 받고 있음을 뜻한다.\n",
        "#최근에는 Action, Shooter, Role-Playing 순으로 시장의 관심을 받고 있다고 해석할 수 있다.\n",
        "#+ Sports의 경우 시장점유율은 높지만 높은 출고량을 갖는 게임이 별로 없는 것으로 보아 출시된 게임수는 많지만 다들 성적이 고만고만하다고 추측할 수 있다.(바다로 밑에서 할 분석에서 검증가능)"
      ],
      "execution_count": null,
      "outputs": []
    },
    {
      "cell_type": "code",
      "metadata": {
        "id": "NLq5W41al_Vu"
      },
      "source": [
        "#출고량이 높은 게임이 전체시장에서 차지하는 비율을 장르별로 나타내기\n",
        "#이 분석으로 특정 장르의 게임을 출시했을 때 출고량이 높은 비중이 어느정도 차지하는지를 알 수 있음. (여러 요인이 있겠지만 출고량으로만 분석했을 때)\n",
        "#플랫폼이 아니기 때문에 이는 곧 그 장르에서의 경쟁률를 의미함. (낮을수록 경쟁률이 높음을 의미)\n",
        "#그리고 위에서 분석한 시장의 장르를 결합해서 해석하면 해당 장르가 현재 레드오션인지, 블루오션인지, 유행하는지 알 수 있음.\n",
        "\n",
        "#출고량이 높은 게임들의 연도-장르별 게임수와 전체 시장에서 연도-장르별 게임수를 DataFrame화 \n",
        "df_Year_Genre_count = pd.crosstab(df.Year, df.Genre, margins=True)\n",
        "df_high_Plat_Genre_count = pd.crosstab(df_Sales_high.Platform, df_Sales_high.Genre, margins=True)\n",
        "\n",
        "#출고량이 높은 게임이 전체 시장에서 차지하는 비율을 계산하기\n",
        "df_high_Year_Genre_ratio_1 = df_high_Year_Genre_count / df_Year_Genre_count\n",
        "\n",
        "#2010년 이후 데이터만 추림\n",
        "df_high_Year_Genre_ratio2 = df_high_Year_Genre_ratio_1.T.drop(df_high_Year_Genre_ratio_1.T.columns[:30], axis = 1)\n",
        "\n",
        "#필요없는 row, column 제거\n",
        "df_high_Year_Genre_ratio2.drop([\"All\"], axis = 1, inplace = True)\n",
        "df_high_Year_Genre_ratio2.drop([\"All\"], axis = 0, inplace = True)\n",
        "\n",
        "#결측치 처리\n",
        "df_high_Year_Genre_ratio2.fillna(0)\n",
        "\n",
        "#시각화\n",
        "plt.rcParams[\"figure.figsize\"] = (15, 10)\n",
        "sns.heatmap(df_high_Year_Genre_ratio2,\n",
        "           annot = True, #실제 값 화면에 나타내기\n",
        "           cmap = 'Greens', #색상\n",
        "           vmin = 0, vmax = 0.3 , #컬러차트 영역\n",
        "           )"
      ],
      "execution_count": null,
      "outputs": []
    },
    {
      "cell_type": "code",
      "metadata": {
        "id": "cd9LUUO6qRZn"
      },
      "source": [
        "#Heatmap이 진할수록 경쟁률이 낮음을 뜻함.\n",
        "#위에서 한 분석과 결합해 해석해보면 Action장르는 현재 레드오션, Shooter장르는 유행하며, Platform, fighting장르는 블루오션이라고 해석 할 수 있음."
      ],
      "execution_count": null,
      "outputs": []
    },
    {
      "cell_type": "code",
      "metadata": {
        "id": "B2hVGnJqqxvf"
      },
      "source": [
        "#그래서 어떤 장르의 게임을 설계?\n",
        "#종합해보면 최근 게임 장르 선호도도 어느정도 높으며 상승추세이고 아직 레드오션 구간에 진입하지 않은 Shooter 장르가 권장됨.\n",
        "#요약: Shooter"
      ],
      "execution_count": null,
      "outputs": []
    },
    {
      "cell_type": "markdown",
      "metadata": {
        "id": "RoES1XHJsQsJ"
      },
      "source": [
        "### 6. 장르와 플랫폼의 연관성 고려\n",
        "장르는 결정했지만 플랫폼은 아직이다.\n",
        "\n",
        "장르(Shooter)가 어떤 플랫폼과 주로 연관이 있는지 알아볼 필요가 있다."
      ]
    },
    {
      "cell_type": "code",
      "metadata": {
        "id": "6AJJr49PtG3b"
      },
      "source": [
        "#Shooter장르 게임의 지역별 출고량합을 플랫폼 별로 나타내기 (2010년 이후)\n",
        "Shooter = df.groupby([\"Year\",\"Genre\", \"Platform\"]).sum()\n",
        "df_Shooter = pd.DataFrame(Shooter.loc[2010:, \"All_Sales\"])\n",
        "df_Shooter2 = df_Shooter.reset_index(level = 0, drop = True)\n",
        "df_Shooter3 = df_Shooter2.loc[[\"Shooter\"]]\n",
        "df_Shooter4 = df_Shooter3.reset_index(drop = False)\n",
        "\n",
        "df_Shooter_Plat = df_Shooter4.groupby([\"Platform\"])[\"All_Sales\"].sum()\n",
        "\n",
        "#시각화\n",
        "df_Shooter_Plat.plot(kind = \"bar\")"
      ],
      "execution_count": null,
      "outputs": []
    },
    {
      "cell_type": "code",
      "metadata": {
        "id": "UkOfEytAxc8S"
      },
      "source": [
        "#Shooter 장르는 PS3과 X360플랫폼에 특화된 것을 확인 할 수 있다.\n",
        "#현재 PS3는 단종되었고, 앞서 선정한 플랫폼 후보군에도 있는 X360 플랫폼을 기반으로 출시하는게 권장된다.\n",
        "\n",
        "#그리고 앞에서 분석한 자료를 이용해 최근 Shooter 장르의 지역별 출고량까지 종합한다면 북미와 유럽지역에서 출시할 것을 권장한다."
      ],
      "execution_count": null,
      "outputs": []
    },
    {
      "cell_type": "markdown",
      "metadata": {
        "id": "WaW2yX8LyiLc"
      },
      "source": [
        "### 7. 결론\n",
        "    지역: 북미, 유럽\n",
        "    장르: Shooter\n",
        "    플랫폼: X360"
      ]
    }
  ]
}