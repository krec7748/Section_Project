{
  "nbformat": 4,
  "nbformat_minor": 0,
  "metadata": {
    "colab": {
      "name": "AI_05_김도욱_Section_1.ipynb",
      "private_outputs": true,
      "provenance": []
    },
    "kernelspec": {
      "name": "python3",
      "display_name": "Python 3"
    },
    "language_info": {
      "name": "python"
    }
  },
  "cells": [
    {
      "cell_type": "markdown",
      "metadata": {
        "id": "BgnOrcJu8IcP"
      },
      "source": [
        "# <Section 01 Project: 다음 분기에 어떤 게임을 설계해야 할까?>\n"
      ]
    },
    {
      "cell_type": "code",
      "metadata": {
        "id": "AqgFFt6F8CaI"
      },
      "source": [
        "#다음 분기에 출고량이 높을 것이라 예상되는 게임\n",
        "#게임 설계를 \"어떤 플랫폼\"을 기반으로 \"어떤 장르\"로 해야 출고량이 높을지 분석"
      ],
      "execution_count": null,
      "outputs": []
    },
    {
      "cell_type": "markdown",
      "metadata": {
        "id": "2D1Ha5taCSDK"
      },
      "source": [
        "## 1. 전처리"
      ]
    },
    {
      "cell_type": "code",
      "metadata": {
        "id": "00ejzxhyCchw"
      },
      "source": [
        "import pandas as pd\n",
        "import numpy as np\n",
        "\n",
        "def int_to_year(num):\n",
        "    this_year = 21 #2021년도\n",
        "    if num < 0 or num == np.nan:\n",
        "        return num.replace(num, np.nan)\n",
        "    elif num < this_year:\n",
        "        return int(num) + 2000\n",
        "    elif num < 100:\n",
        "        return int(num) + 1900\n",
        "    else:\n",
        "        return int(num)\n",
        "\n",
        "def convert_str_to_number(string):\n",
        "    if \"K\" in string:\n",
        "        return float(string.replace(\"K\", \"\")) * (10**3)\n",
        "    elif \"M\" in string:\n",
        "        return float(string.replace(\"M\", \"\")) * (10**6)\n",
        "    else:\n",
        "        return float(string) * (10**6)\n",
        "\n",
        "#csv파일 읽기\n",
        "df = pd.read_csv(\"https://ds-lecture-data.s3.ap-northeast-2.amazonaws.com/datasets/vgames2.csv\")\n",
        "df.drop([\"Unnamed: 0\"], axis = 1, inplace = True)\n",
        "\n",
        "#데이터에서 결측치가 포함된 row제거 (361개, 전체 데이터의 약 2.71% 에 해당)\n",
        "df.dropna(axis = 0, inplace = True) #결측치 제거\n",
        "\n",
        "#출고량 데이터들을 수치형 데이터로 변환\n",
        "df[\"Year\"] = df[\"Year\"].apply(int_to_year)\n",
        "for Sales in [\"NA_Sales\", \"EU_Sales\", \"JP_Sales\", \"Other_Sales\"]:\n",
        "    df[Sales] = df[Sales].apply(convert_str_to_number)\n",
        "\n",
        "#인덱스 reset\n",
        "df.reset_index(drop = True, inplace = True)\n",
        "\n",
        "#2017, 2020년 데이터들은 데이터수가 적어 신뢰성이 부족해 제거함.\n",
        "del_index = df[(df[\"Year\"] == 2017) | (df[\"Year\"] == 2020)].index\n",
        "df = df.drop(del_index) \n",
        "\n",
        "#확인\n",
        "df.info()\n",
        "df"
      ],
      "execution_count": null,
      "outputs": []
    },
    {
      "cell_type": "markdown",
      "metadata": {
        "id": "QIJlRL13VOJU"
      },
      "source": [
        "## 2. 분석"
      ]
    },
    {
      "cell_type": "markdown",
      "metadata": {
        "id": "bbRecksaWD22"
      },
      "source": [
        "### 1. \"**지역**\"과 \"**선호하는 게임장르**\"는 연관이 있을것인가?\n",
        "= 위 물음에 답하기 위해 Chi-square test을 사용할 수 있음.\n",
        "\n",
        "    (1) 귀무가설: 출고량에 대해 지역과 게임장르는 서로 연관이 없을 것이다. (독립적 O)\n",
        "    (2) 대안가설: 출고량에 대해 지역과 게임장르는 서로 연관이 있을 것이다. (독립적 X)\n",
        "    (3) 신뢰도: 95 %"
      ]
    },
    {
      "cell_type": "code",
      "metadata": {
        "id": "mj98dRD0y-2L"
      },
      "source": [
        "df_Genre_sales = df.drop([\"Name\", \"Platform\", \"Publisher\"], axis = 1, inplace = False)\n",
        "df_Genre_sales.head()"
      ],
      "execution_count": null,
      "outputs": []
    },
    {
      "cell_type": "code",
      "metadata": {
        "id": "SeRvz0gXkrKK"
      },
      "source": [
        "df_Year_Genre_Sales = df_Genre_sales.groupby([\"Year\", \"Genre\"])[[\"NA_Sales\", \"EU_Sales\", \"JP_Sales\", \"Other_Sales\"]].sum()\n",
        "\n",
        "df_Year_Genre_Sales.reset_index(drop = False, inplace = True)\n",
        "\n",
        "df_Year_Genre_Sales.head()"
      ],
      "execution_count": null,
      "outputs": []
    },
    {
      "cell_type": "code",
      "metadata": {
        "id": "VoH7cqK75ok8"
      },
      "source": [
        "'''\n",
        "df_year_sales = df.drop([\"Name\", \"Platform\", \"Genre\", \"Publisher\"], axis = 1, inplace = False)\n",
        "Year_Region_sum_list = []\n",
        "for Sales in [\"NA_Sales\", \"EU_Sales\", \"JP_Sales\", \"Other_Sales\"]:\n",
        "    Year_sum = df_year_sales[Sales].groupby(df_year_sales[\"Year\"]).sum()\n",
        "    Year_Region_sum_list.append(Year_sum)\n",
        "\n",
        "df_Year_Region_sum = pd.concat(Year_Region_sum_list, axis = 1)\n",
        "df_Year_Region_sum.head()\n",
        "'''"
      ],
      "execution_count": null,
      "outputs": []
    },
    {
      "cell_type": "code",
      "metadata": {
        "id": "Uv89S-gyn1jy"
      },
      "source": [
        "#2 sample chi-square test (지역 - 장르의 연관성)\n",
        "from scipy import stats\n",
        "\n",
        "p_value_list = []\n",
        "for i in range(1980, 2017, 1):\n",
        "    sort = df_Year_Genre_Sales.loc[df_Year_Genre_Sales[\"Year\"] == i]\n",
        "    sort.index = sort[\"Genre\"]\n",
        "    sort_drop = sort.drop([\"Year\", \"Genre\"], axis = 1, inplace = False)\n",
        "    for j in sort_drop.columns:\n",
        "        if sort_drop[j].sum() == 0:\n",
        "            sort_drop.drop([j], axis = 1, inplace = True)\n",
        "    chi = stats.chi2_contingency(sort_drop, correction = False)\n",
        "    pv = chi[1]\n",
        "    p_value_list.append(pv)\n",
        "\n",
        "df_p_value = pd.DataFrame(p_value_list, columns = [\"p_value\"])\n",
        "df_p_value.index = range(1980, 2017, 1)\n",
        "df_p_value.head()"
      ],
      "execution_count": null,
      "outputs": []
    },
    {
      "cell_type": "code",
      "metadata": {
        "id": "I7_Lsps1MApd"
      },
      "source": [
        " df_p_value.query(\"p_value < 0.05\").shape[0] / df_p_value.shape[0]\n",
        " #모든 연도에서 귀무가설이 기각됨\n",
        " #출고량에 대해서 지역과 장르는 연관이 있다고 볼 수 있다."
      ],
      "execution_count": null,
      "outputs": []
    },
    {
      "cell_type": "markdown",
      "metadata": {
        "id": "SYR2XTALrm22"
      },
      "source": [
        "### 2. 연도에 따른 장르별 시장점유율\n",
        "- 연도별 게임의 트렌드를 알 수 있다."
      ]
    },
    {
      "cell_type": "code",
      "metadata": {
        "id": "eT0lxE-xim-o"
      },
      "source": [
        "#연도별 게임장르의 트렌드 분석"
      ],
      "execution_count": null,
      "outputs": []
    },
    {
      "cell_type": "code",
      "metadata": {
        "id": "8wey6LOhYl0c"
      },
      "source": [
        "#필요없는 column 제거\n",
        "df_year_sales = df.drop([\"Name\", \"Platform\", \"Genre\", \"Publisher\"], axis = 1, inplace = False)\n",
        "\n",
        "#확인\n",
        "df_year_sales.head()"
      ],
      "execution_count": null,
      "outputs": []
    },
    {
      "cell_type": "code",
      "metadata": {
        "id": "zeoZ4XilZXjd"
      },
      "source": [
        "#지역별 출고량의 합을 연도별로 구하기\n",
        "Year_Region_sum_list = []\n",
        "for Sales in [\"NA_Sales\", \"EU_Sales\", \"JP_Sales\", \"Other_Sales\"]:\n",
        "    Year_sum = df_year_sales[Sales].groupby(df_year_sales[\"Year\"]).sum()\n",
        "    Year_Region_sum_list.append(Year_sum)\n",
        "\n",
        "df_Year_Region_sum = pd.concat(Year_Region_sum_list, axis = 1)\n",
        "df_Year_Region_sum[\"All_Sales\"] = df_Year_Region_sum.sum(axis = 1)\n",
        "\n",
        "df_Year_Region_All_Sales = df_Year_Region_sum[\"All_Sales\"]\n",
        "df_Year_Region_sum.head()"
      ],
      "execution_count": null,
      "outputs": []
    },
    {
      "cell_type": "code",
      "metadata": {
        "id": "m37yK03Giq57"
      },
      "source": [
        "#지역별 출고량 합\n",
        "df[\"All_Sales\"] = df[\"NA_Sales\"] + df[\"EU_Sales\"] + df[\"JP_Sales\"] + df[\"Other_Sales\"]\n",
        "\n",
        "#필요없는 column제거\n",
        "df_Year_Genre = df.drop([\"Name\", \"Platform\", \"Publisher\", \"NA_Sales\", \"EU_Sales\", \"JP_Sales\", \"Other_Sales\"], axis = 1, inplace = False)\n",
        "\n",
        "#확인\n",
        "df_Year_Genre.head()"
      ],
      "execution_count": null,
      "outputs": []
    },
    {
      "cell_type": "code",
      "metadata": {
        "id": "OMB_TLzFkajg"
      },
      "source": [
        "#연도에 따른 장르별 시장점유율 구하기\n",
        "\n",
        "#그룹화 (연도-장르, 지역별 출고량 합)\n",
        "Year_Genre_sum = df_Year_Genre.groupby([\"Year\", \"Genre\"])[\"All_Sales\"].sum()\n",
        "\n",
        "#출고율 구해서 백분율로 변환\n",
        "Year_Genre_ratio = Year_Genre_sum / df_Year_Region_All_Sales\n",
        "df_Year_Genre_ratio = pd.DataFrame(Year_Genre_ratio)\n",
        "df_Year_Genre_ratio = df_Year_Genre_ratio * 100 #백분율\n",
        "\n",
        "#확인\n",
        "df_Year_Genre_ratio"
      ],
      "execution_count": null,
      "outputs": []
    },
    {
      "cell_type": "code",
      "metadata": {
        "id": "xcAzqciSn9ff"
      },
      "source": [
        "#연도에 따른 장르별 시장점유율 구하기 (시각화)\n",
        "import matplotlib.pyplot as plt\n",
        "\n",
        "#색 List\n",
        "colors = [\"tab:blue\", \"tab:orange\", \"tab:green\", \"tab:red\", \"tab:purple\", \"tab:brown\", \"tab:pink\", \"tab:gray\", \"tab:olive\", \"tab:cyan\", \"tan\", \"slateblue\"]\n",
        "\n",
        "df_Year_Genre_ratio.unstack().plot(kind = 'line',\n",
        "                                   fontsize = 8,\n",
        "                                   figsize = (7, 13),\n",
        "                                   color = colors,\n",
        "                                   subplots = True,\n",
        "                                   ylim = [0, 40],\n",
        "                                   grid = True,\n",
        "                                   xlabel = \"Year\",\n",
        "                                   ylabel = \"Share(%)\")\n",
        "\n",
        "plt.show()"
      ],
      "execution_count": null,
      "outputs": []
    },
    {
      "cell_type": "markdown",
      "metadata": {
        "id": "Z8EH_4SBupgi"
      },
      "source": [
        "### 3. 장르별 출고율에 대한 선형회귀 분석\n",
        "- (분석을 하다보니 Section 2에서 배울 내용을 포함시켜 PPT에서는 다루지 않았다.)\n",
        "- 어떤 장르가 단위 게임수(1개) 당 출고량이 많은지를 1차 선형회귀 함수의 기울기를 통해 알 수 있다. "
      ]
    },
    {
      "cell_type": "code",
      "metadata": {
        "id": "j8vbT19pDrqS"
      },
      "source": [
        "#연도-장르별 출고량 합 과 연도-장르별 출시된 게임수\n",
        "\n",
        "df_Year_Genre_sum = pd.DataFrame(Year_Genre_sum)\n",
        "\n",
        "Year_Genre_count = df_Year_Genre.groupby([\"Year\", \"Genre\"])[\"Genre\"].count()\n",
        "df_Year_Genre_count = pd.DataFrame(Year_Genre_count)\n",
        "\n",
        "df_Year_Genre_sum[\"Count\"] = df_Year_Genre_count[\"Genre\"]\n",
        "\n",
        "#index(연도)를 제거\n",
        "df_Year_Genre_sum.reset_index(level = 0, drop = True, inplace = True)\n",
        "\n",
        "#확인\n",
        "df_Year_Genre_sum"
      ],
      "execution_count": null,
      "outputs": []
    },
    {
      "cell_type": "code",
      "metadata": {
        "id": "wPv096LNDWt1"
      },
      "source": [
        "from sklearn.preprocessing import StandardScaler\n",
        "import seaborn as sns\n",
        "\n",
        "labels = df_Year_Genre_sum.index\n",
        "\n",
        "standard_df_Year_Genre = StandardScaler().fit_transform(df_Year_Genre_sum)\n",
        "df_standard_Year_Genre = pd.DataFrame(standard_df_Year_Genre, columns = [\"All_Sales\", \"Count\"])\n",
        "\n",
        "df_standard_Year_Genre[\"Labels\"] = labels\n",
        "\n",
        "#시각화\n",
        "sns.lmplot(x = 'Count',\n",
        "           y = 'All_Sales',\n",
        "           hue = 'Labels',\n",
        "           #col = 'Labels',\n",
        "           line_kws={'label':\"tip\"},\n",
        "           data = df_standard_Year_Genre,\n",
        "           #col_wrap = 3,\n",
        "           order = 1)"
      ],
      "execution_count": null,
      "outputs": []
    },
    {
      "cell_type": "code",
      "metadata": {
        "id": "jOk9YPYTv5LK"
      },
      "source": [
        "#어떤 장르가 단위 게임수(1개)당 출고량이 높은지를 알 수있다. (기울기가 큰 것일수록 더 높다.)"
      ],
      "execution_count": null,
      "outputs": []
    },
    {
      "cell_type": "markdown",
      "metadata": {
        "id": "8dGN_KAUwWj8"
      },
      "source": [
        "### 4. 출고량이 높은 게임에 대해 기준 설정 및 전처리"
      ]
    },
    {
      "cell_type": "code",
      "metadata": {
        "id": "--L6zi4NKiib"
      },
      "source": [
        "#K-means clustering을 이용할 것임.\n",
        "#Elbow method를 이용해 적절한 K값을 결정\n",
        "\n",
        "from sklearn.preprocessing import StandardScaler\n",
        "from sklearn.cluster import KMeans\n",
        "\n",
        "df_Total_Sales = df[[\"All_Sales\"]]\n",
        "scaler = StandardScaler()\n",
        "df_Total_Sales_standard = scaler.fit_transform(df_Total_Sales)\n",
        "\n",
        "sum_of_squared_distances = []\n",
        "K = range(1, 15)\n",
        "for k in K:\n",
        "    km = KMeans(n_clusters = k)\n",
        "    km = km.fit(df_Total_Sales_standard)\n",
        "    sum_of_squared_distances.append(km.inertia_)\n",
        "\n",
        "plt.plot(K, sum_of_squared_distances, 'bx-')\n",
        "plt.xlabel('k')\n",
        "plt.ylabel('Sum_of_squared_distances')\n",
        "plt.title('Elbow Method For Optimal k')\n",
        "plt.show() #k값은 6"
      ],
      "execution_count": null,
      "outputs": []
    },
    {
      "cell_type": "code",
      "metadata": {
        "id": "8Me6yEtNitCR"
      },
      "source": [
        "#표준화 및 K-means clustering 진행\n",
        "\n",
        "#지역별 출고량의 합에 대해서 표준화 진행 (Feature 1개)\n",
        "scaler = StandardScaler()\n",
        "All_Sales_std = scaler.fit_transform(df[[\"All_Sales\"]])\n",
        "df_All_Sales_std = pd.DataFrame(All_Sales_std, columns = [\"std_All_Sales\"])\n",
        "\n",
        "#K-mean clustering\n",
        "kmeans = KMeans(n_clusters = 6, random_state = 7)\n",
        "kmeans.fit(df_All_Sales_std)\n",
        "K_labels = kmeans.labels_\n",
        "df_cluster = pd.DataFrame(K_labels, columns = [\"Sale_rating\"])\n",
        "\n",
        "df[\"std_All_Sales\"] = df_All_Sales_std[\"std_All_Sales\"]\n",
        "df[\"Sale_rating\"] = df_cluster[\"Sale_rating\"]"
      ],
      "execution_count": null,
      "outputs": []
    },
    {
      "cell_type": "code",
      "metadata": {
        "id": "S7DoECYnjO3p"
      },
      "source": [
        "#K-means clustering 결과 이미지로 구현\n",
        "plt.rcParams[\"figure.figsize\"] = (7, 7)\n",
        "#plt.rcParams[\"figure.figsize\"] = (5, 200) #더 자세히 볼 수있음.\n",
        "sns.scatterplot(x = \"Year\", y = \"std_All_Sales\", hue = \"Sale_rating\", data = df)"
      ],
      "execution_count": null,
      "outputs": []
    },
    {
      "cell_type": "code",
      "metadata": {
        "id": "Ia66WdTHP4eh"
      },
      "source": [
        "#결과에 따라 출고량이 높다고 판단되는 데이터들 분류\n",
        "df_Sales_high = df.query(\"Sale_rating > 0\") #상위 14.34 %\n",
        "df_Sales_low = df.query('Sale_rating == 0') #상위 85.43 %\n",
        "\n",
        "#출고량이 높다는 기준 정의\n",
        "rate = (df_Sales_high.shape[0] / (df.shape[0])) * 100\n",
        "print(\"'높은 출고량'에 대한 기준을 출고량의 상위\", round(rate, 2), \"% 로 두었습니다. \\n\")\n",
        "\n",
        "#출고량이 높은 데이터 전처리\n",
        "df_Sales_high.reset_index(drop = True, inplace = True)\n",
        "df_Sales_high = df_Sales_high.drop([\"Sale_rating\", \"std_All_Sales\", \"Name\", \"Publisher\"], axis = 1, inplace = False)\n",
        "\n",
        "#확인\n",
        "df_Sales_high"
      ],
      "execution_count": null,
      "outputs": []
    },
    {
      "cell_type": "markdown",
      "metadata": {
        "id": "2V4SUuMRxwvL"
      },
      "source": [
        "### 5. 출고량이 높은 게임에 대한 분석 (플랫폼)"
      ]
    },
    {
      "cell_type": "code",
      "metadata": {
        "id": "QmonuIKXwDMx"
      },
      "source": [
        "#출고량이 높은 게임들간의 점유율을 플랫폼별로 나타내기\n",
        "\n",
        "import seaborn as sns\n",
        "\n",
        "#출고량이 높은 게임들 간의 연도 - 플랫폼 별로 출시된 게임의 수를 DataFrame화\n",
        "df_high_Year_Plat_count = pd.crosstab(df_Sales_high.Year, df_Sales_high.Platform, margins=True)\n",
        "\n",
        "#필요없는 row제거\n",
        "df_high_Year_Plat_count_drop = df_high_Year_Plat_count.drop([\"All\"], axis = 0)\n",
        "\n",
        "#플랫폼별 점유율 계산하기 (출고량이 높은 게임들 사이에서)\n",
        "for Plat in df_high_Year_Plat_count_drop.columns:\n",
        "    df_high_Year_Plat_count_drop[Plat] = df_high_Year_Plat_count_drop[Plat] / df_high_Year_Plat_count_drop[\"All\"]\n",
        "\n",
        "#필요없는 column 제거\n",
        "df_high_Year_Plat_count_drop2 = df_high_Year_Plat_count_drop.drop([\"All\"], axis = 1)\n",
        "\n",
        "#소수점 자릿수 제어\n",
        "df_high_Year_Plat_ratio = round(df_high_Year_Plat_count_drop2, 2).T\n",
        "\n",
        "#2010년 이후 데이터만 추림.\n",
        "df_high_Year_Plat_ratio_drop = df_high_Year_Plat_ratio.drop(df_high_Year_Plat_ratio.columns[:29], axis = 1)\n",
        "\n",
        "#시각화\n",
        "plt.rcParams[\"figure.figsize\"] = (15, 10)\n",
        "sns.heatmap(df_high_Year_Plat_ratio_drop,\n",
        "           annot = True, #실제 값 화면에 나타내기\n",
        "           cmap = 'Greens', #색상\n",
        "           vmin = 0, vmax = 0.5 , #컬러차트 영역\n",
        "           )"
      ],
      "execution_count": null,
      "outputs": []
    },
    {
      "cell_type": "code",
      "metadata": {
        "id": "tDxmJo539PAo"
      },
      "source": [
        "#주목하지 않아도 되는 platform제거 (다음분기에 설계할 게임의 플랫폼의 후보에서 제외)\n",
        "df_high_Year_Plat_ratio_drop2 = df_high_Year_Plat_ratio_drop.drop([\"2600\", \"3DO\", \"DC\", \"GB\", \"GBA\", \"GC\",\n",
        "                                                                   \"GEN\", \"N64\", \"NES\", \"NG\", \"PS\", \"PSP\",\n",
        "                                                                   \"PSV\", \"SAT\", \"SNES\", \"TG16\", \"WS\", \"XB\"], axis = 0, inplace = False)\n",
        "\n",
        "#다시 시각화\n",
        "plt.rcParams[\"figure.figsize\"] = (15, 10)\n",
        "sns.heatmap(df_high_Year_Plat_ratio_drop2,\n",
        "           annot = True, #실제 값 화면에 나타내기\n",
        "           cmap = 'Greens', #색상\n",
        "           vmin = 0, vmax = 0.5 , #컬러차트 영역\n",
        "           )\n",
        "\n",
        "plt.show()"
      ],
      "execution_count": null,
      "outputs": []
    },
    {
      "cell_type": "code",
      "metadata": {
        "id": "t3iwhSFbsLim"
      },
      "source": [
        "#출고량이 높은 게임이 전체시장에서 차지하는 비율을 플랫폼 별로 나타내기\n",
        "\n",
        "#출고량이 높은 게임들의 연도-플랫폼별 게임수와 전체 시장에서 연도-플랫폼별 게임수를 DataFrame화\n",
        "df_high_Year_Plat_count = pd.crosstab(df_Sales_high.Year, df_Sales_high.Platform, margins=True)\n",
        "df_Year_Plat_count = pd.crosstab(df.Year, df.Platform, margins=True)\n",
        "\n",
        "#출고량이 높은 게임이 전체시장에서 차지하는 비율을 계산하기\n",
        "df_high_Year_Plat_ratio_1 = df_high_Year_Plat_count / df_Year_Plat_count\n",
        "\n",
        "#2010년 이후 데이터만 추림\n",
        "df_high_Year_Plat_ratio2 = df_high_Year_Plat_ratio_1.T.drop(df_high_Year_Plat_ratio_1.T.columns[:30], axis = 1)\n",
        "\n",
        "#필요없는 row, column 제거\n",
        "df_high_Year_Plat_ratio2.drop([\"All\"], axis = 1, inplace = True)\n",
        "df_high_Year_Plat_ratio2.drop([\"All\"], axis = 0, inplace = True)\n",
        "df_high_Year_Plat_ratio2.drop([\"2600\", \"3DO\", \"DC\", \"GB\", \"GBA\", \"GC\",\n",
        "                               \"GEN\", \"N64\", \"NES\", \"NG\", \"PS\", \"PSP\",\n",
        "                               \"PSV\", \"SAT\", \"SNES\", \"TG16\", \"WS\", \"XB\", \"GG\", \"PCFX\", \"SCD\"],axis = 0, inplace = True)\n",
        "\n",
        "#결측치 처리\n",
        "df_high_Year_Plat_ratio2.fillna(0)\n",
        "\n",
        "#시각화\n",
        "plt.rcParams[\"figure.figsize\"] = (10, 10)\n",
        "sns.heatmap(df_high_Year_Plat_ratio2,\n",
        "           annot = True, #실제 값 화면에 나타내기\n",
        "           cmap = 'Greens', #색상\n",
        "           vmin = 0, vmax = 0.4 , #컬러차트 영역\n",
        "           )"
      ],
      "execution_count": null,
      "outputs": []
    },
    {
      "cell_type": "markdown",
      "metadata": {
        "id": "egaTurN93R0p"
      },
      "source": [
        "### 6. 출고량이 높은 게임에 대한 분석 (장르)"
      ]
    },
    {
      "cell_type": "code",
      "metadata": {
        "id": "zLFd0LixVGG_"
      },
      "source": [
        "#출고량이 높은 게임들간의 점유율을 장르별로 나타내기\n",
        "import seaborn as sns\n",
        "\n",
        "#출고량이 높은 게임들 간의 연도 - 장르별로 출시된 게임의 수를 DataFrame화\n",
        "df_high_Year_Genre_count = pd.crosstab(df_Sales_high.Year, df_Sales_high.Genre, margins=True)\n",
        "\n",
        "#필요없는 row제거\n",
        "df_high_Year_Genre_count_drop = df_high_Year_Genre_count.drop([\"All\"], axis = 0)\n",
        "\n",
        "#장르별 점유율 계산하기 (출고량이 높은 게임들 사이에서)\n",
        "for Plat in df_high_Year_Genre_count_drop.columns:\n",
        "    df_high_Year_Genre_count_drop[Plat] = df_high_Year_Genre_count_drop[Plat] / df_high_Year_Genre_count_drop[\"All\"]\n",
        "\n",
        "#필요없는 column 제거\n",
        "df_high_Year_Genre_count_drop2 = df_high_Year_Genre_count_drop.drop([\"All\"], axis = 1)\n",
        "\n",
        "#소수점 자리수 제어\n",
        "df_high_Year_Genre_ratio = round(df_high_Year_Genre_count_drop2, 2).T\n",
        "\n",
        "#2010년 이후 데이터만 추림\n",
        "df_high_Year_Genre_ratio_drop = df_high_Year_Genre_ratio.drop(df_high_Year_Genre_ratio.columns[:29], axis = 1)\n",
        "\n",
        "#시각화\n",
        "plt.rcParams[\"figure.figsize\"] = (15, 10)\n",
        "sns.heatmap(df_high_Year_Genre_ratio_drop,\n",
        "           annot = True, #실제 값 화면에 나타내기\n",
        "           cmap = 'Greens', #색상\n",
        "           vmin = 0, vmax = 0.3 , #컬러차트 영역\n",
        "           )"
      ],
      "execution_count": null,
      "outputs": []
    },
    {
      "cell_type": "code",
      "metadata": {
        "id": "NLq5W41al_Vu"
      },
      "source": [
        "#출고량이 높은 게임이 전체시장에서 차지하는 비율을 장르별로 나타내기\n",
        "\n",
        "#출고량이 높은 게임들의 연도-장르별 게임수와 전체 시장에서 연도-장르별 게임수를 DataFrame화 \n",
        "df_Year_Genre_count = pd.crosstab(df.Year, df.Genre, margins=True)\n",
        "df_high_Plat_Genre_count = pd.crosstab(df_Sales_high.Platform, df_Sales_high.Genre, margins=True)\n",
        "\n",
        "#출고량이 높은 게임이 전체 시장에서 차지하는 비율을 계산하기\n",
        "df_high_Year_Genre_ratio_1 = df_high_Year_Genre_count / df_Year_Genre_count\n",
        "\n",
        "#2010년 이후 데이터만 추림\n",
        "df_high_Year_Genre_ratio2 = df_high_Year_Genre_ratio_1.T.drop(df_high_Year_Genre_ratio_1.T.columns[:30], axis = 1)\n",
        "\n",
        "#필요없는 row, column 제거\n",
        "df_high_Year_Genre_ratio2.drop([\"All\"], axis = 1, inplace = True)\n",
        "df_high_Year_Genre_ratio2.drop([\"All\"], axis = 0, inplace = True)\n",
        "\n",
        "#결측치 처리\n",
        "df_high_Year_Genre_ratio2.fillna(0)\n",
        "\n",
        "#시각화\n",
        "plt.rcParams[\"figure.figsize\"] = (15, 10)\n",
        "sns.heatmap(df_high_Year_Genre_ratio2,\n",
        "           annot = True, #실제 값 화면에 나타내기\n",
        "           cmap = 'Greens', #색상\n",
        "           vmin = 0, vmax = 0.3 , #컬러차트 영역\n",
        "           )"
      ],
      "execution_count": null,
      "outputs": []
    }
  ]
}