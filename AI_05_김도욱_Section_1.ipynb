{
  "nbformat": 4,
  "nbformat_minor": 0,
  "metadata": {
    "colab": {
      "name": "AI_05_김도욱_Section_1.ipynb",
      "private_outputs": true,
      "provenance": []
    },
    "kernelspec": {
      "name": "python3",
      "display_name": "Python 3"
    },
    "language_info": {
      "name": "python"
    }
  },
  "cells": [
    {
      "cell_type": "markdown",
      "metadata": {
        "id": "BgnOrcJu8IcP"
      },
      "source": [
        "# <Section 01 Project: 다음 분기에 어떤 게임을 설계해야 할까?>\n"
      ]
    },
    {
      "cell_type": "code",
      "metadata": {
        "id": "AqgFFt6F8CaI"
      },
      "source": [
        "#다음 분기에 출고량이 높을 것이라 예상되는 게임"
      ],
      "execution_count": null,
      "outputs": []
    },
    {
      "cell_type": "markdown",
      "metadata": {
        "id": "2D1Ha5taCSDK"
      },
      "source": [
        "## 1. EDA"
      ]
    },
    {
      "cell_type": "code",
      "metadata": {
        "id": "00ejzxhyCchw"
      },
      "source": [
        "import pandas as pd\n",
        "\n",
        "df = pd.read_csv(\"https://ds-lecture-data.s3.ap-northeast-2.amazonaws.com/datasets/vgames2.csv\")\n",
        "df.drop([\"Unnamed: 0\"], axis = 1, inplace = True)\n",
        "df.head()"
      ],
      "execution_count": null,
      "outputs": []
    },
    {
      "cell_type": "code",
      "metadata": {
        "id": "JOyp4nluDCUX"
      },
      "source": [
        "df.info()"
      ],
      "execution_count": null,
      "outputs": []
    },
    {
      "cell_type": "code",
      "metadata": {
        "id": "eEuFsYp1DFMW"
      },
      "source": [
        "import numpy as np\n",
        "\n",
        "def int_to_year(num):\n",
        "    this_year = 21 #2021년도\n",
        "    if num < 0 or num == np.nan:\n",
        "        return num.replace(num, np.nan)\n",
        "    elif num < this_year:\n",
        "        return int(num) + 2000\n",
        "    elif num < 100:\n",
        "        return int(num) + 1900\n",
        "    else:\n",
        "        return int(num)\n",
        "\n",
        "def convert_str_to_number(string):\n",
        "    if \"K\" in string:\n",
        "        return float(string.replace(\"K\", \"\")) * (10**3)\n",
        "    elif \"M\" in string:\n",
        "        return float(string.replace(\"M\", \"\")) * (10**6)\n",
        "    else:\n",
        "        return float(string) * (10**6)\n",
        "\n",
        "df.dropna(axis = 0, inplace = True) #결측치 제거\n",
        "\n",
        "df[\"Year\"] = df[\"Year\"].apply(int_to_year)\n",
        "for Sales in [\"NA_Sales\", \"EU_Sales\", \"JP_Sales\", \"Other_Sales\"]:\n",
        "    df[Sales] = df[Sales].apply(convert_str_to_number)\n",
        "\n",
        "df.reset_index(drop = True, inplace = True)\n",
        "\n",
        "#확인\n",
        "df.info()\n",
        "print()\n",
        "df"
      ],
      "execution_count": null,
      "outputs": []
    },
    {
      "cell_type": "markdown",
      "metadata": {
        "id": "QIJlRL13VOJU"
      },
      "source": [
        "## 2. 분석"
      ]
    },
    {
      "cell_type": "markdown",
      "metadata": {
        "id": "bbRecksaWD22"
      },
      "source": [
        "### 1. \"**지역**\"과 \"**선호하는 게임장르**\"는 연관이 있을것인가?\n",
        "= 선호하는 게임장르는 곧 출고량과 직결되므로 위 물음을 답하기 위해 Chi-square test을 사용할 수 있음.\n",
        "\n",
        "    (1) 귀무가설: 지역과 게임장르는 출고량에 대해서 서로 연관이 있을 것이다.\n",
        "    (2) 대안가설: 지역과 게임장르는 출고량과 대해서 서로 연관이 없을 것이다.\n",
        "    (3) 신뢰도: 95 %"
      ]
    },
    {
      "cell_type": "code",
      "metadata": {
        "id": "mj98dRD0y-2L"
      },
      "source": [
        "df_Genre_sales = df.drop([\"Name\", \"Platform\", \"Year\", \"Publisher\"], axis = 1, inplace = False)\n",
        "df_Genre_sales"
      ],
      "execution_count": null,
      "outputs": []
    },
    {
      "cell_type": "code",
      "metadata": {
        "id": "hDA4N7tbzSXL"
      },
      "source": [
        "Genre_Region_sum_list = []\n",
        "for Sales in [\"NA_Sales\", \"EU_Sales\", \"JP_Sales\", \"Other_Sales\"]:\n",
        "    Genre_sum = df_Genre_sales[Sales].groupby(df_Genre_sales[\"Genre\"]).sum()\n",
        "    Genre_Region_sum_list.append(Genre_sum)\n",
        "\n",
        "df_Genre_Region_sum = pd.concat(Genre_Region_sum_list, axis = 1)\n",
        "df_Genre_Region_sum"
      ],
      "execution_count": null,
      "outputs": []
    },
    {
      "cell_type": "code",
      "metadata": {
        "id": "nVoVQjoC0d2l"
      },
      "source": [
        "from scipy import stats\n",
        "\n",
        "chi1 = stats.chi2_contingency(df_Genre_Region_sum, correction = False)\n",
        "pv1 = chi1[1]\n",
        "pv1"
      ],
      "execution_count": null,
      "outputs": []
    },
    {
      "cell_type": "code",
      "metadata": {
        "id": "lAKIexQb5C-V"
      },
      "source": [
        "#p-value가 0.05 이하이므로 귀무가설을 기각, 대안가설을 채택함.\n",
        "#즉, 지역과 게임 장르는 출고량에 대해서 서로 연관이 없다고 볼 수 있다."
      ],
      "execution_count": null,
      "outputs": []
    },
    {
      "cell_type": "markdown",
      "metadata": {
        "id": "cWZiIWwr83fd"
      },
      "source": [
        "1. 연도별로 게임 장르의 트렌드를 통해 다음 분기에 설계할 게임의 장르를 추릴 수 있을 것이다.\n",
        "\n",
        "    (1) 연도별 - 지역별로 출고량의 합 구하기 및 비율 구하기\n",
        "        연도별로 특정 지역의 전체 출고량(그 지역의 게임시장의 크기)를 알 수 있음.\n",
        "\n",
        "    (2) 연도별 - 장르별로 출고량의 합 구하기\n",
        "        연도별로 어떤 장르의 출고량이 가장 높은지 알 수 있음.\n",
        "\n",
        "    (3) 장르별 - 지역별로 출고량의 합 구하기\n",
        "        \n",
        "\n",
        "\n",
        "\n"
      ]
    },
    {
      "cell_type": "code",
      "metadata": {
        "id": "8wey6LOhYl0c"
      },
      "source": [
        "df_year_sales = df.drop([\"Name\", \"Platform\", \"Genre\", \"Publisher\"], axis = 1, inplace = False)"
      ],
      "execution_count": null,
      "outputs": []
    },
    {
      "cell_type": "code",
      "metadata": {
        "id": "zeoZ4XilZXjd"
      },
      "source": [
        "Year_Region_sum_list = []\n",
        "for Sales in [\"NA_Sales\", \"EU_Sales\", \"JP_Sales\", \"Other_Sales\"]:\n",
        "    Year_sum = df_year_sales[Sales].groupby(df_year_sales[\"Year\"]).sum()\n",
        "    Year_Region_sum_list.append(Year_sum)\n",
        "\n",
        "df_Year_Region_sum = pd.concat(Year_Region_sum_list, axis = 1)\n",
        "df_Year_Region_sum[\"All_Sales\"] = df_Year_Region_sum.sum(axis = 1)\n",
        "\n",
        "df_Year_Region_All_Sales = df_Year_Region_sum[\"All_Sales\"]\n",
        "\n",
        "df_Year_Region_sum.head()"
      ],
      "execution_count": null,
      "outputs": []
    },
    {
      "cell_type": "code",
      "metadata": {
        "id": "2asWAGQ5GPky"
      },
      "source": [
        "for Sales in [\"NA_Sales\", \"EU_Sales\", \"JP_Sales\", \"Other_Sales\"]:\n",
        "    df_Year_Region_sum[Sales] = df_Year_Region_sum[Sales] / df_Year_Region_sum[\"All_Sales\"]\n",
        "\n",
        "df_Year_Region_sum.drop([\"All_Sales\"], axis = 1, inplace = True)\n",
        "df_Year_Region_sum.drop([2017, 2020], axis = 0, inplace = True) #데이터 수 적어 신뢰성 부족하다고 판단.\n",
        "df_Year_Region_sum = df_Year_Region_sum * 100\n",
        "df_Year_Region_sum.head()"
      ],
      "execution_count": null,
      "outputs": []
    },
    {
      "cell_type": "code",
      "metadata": {
        "id": "MQ7yICCUG3d6"
      },
      "source": [
        "import matplotlib.pyplot as plt\n",
        "\n",
        "df_Year_Region_sum.plot(kind = \"bar\", stacked = True, fontsize = 9, figsize = (13, 8))\n",
        "plt.xticks(rotation = 40)\n",
        "plt.axhline(y = 70, color = \"r\", linewidth = 1)\n",
        "\n",
        "plt.xlabel(\"Year\")\n",
        "plt.ylabel(\"Market Share (%)\")\n",
        "plt.title(\"< Market share by continent (country) >\", fontsize = 12)\n",
        "\n",
        "plt.show()"
      ],
      "execution_count": null,
      "outputs": []
    },
    {
      "cell_type": "code",
      "metadata": {
        "id": "Uq-AihjPcVA3"
      },
      "source": [
        "df_Year_Region_sum"
      ],
      "execution_count": null,
      "outputs": []
    },
    {
      "cell_type": "code",
      "metadata": {
        "id": "y4mndamfN29m"
      },
      "source": [
        "#위 그래프는 게임의 장르에 상관없이 연도별로 각 지역별 출고량을 누적 막대 그래프로 나타낸 자료 입니다.\n",
        "# >> 북미 + 유럽지역의 출고량 압도적임."
      ],
      "execution_count": null,
      "outputs": []
    },
    {
      "cell_type": "code",
      "metadata": {
        "id": "eT0lxE-xim-o"
      },
      "source": [
        "#연도별 게임장르의 트렌드 분석"
      ],
      "execution_count": null,
      "outputs": []
    },
    {
      "cell_type": "code",
      "metadata": {
        "id": "m37yK03Giq57"
      },
      "source": [
        "df[\"All_Sales\"] = df[\"NA_Sales\"] + df[\"EU_Sales\"] + df[\"JP_Sales\"] + df[\"Other_Sales\"]\n",
        "df_Year_Genre = df.drop([\"Name\", \"Platform\", \"Publisher\", \"NA_Sales\", \"EU_Sales\", \"JP_Sales\", \"Other_Sales\"], axis = 1, inplace = False)\n",
        "df_Year_Genre.head()"
      ],
      "execution_count": null,
      "outputs": []
    },
    {
      "cell_type": "code",
      "metadata": {
        "id": "OMB_TLzFkajg"
      },
      "source": [
        "Year_Genre_sum = df_Year_Genre.groupby([\"Year\", \"Genre\"])[\"All_Sales\"].sum()\n",
        "Year_Genre_ratio = Year_Genre_sum / df_Year_Region_All_Sales\n",
        "df_Year_Genre_ratio = pd.DataFrame(Year_Genre_ratio)\n",
        "df_Year_Genre_ratio.drop([2017, 2020], axis = 0, inplace = True)#데이터 수 적어 신뢰성 부족하다고 판단.\n",
        "df_Year_Genre_ratio = df_Year_Genre_ratio * 100 #백분율"
      ],
      "execution_count": null,
      "outputs": []
    },
    {
      "cell_type": "code",
      "metadata": {
        "id": "xcAzqciSn9ff"
      },
      "source": [
        "colors = [\"tab:blue\", \"tab:orange\", \"tab:green\", \"tab:red\", \"tab:purple\", \"tab:brown\", \"tab:pink\", \"tab:gray\", \"tab:olive\", \"tab:cyan\", \"tan\", \"slateblue\"]\n",
        "\n",
        "df_Year_Genre_ratio.unstack().plot(kind = 'line',\n",
        "                                   fontsize = 8,\n",
        "                                   figsize = (7, 13),\n",
        "                                   color = colors,\n",
        "                                   subplots = True,\n",
        "                                   ylim = [0, 40],\n",
        "                                   grid = True,\n",
        "                                   xlabel = \"Year\",\n",
        "                                   ylabel = \"Share(%)\")\n",
        "\n",
        "\n",
        "#plt.xticks(rotation = 40)\n",
        "#plt.xlabel(\"Year\")\n",
        "#plt.ylabel(\"Sales rate (%)\")\n",
        "#plt.grid(True)\n",
        "plt.show()"
      ],
      "execution_count": null,
      "outputs": []
    },
    {
      "cell_type": "code",
      "metadata": {
        "id": "j8vbT19pDrqS"
      },
      "source": [
        "df_Year_Genre_sum = pd.DataFrame(Year_Genre_sum)\n",
        "\n",
        "Year_Genre_count = df_Year_Genre.groupby([\"Year\", \"Genre\"])[\"Genre\"].count()\n",
        "df_Year_Genre_count = pd.DataFrame(Year_Genre_count)\n",
        "\n",
        "df_Year_Genre_sum[\"Count\"] = df_Year_Genre_count[\"Genre\"]\n",
        "\n",
        "df_Year_Genre_sum.reset_index(level = 0, drop = True, inplace = True)\n",
        "\n",
        "#확인\n",
        "df_Year_Genre_sum"
      ],
      "execution_count": null,
      "outputs": []
    },
    {
      "cell_type": "code",
      "metadata": {
        "id": "wPv096LNDWt1"
      },
      "source": [
        "from sklearn.preprocessing import StandardScaler\n",
        "import seaborn as sns\n",
        "\n",
        "labels = df_Year_Genre_sum.index\n",
        "\n",
        "standard_df_Year_Genre = StandardScaler().fit_transform(df_Year_Genre_sum)\n",
        "df_standard_Year_Genre = pd.DataFrame(standard_df_Year_Genre, columns = [\"All_Sales\", \"Count\"])\n",
        "\n",
        "df_standard_Year_Genre[\"Labels\"] = labels\n",
        "\n",
        "#시각화\n",
        "sns.lmplot(x = 'Count',\n",
        "           y = 'All_Sales',\n",
        "           hue = 'Labels',\n",
        "           #col = 'Labels',\n",
        "           line_kws={'label':\"tip\"},\n",
        "           data = df_standard_Year_Genre,\n",
        "           #col_wrap = 3,\n",
        "           order = 1)"
      ],
      "execution_count": null,
      "outputs": []
    },
    {
      "cell_type": "code",
      "metadata": {
        "id": "MJlq6paLZLh-"
      },
      "source": [
        "#나라별로 보다 선호하는 장르\n",
        "#나라별로 보다 선호하는 플랫폼\n",
        "#위에 나온 그래프는 전체 지역에서 선호하는 장르를 추린것임."
      ],
      "execution_count": null,
      "outputs": []
    }
  ]
}