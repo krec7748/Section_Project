{
  "nbformat": 4,
  "nbformat_minor": 0,
  "metadata": {
    "colab": {
      "name": "AI_03_신정인_Final_Report.ipynb",
      "provenance": [],
      "collapsed_sections": [],
      "toc_visible": true
    },
    "kernelspec": {
      "name": "python3",
      "display_name": "Python 3"
    },
    "language_info": {
      "name": "python"
    }
  },
  "cells": [
    {
      "cell_type": "markdown",
      "metadata": {
        "id": "ucgHcQcQMpz_"
      },
      "source": [
        "# **비접촉 Radar 데이터를 활용한 심박수 및 호흡수 예측**"
      ]
    },
    {
      "cell_type": "markdown",
      "metadata": {
        "id": "gp9A9GC3Mq43"
      },
      "source": [
        "## **1. 프로젝트 목표**\n",
        "**비접촉 레이더 데이터를 활용, 접촉데이터(ECG)와 비교학습(training)하여, 레이더 데이터만 가지고 심박수, 호흡수를 예측하는 프로젝트입니다.** \n",
        "\n",
        "\n",
        "- HR(심박, Heart Rate) 및 BR(호흡,Breathing Rate) 예측 모델링\n",
        "- 주어진 Radar 데이터에서 정확한 HR과 BR을 예측하기 위한 개인별, FFT크기별 데이터 분석 (DA)\n",
        "- 데이터를 활용한 ML/DL 모델 파이프라인 구축 프로젝트\n",
        "\n",
        "- 최종 목표 : **데이터 셋을 활용하여 가장 정확도가 높은 BPM을 선택하는 모델 만들기**"
      ]
    },
    {
      "cell_type": "markdown",
      "metadata": {
        "id": "xo7S2Sm6wtSe"
      },
      "source": [
        "## **2. 신호시스템 이론 학습**"
      ]
    },
    {
      "cell_type": "markdown",
      "metadata": {
        "id": "c9mKftDjMq_2"
      },
      "source": [
        "### **(1) 신호와 시스템 개요**\n",
        "- 신호는 물리량의 변화 형태를 담은 일련의 정보의 집합이다.\n",
        "- 시스템은 일련의 신호를 받아들여 어떤 작용을 거쳐 다른 일련의 신호를 만들어내는 실체로서 신호의 변환, 가공, 추출, 전송 등의 일들을 수행한다.\n",
        "- 신호 처리는 원하는 결과를 얻을 수 있도록 시스템을 이용하여 신호에 대해 교환, 변환, 가공, 전송, 저장 등의 조작을 수행하는 작업으로 해석, 합성, 변환, 필터링 네 개의 범주로 나눌 수 있다.\n",
        "- 신호와 시스템의 수학적 모형은 변수가 시간인 시간 영역 표현과 변수가 주파수인 주파수 영역 표현으로 나눌 수 있다.\n",
        "- 정현파는 신호와 시스템에서 가장 기본이 되는 신호로, 사인 또는 코사인 함수로 나타내며, 진폭, 위상, 주파수의 세 가지 요소에 의해 완전하게 정의된다.\n",
        "- x(t) = A cos(ωt+Φ)\n",
        "- 여기서 A는 진폭, Φ는 위상, ω를 각주파수라고 한다.\n",
        "- 주기는 정현파가 같은 파형을 반복하는 시간 간격이고, 주파수는 정현파가 1초에 같은 파형을 반복하는 횟수로서 서로 역수 관계이다.\n",
        "- 블록선도는 각 시스템 구성 요소를 블록으로 나타내고 신호의 흐름에 따라 블록 간의 연결 관계를 그려놓은 그림이다."
      ]
    },
    {
      "cell_type": "markdown",
      "metadata": {
        "id": "mygbc6THMrFP"
      },
      "source": [
        "### **(2) 연속 시간 푸리에 급수**\n",
        "- 일반적으로 신호는 시간의 경과에 따라 관측하고 다루기 때문에 시간의 함수로 표현하는 것이 자연스럽고 익숙하지만, 신호의 특성을 완전히 파악하기에는 한계가 있다. 따라서 새로운 관점에서 신호를 바라볼 필요가 있는데, 주파수가 바로 그것이다. 신호에 포함된 주파수 성분들을 구분하여 나타낸 것이 스펙트럼인데, 사람의 지문과 마찬가지로 신호마다 제각기 다른 고유의 스펙트럼을 갖는다. 그러므로 스펙트럼은 신호를 구분하고 특성을 규명하는데 매우 효과적인 수단으로 활용된다.\n",
        "\n",
        "- 주파수와 연관시켜 신호를 나타내고 다루려면 우선 시간 함수로 표현된 신호를 주파수에 대한 표현으로 바꿔야 하는데, 이를 푸리에 급수/변환으로 해결할 수 있다. 푸리에 급수는 신호를 주파수에 대해 일대일 대응 관계를 가지는 정현파들로 분해하여 나타냄으로써, 신호를 주파수에 연관시켜 파악하고 다룰 수 있게 해주는 수학적 기법이다.\n",
        "\n",
        "- 변환은 단지 신호의 표현을 바꾸는 작업으로서 신호 자체는 달라지지 않는다. \n",
        "\n",
        "- 신호는 x(t) = ΣcΦ(t)와 같이 기저 신호들의 선형 결합으로 나타낼 수 있고, 변환은 결국 계수 c를 구하는 문제가 된다.\n",
        "\n",
        "- 정현파를 주파수의 함수로 취급하여 주파수축 상에서 정현파의 진폭과 위상을 나타낸 것이 스펙트럼이다. 스펙트럼의 표현은 삼각함수 정현파나 복소 정현파를 사용할 수 있다.\n",
        "\n",
        "- 푸리에 급수는 주기 신호를 기본파와 고조파들의 합으로 나타낸 것으로, 기본파는 주기 신호와 같은 주기를 갖는 정현파이며, 고조파는 기본파의 주파수의 정수배 주파수를 갖는 정현파이다.\n",
        "\n",
        "- 푸리에 급수 표현의 기저 신호인 (복소)정현파는 직교성을 만족하며, 푸리에 계수는 정현파의 직교성을 이용해 구할 수 있다.\n"
      ]
    },
    {
      "cell_type": "markdown",
      "metadata": {
        "id": "ADOnTa2LM9Ux"
      },
      "source": [
        "### **(3) 연속 시간 푸리에 변환**\n",
        "- 앞서 푸리에 급수에 의한 주기 신호의 취급을 통해 신호와 시스템을 주파수 영역에서 표현하고 분석하는 것이 매우 유용하고 효과적임을 보았다. 그러나 주기 신호는 세상에 존재하는 신호의 극히 일부분에 지나지 않는다. 그러므로 **비주기 신호에 대해서도 주파수 영역으로 변환할 수 있는 도구가 필요**하다.\n",
        "\n",
        "- 이 때 가능하다면 논리적 일관성을 위해 이 도구가 푸리에 급수와 동일한 이론적 배경을 가지는 것이 바람직하다. 이런 관점에서 비주기 신호를 주기가 무한대인 주기 신호로 간주해 푸리에 급수를 확장하여, 비주기 신호를 연속적인 주파수를 갖는 무수히 많은 정현파 성분의 합으로 표현하는 것이 바로 **푸리에 변환**이다."
      ]
    },
    {
      "cell_type": "markdown",
      "metadata": {
        "id": "A1EULWsyM9qn"
      },
      "source": [
        "### **(4) 이산푸리에변환(DFT)과 고속푸리에변환(FFT)**\n",
        "- 푸리에 해석 기법은 주파수 관점으로 신호와 시스템을 취급하는 유용한 수단이지만 실제 문제에 적용하려면 어려움이 따른다. 이러한 어려움은 컴퓨터를 이용하면 해소될 수 있으나, 컴퓨터로 푸리에 해석을 수행하기 위해서는 신호와 스펙트럼이 모두 디지털 처리에 적합한 이산 데이터여야 한다.\n",
        "\n",
        "- 이를 위해 신호는 샘플링을 이용함으로써, 스펙트럼은 이산 주기 신호의 스펙트럼이 이산 주기 함수임을 이용함으로써, 컴퓨터를 이용한 신호 및 시스템의 해석에 적합한 푸리에 변환을 고안한 것이 바로 **이산 푸리에 변환(DFT)**이다.\n",
        "\n",
        "- DFT의 계산량을 획기적으로 줄여 적은 계산량으로 효율적으로 DFT를 계산할 수 있도록 제안된 것이 **고속 푸리에 변환(FFT)**이다. 푸리에 해석 기법을 실제 문제에 적용할 때는 대부분 FFT를 활용한다. 주파수 영역 기법을 이용한 신호와 시스템이 실용화 될 수 있었던 배경에는 FFT가 자리잡고 있다.\n",
        "\n",
        "- FFT는 새로운 형태의 변환이 아니라, DFT를 효과적으로 계산하기 위한 알고리즘이다. 기본 원리는 주어진 이산 신호를 여러 개의 길이가 짧은 신호로 분할하여 분할된 신호들의 DFT를 구한 후, 그 결과들을 적절하게 결합하여 주어진 신호의 DFT를 수행하는 것이다."
      ]
    },
    {
      "cell_type": "markdown",
      "metadata": {
        "id": "oaYpBzeeeWdT"
      },
      "source": [
        "### **(5) 기타**\n",
        "- IQ 신호는 자연과학과 공학의 많은 분야에 사용되며, 특히 디지털 통신 분야에서는 필수적이다. 복소수 체계를 기반으로 하기에 complex signal(복소 신호)라고도 불리며 I와 Q 2개로 이루어져 있다. '특정 시간에서의 값을 하나의 복소수로 표현할 수 있는 2차원 신호' 라고 수학적으로 정의되며, 복소수는 실수부와 복소부 2개로 나누어지며 이 때 각각을 in-phase와 quadrature phase라고 부르며 이 단어 앞글자를 따서 I, Q라 한다.\n",
        "- CW 방식은 정현파 신호를 송신하여 되돌아오는 주파수가 다르게 수신되어 나타나는 주파수 차이를 이용하여 속도를 알 수 있는 방식이며, 주로 모션감지, 속도측정 분야에서 사용되는 방식이다. FMCW 레이더는 FM 변조된 송신파를 수신받아 발생하는 주파수를 이용하여 거리 특성을 알 수 있는 방식으로, 속도, 거리측정이 가능하며, 안테나를 두 개 이상 사용할 경우 위치를 파악할 수 있는 방식이다."
      ]
    },
    {
      "cell_type": "markdown",
      "metadata": {
        "id": "UBCqAVjPwh23"
      },
      "source": [
        "## **3. 데이터 분석**"
      ]
    },
    {
      "cell_type": "markdown",
      "metadata": {
        "id": "Ms1_ZH1DT8UL"
      },
      "source": [
        "### **(1) 데이터 살펴보기**\n",
        "회귀 문제에서는 타겟의 분포를 주의깊게 살펴보아야 한다."
      ]
    },
    {
      "cell_type": "code",
      "metadata": {
        "id": "jNhR5YRjNwFN"
      },
      "source": [
        "import pandas as pd\n",
        "import numpy as np\n",
        "import matplotlib.pyplot as plt\n",
        "import seaborn as sns"
      ],
      "execution_count": 2,
      "outputs": []
    },
    {
      "cell_type": "code",
      "metadata": {
        "colab": {
          "base_uri": "https://localhost:8080/"
        },
        "id": "USobIRDuM8EW",
        "outputId": "d1caf083-acdc-45a7-96f2-de1ab187b8eb"
      },
      "source": [
        "# 구글드라이브 연동\n",
        "from google.colab import drive\n",
        "drive.mount('/content/drive')"
      ],
      "execution_count": 3,
      "outputs": [
        {
          "output_type": "stream",
          "name": "stdout",
          "text": [
            "Mounted at /content/drive\n"
          ]
        }
      ]
    },
    {
      "cell_type": "code",
      "metadata": {
        "id": "ILWNz7DWOI3N"
      },
      "source": [
        "# 데이터 불러오기\n",
        "# 파일이름 : 날짜+사람+거리+자세\n",
        "data_sit = pd.read_csv('/content/drive/MyDrive/1.codestates/FinalProject/output/log_20200909110309_chc_0.5_sit_none.csv')\n",
        "data_lie = pd.read_csv('/content/drive/MyDrive/1.codestates/FinalProject/output/log_20201111155643_ksj_0.5_lie_none.csv')\n",
        "data_sleep = pd.read_csv('/content/drive/MyDrive/1.codestates/FinalProject/output/log_20210811104835_les_1.0_sleep.csv')\n",
        "data_lie_10 = pd.read_csv('/content/drive/MyDrive/1.codestates/FinalProject/output/log_20210818153244_kdu_1.0_lie_none.csv')\n",
        "data_lie_AC = pd.read_csv('/content/drive/MyDrive/1.codestates/FinalProject/output/log_20210824141813_kdu_1.0_lie_acryl.csv')\n",
        "data_lie_OP = pd.read_csv('/content/drive/MyDrive/1.codestates/FinalProject/output/log_20210824141815_kdu_1.0_lie_opaque.csv')"
      ],
      "execution_count": 165,
      "outputs": []
    },
    {
      "cell_type": "code",
      "metadata": {
        "colab": {
          "base_uri": "https://localhost:8080/"
        },
        "id": "XUzs7LME2oSe",
        "outputId": "92c82638-e925-49b3-c78b-8fe30bd1410f"
      },
      "source": [
        "print(data_sit.shape)\n",
        "print(data_sleep.shape)\n",
        "print(data_lie.shape)\n",
        "print(data_lie_10.shape)"
      ],
      "execution_count": 5,
      "outputs": [
        {
          "output_type": "stream",
          "name": "stdout",
          "text": [
            "(24000, 16)\n",
            "(37200, 16)\n",
            "(13200, 16)\n",
            "(43200, 16)\n"
          ]
        }
      ]
    },
    {
      "cell_type": "code",
      "metadata": {
        "colab": {
          "base_uri": "https://localhost:8080/",
          "height": 204
        },
        "id": "ZJfWVrVS5eos",
        "outputId": "dfffa5f4-d25e-4711-8f77-2bcff1d7d099"
      },
      "source": [
        "data_sit[1001:1100].head()"
      ],
      "execution_count": 6,
      "outputs": [
        {
          "output_type": "execute_result",
          "data": {
            "text/html": [
              "<div>\n",
              "<style scoped>\n",
              "    .dataframe tbody tr th:only-of-type {\n",
              "        vertical-align: middle;\n",
              "    }\n",
              "\n",
              "    .dataframe tbody tr th {\n",
              "        vertical-align: top;\n",
              "    }\n",
              "\n",
              "    .dataframe thead th {\n",
              "        text-align: right;\n",
              "    }\n",
              "</style>\n",
              "<table border=\"1\" class=\"dataframe\">\n",
              "  <thead>\n",
              "    <tr style=\"text-align: right;\">\n",
              "      <th></th>\n",
              "      <th>Unnamed: 0</th>\n",
              "      <th>ecg</th>\n",
              "      <th>bpm</th>\n",
              "      <th>bin-2</th>\n",
              "      <th>bin-1</th>\n",
              "      <th>bin0</th>\n",
              "      <th>bin1</th>\n",
              "      <th>bin2</th>\n",
              "      <th>512fft</th>\n",
              "      <th>400fft</th>\n",
              "      <th>300fft</th>\n",
              "      <th>200fft</th>\n",
              "      <th>100fft</th>\n",
              "      <th>70fft</th>\n",
              "      <th>bin_var</th>\n",
              "      <th>motion_energy</th>\n",
              "    </tr>\n",
              "  </thead>\n",
              "  <tbody>\n",
              "    <tr>\n",
              "      <th>1001</th>\n",
              "      <td>1001</td>\n",
              "      <td>87.613105</td>\n",
              "      <td>87.800953</td>\n",
              "      <td>59.765625</td>\n",
              "      <td>85.546875</td>\n",
              "      <td>59.765625</td>\n",
              "      <td>87.890625</td>\n",
              "      <td>59.765625</td>\n",
              "      <td>59.765625</td>\n",
              "      <td>60.351562</td>\n",
              "      <td>91.406250</td>\n",
              "      <td>89.0625</td>\n",
              "      <td>58.59375</td>\n",
              "      <td>67.96875</td>\n",
              "      <td>2.59</td>\n",
              "      <td>2.387349</td>\n",
              "    </tr>\n",
              "    <tr>\n",
              "      <th>1002</th>\n",
              "      <td>1002</td>\n",
              "      <td>87.613105</td>\n",
              "      <td>87.808569</td>\n",
              "      <td>59.765625</td>\n",
              "      <td>85.546875</td>\n",
              "      <td>59.765625</td>\n",
              "      <td>87.890625</td>\n",
              "      <td>59.765625</td>\n",
              "      <td>59.765625</td>\n",
              "      <td>60.937500</td>\n",
              "      <td>91.406250</td>\n",
              "      <td>89.0625</td>\n",
              "      <td>58.59375</td>\n",
              "      <td>67.96875</td>\n",
              "      <td>0.75</td>\n",
              "      <td>2.387349</td>\n",
              "    </tr>\n",
              "    <tr>\n",
              "      <th>1003</th>\n",
              "      <td>1003</td>\n",
              "      <td>87.613105</td>\n",
              "      <td>87.816185</td>\n",
              "      <td>59.765625</td>\n",
              "      <td>85.546875</td>\n",
              "      <td>59.765625</td>\n",
              "      <td>87.890625</td>\n",
              "      <td>59.765625</td>\n",
              "      <td>59.765625</td>\n",
              "      <td>61.523438</td>\n",
              "      <td>91.406250</td>\n",
              "      <td>89.0625</td>\n",
              "      <td>58.59375</td>\n",
              "      <td>67.96875</td>\n",
              "      <td>0.84</td>\n",
              "      <td>2.387349</td>\n",
              "    </tr>\n",
              "    <tr>\n",
              "      <th>1004</th>\n",
              "      <td>1004</td>\n",
              "      <td>87.613105</td>\n",
              "      <td>87.823801</td>\n",
              "      <td>59.765625</td>\n",
              "      <td>85.546875</td>\n",
              "      <td>59.765625</td>\n",
              "      <td>87.890625</td>\n",
              "      <td>59.765625</td>\n",
              "      <td>59.765625</td>\n",
              "      <td>62.695312</td>\n",
              "      <td>90.820312</td>\n",
              "      <td>89.0625</td>\n",
              "      <td>58.59375</td>\n",
              "      <td>67.96875</td>\n",
              "      <td>0.91</td>\n",
              "      <td>2.387349</td>\n",
              "    </tr>\n",
              "    <tr>\n",
              "      <th>1005</th>\n",
              "      <td>1005</td>\n",
              "      <td>87.640449</td>\n",
              "      <td>87.831417</td>\n",
              "      <td>59.765625</td>\n",
              "      <td>85.546875</td>\n",
              "      <td>59.765625</td>\n",
              "      <td>87.890625</td>\n",
              "      <td>59.765625</td>\n",
              "      <td>59.765625</td>\n",
              "      <td>63.281250</td>\n",
              "      <td>90.234375</td>\n",
              "      <td>89.0625</td>\n",
              "      <td>58.59375</td>\n",
              "      <td>77.34375</td>\n",
              "      <td>0.96</td>\n",
              "      <td>2.387349</td>\n",
              "    </tr>\n",
              "  </tbody>\n",
              "</table>\n",
              "</div>"
            ],
            "text/plain": [
              "      Unnamed: 0        ecg        bpm  ...     70fft  bin_var  motion_energy\n",
              "1001        1001  87.613105  87.800953  ...  67.96875     2.59       2.387349\n",
              "1002        1002  87.613105  87.808569  ...  67.96875     0.75       2.387349\n",
              "1003        1003  87.613105  87.816185  ...  67.96875     0.84       2.387349\n",
              "1004        1004  87.613105  87.823801  ...  67.96875     0.91       2.387349\n",
              "1005        1005  87.640449  87.831417  ...  77.34375     0.96       2.387349\n",
              "\n",
              "[5 rows x 16 columns]"
            ]
          },
          "metadata": {},
          "execution_count": 6
        }
      ]
    },
    {
      "cell_type": "code",
      "metadata": {
        "colab": {
          "base_uri": "https://localhost:8080/",
          "height": 204
        },
        "id": "Jws2ohn7Bmmz",
        "outputId": "b9a811f3-7471-404b-b701-6cf2ab47bafd"
      },
      "source": [
        "data_sleep[1001:1100].head()"
      ],
      "execution_count": 7,
      "outputs": [
        {
          "output_type": "execute_result",
          "data": {
            "text/html": [
              "<div>\n",
              "<style scoped>\n",
              "    .dataframe tbody tr th:only-of-type {\n",
              "        vertical-align: middle;\n",
              "    }\n",
              "\n",
              "    .dataframe tbody tr th {\n",
              "        vertical-align: top;\n",
              "    }\n",
              "\n",
              "    .dataframe thead th {\n",
              "        text-align: right;\n",
              "    }\n",
              "</style>\n",
              "<table border=\"1\" class=\"dataframe\">\n",
              "  <thead>\n",
              "    <tr style=\"text-align: right;\">\n",
              "      <th></th>\n",
              "      <th>Unnamed: 0</th>\n",
              "      <th>ecg</th>\n",
              "      <th>bpm</th>\n",
              "      <th>bin-2</th>\n",
              "      <th>bin-1</th>\n",
              "      <th>bin0</th>\n",
              "      <th>bin1</th>\n",
              "      <th>bin2</th>\n",
              "      <th>512fft</th>\n",
              "      <th>400fft</th>\n",
              "      <th>300fft</th>\n",
              "      <th>200fft</th>\n",
              "      <th>100fft</th>\n",
              "      <th>70fft</th>\n",
              "      <th>bin_var</th>\n",
              "      <th>motion_energy</th>\n",
              "    </tr>\n",
              "  </thead>\n",
              "  <tbody>\n",
              "    <tr>\n",
              "      <th>1001</th>\n",
              "      <td>1001</td>\n",
              "      <td>81.051345</td>\n",
              "      <td>61.132812</td>\n",
              "      <td>87.890625</td>\n",
              "      <td>60.9375</td>\n",
              "      <td>105.46875</td>\n",
              "      <td>67.96875</td>\n",
              "      <td>97.265625</td>\n",
              "      <td>105.46875</td>\n",
              "      <td>55.078125</td>\n",
              "      <td>105.46875</td>\n",
              "      <td>105.46875</td>\n",
              "      <td>62.695312</td>\n",
              "      <td>108.984375</td>\n",
              "      <td>0.5275</td>\n",
              "      <td>0.250103</td>\n",
              "    </tr>\n",
              "    <tr>\n",
              "      <th>1002</th>\n",
              "      <td>1002</td>\n",
              "      <td>79.913070</td>\n",
              "      <td>61.175272</td>\n",
              "      <td>87.890625</td>\n",
              "      <td>60.9375</td>\n",
              "      <td>105.46875</td>\n",
              "      <td>67.96875</td>\n",
              "      <td>97.265625</td>\n",
              "      <td>105.46875</td>\n",
              "      <td>55.078125</td>\n",
              "      <td>105.46875</td>\n",
              "      <td>105.46875</td>\n",
              "      <td>85.546875</td>\n",
              "      <td>108.984375</td>\n",
              "      <td>0.8500</td>\n",
              "      <td>0.250103</td>\n",
              "    </tr>\n",
              "    <tr>\n",
              "      <th>1003</th>\n",
              "      <td>1003</td>\n",
              "      <td>79.913070</td>\n",
              "      <td>61.217731</td>\n",
              "      <td>99.609375</td>\n",
              "      <td>60.9375</td>\n",
              "      <td>105.46875</td>\n",
              "      <td>67.96875</td>\n",
              "      <td>97.265625</td>\n",
              "      <td>105.46875</td>\n",
              "      <td>55.078125</td>\n",
              "      <td>105.46875</td>\n",
              "      <td>105.46875</td>\n",
              "      <td>108.984375</td>\n",
              "      <td>108.984375</td>\n",
              "      <td>0.8500</td>\n",
              "      <td>0.250103</td>\n",
              "    </tr>\n",
              "    <tr>\n",
              "      <th>1004</th>\n",
              "      <td>1004</td>\n",
              "      <td>79.913070</td>\n",
              "      <td>61.260190</td>\n",
              "      <td>111.328125</td>\n",
              "      <td>60.9375</td>\n",
              "      <td>105.46875</td>\n",
              "      <td>67.96875</td>\n",
              "      <td>97.265625</td>\n",
              "      <td>105.46875</td>\n",
              "      <td>55.078125</td>\n",
              "      <td>105.46875</td>\n",
              "      <td>105.46875</td>\n",
              "      <td>108.984375</td>\n",
              "      <td>108.984375</td>\n",
              "      <td>0.8500</td>\n",
              "      <td>0.250103</td>\n",
              "    </tr>\n",
              "    <tr>\n",
              "      <th>1005</th>\n",
              "      <td>1005</td>\n",
              "      <td>79.913070</td>\n",
              "      <td>61.302649</td>\n",
              "      <td>111.328125</td>\n",
              "      <td>60.9375</td>\n",
              "      <td>105.46875</td>\n",
              "      <td>67.96875</td>\n",
              "      <td>97.265625</td>\n",
              "      <td>105.46875</td>\n",
              "      <td>84.960938</td>\n",
              "      <td>105.46875</td>\n",
              "      <td>105.46875</td>\n",
              "      <td>108.984375</td>\n",
              "      <td>108.984375</td>\n",
              "      <td>0.8500</td>\n",
              "      <td>0.250103</td>\n",
              "    </tr>\n",
              "  </tbody>\n",
              "</table>\n",
              "</div>"
            ],
            "text/plain": [
              "      Unnamed: 0        ecg        bpm  ...       70fft  bin_var  motion_energy\n",
              "1001        1001  81.051345  61.132812  ...  108.984375   0.5275       0.250103\n",
              "1002        1002  79.913070  61.175272  ...  108.984375   0.8500       0.250103\n",
              "1003        1003  79.913070  61.217731  ...  108.984375   0.8500       0.250103\n",
              "1004        1004  79.913070  61.260190  ...  108.984375   0.8500       0.250103\n",
              "1005        1005  79.913070  61.302649  ...  108.984375   0.8500       0.250103\n",
              "\n",
              "[5 rows x 16 columns]"
            ]
          },
          "metadata": {},
          "execution_count": 7
        }
      ]
    },
    {
      "cell_type": "markdown",
      "metadata": {
        "id": "WW1Cv5JT7jCt"
      },
      "source": [
        "- ECG : electrocardiogram 심전도 (접촉 데이터)\n",
        "- BPM : 분당 심장 박동수\n",
        "- FFT : Fast Fourier Transform (512fft = 512 frame window의 FFT로 BPM)\n",
        "- bin_var : 큰 움직임(3.6cm)의 정도\n",
        "- motion_energy : 작은 움직임(레이더 신호의 흔들림 크기)의 정도"
      ]
    },
    {
      "cell_type": "markdown",
      "metadata": {
        "id": "uEtAKzvBVp-o"
      },
      "source": [
        "### **(2) 타겟 데이터 분포 확인**"
      ]
    },
    {
      "cell_type": "code",
      "metadata": {
        "colab": {
          "base_uri": "https://localhost:8080/",
          "height": 281
        },
        "id": "ZYho-fi-OM_n",
        "outputId": "301995cc-7456-4f97-f958-b080c3512fff"
      },
      "source": [
        "# 타겟값 분포 확인\n",
        "bins = np.linspace(40, 120, 50)\n",
        "\n",
        "plt.title('ecg')\n",
        "plt.hist(data_sit['ecg'], bins, alpha = 0.4, label = 'sit')\n",
        "plt.hist(data_sleep['ecg'], bins, alpha = 0.4, label = 'sleep')\n",
        "plt.hist(data_lie['ecg'], bins, alpha = 0.4, label = 'lie')\n",
        "plt.hist(data_lie_10['ecg'], bins, alpha = 0.15, label = 'lie_1.0')\n",
        "plt.legend(loc='upper right')\n",
        "\n",
        "plt.show()"
      ],
      "execution_count": 8,
      "outputs": [
        {
          "output_type": "display_data",
          "data": {
            "image/png": "[encoded data removed]",
            "text/plain": [
              "<Figure size 432x288 with 1 Axes>"
            ]
          },
          "metadata": {
            "needs_background": "light"
          }
        }
      ]
    },
    {
      "cell_type": "markdown",
      "metadata": {
        "id": "0nyNwOEBhj_e"
      },
      "source": [
        "- sit 데이터가 가장 정규분포에 가깝다. -> 예측 성능이 뛰어날 가능성이 높다"
      ]
    },
    {
      "cell_type": "code",
      "metadata": {
        "colab": {
          "base_uri": "https://localhost:8080/",
          "height": 281
        },
        "id": "1pGSy5s8wvub",
        "outputId": "2e39fb77-60d2-4563-e808-5090b70acd1c"
      },
      "source": [
        "bins = np.linspace(40, 120, 50)\n",
        "\n",
        "plt.title('bpm')\n",
        "plt.hist(data_sit['bpm'], bins, alpha = 0.4, label = 'sit')\n",
        "plt.hist(data_sleep['bpm'], bins, alpha = 0.4, label = 'sleep')\n",
        "plt.hist(data_lie['bpm'], bins, alpha = 0.4, label = 'lie')\n",
        "plt.hist(data_lie_10['bpm'], bins, alpha = 0.15, label = 'lie_1.0')\n",
        "plt.legend(loc='upper right')\n",
        "\n",
        "plt.show()"
      ],
      "execution_count": 9,
      "outputs": [
        {
          "output_type": "display_data",
          "data": {
            "image/png": "[encoded data removed]",
            "text/plain": [
              "<Figure size 432x288 with 1 Axes>"
            ]
          },
          "metadata": {
            "needs_background": "light"
          }
        }
      ]
    },
    {
      "cell_type": "code",
      "metadata": {
        "colab": {
          "base_uri": "https://localhost:8080/",
          "height": 281
        },
        "id": "sWjXQevyTaAe",
        "outputId": "682216b4-940c-4cf1-dced-d46e95ba0eb7"
      },
      "source": [
        "# 512FFT 분포 확인\n",
        "bins = np.linspace(40, 120, 30)\n",
        "\n",
        "plt.title('512FFT')\n",
        "plt.hist(data_sit['512fft'], bins, alpha = 0.3, label = 'sit')\n",
        "plt.hist(data_sleep['512fft'], bins, alpha = 0.3, label = 'sleep')\n",
        "plt.hist(data_lie['512fft'], bins, alpha = 0.3, label = 'lie')\n",
        "plt.hist(data_lie_10['512fft'], bins, alpha = 0.15, label = 'lie 1.0')\n",
        "plt.legend(loc='upper right')\n",
        "\n",
        "plt.show()"
      ],
      "execution_count": 10,
      "outputs": [
        {
          "output_type": "display_data",
          "data": {
            "image/png": "[encoded data removed]",
            "text/plain": [
              "<Figure size 432x288 with 1 Axes>"
            ]
          },
          "metadata": {
            "needs_background": "light"
          }
        }
      ]
    },
    {
      "cell_type": "code",
      "metadata": {
        "colab": {
          "base_uri": "https://localhost:8080/",
          "height": 281
        },
        "id": "kWPOLnJPh_YC",
        "outputId": "f1601e0f-5448-4b91-e2ce-4e94ec28b331"
      },
      "source": [
        "# 200FFT 분포 확인\n",
        "bins = np.linspace(40, 120, 30)\n",
        "\n",
        "plt.title('200FFT')\n",
        "plt.hist(data_sit['200fft'], bins, alpha = 0.3, label = 'sit')\n",
        "plt.hist(data_sleep['200fft'], bins, alpha = 0.3, label = 'sleep')\n",
        "plt.hist(data_lie['200fft'], bins, alpha = 0.3, label = 'lie')\n",
        "plt.hist(data_lie_10['200fft'], bins, alpha = 0.15, label = 'lie 1.0')\n",
        "plt.legend(loc='upper right')\n",
        "\n",
        "plt.show()"
      ],
      "execution_count": 12,
      "outputs": [
        {
          "output_type": "display_data",
          "data": {
            "image/png": "[encoded data removed]",
            "text/plain": [
              "<Figure size 432x288 with 1 Axes>"
            ]
          },
          "metadata": {
            "needs_background": "light"
          }
        }
      ]
    },
    {
      "cell_type": "code",
      "metadata": {
        "colab": {
          "base_uri": "https://localhost:8080/",
          "height": 281
        },
        "id": "niHQocuyzyfa",
        "outputId": "5f973742-9597-4bfc-8ab5-8af3fcfb569d"
      },
      "source": [
        "# 70FFT 분포 확인\n",
        "bins = np.linspace(40, 120, 30)\n",
        "\n",
        "plt.title('70FFT')\n",
        "plt.hist(data_sit['70fft'], bins, alpha = 0.4, label = 'sit')\n",
        "plt.hist(data_sleep['70fft'], bins, alpha = 0.4, label = 'sleep')\n",
        "plt.hist(data_lie['70fft'], bins, alpha = 0.4, label = 'lie')\n",
        "plt.hist(data_lie_10['70fft'], bins, alpha = 0.15, label = 'lie 1.0')\n",
        "plt.legend(loc='upper right')\n",
        "\n",
        "plt.show()"
      ],
      "execution_count": 13,
      "outputs": [
        {
          "output_type": "display_data",
          "data": {
            "image/png": "[encoded data removed]",
            "text/plain": [
              "<Figure size 432x288 with 1 Axes>"
            ]
          },
          "metadata": {
            "needs_background": "light"
          }
        }
      ]
    },
    {
      "cell_type": "markdown",
      "metadata": {
        "id": "hM-nWzi9V49P"
      },
      "source": [
        "### **(3) FFT 데이터 분포 비교**"
      ]
    },
    {
      "cell_type": "code",
      "metadata": {
        "colab": {
          "base_uri": "https://localhost:8080/",
          "height": 716
        },
        "id": "f7-NWjNFVnmm",
        "outputId": "8da5a265-c02c-4ab8-8010-edba549f7f04"
      },
      "source": [
        "bins = np.linspace(40, 130, 30)\n",
        "plt.figure(figsize=(8,12))\n",
        "\n",
        "plt.subplot(511)\n",
        "plt.title('Sit Data')\n",
        "plt.hist([data_sit['ecg'],data_sit['512fft']], bins, alpha = 0.5, label = ['ecg', '512'])\n",
        "plt.legend(loc='upper left')\n",
        "\n",
        "plt.subplot(512)\n",
        "plt.hist([data_sit['ecg'],data_sit['400fft']], bins, alpha = 0.5, label = ['ecg', '400'])\n",
        "plt.legend(loc='upper left')\n",
        "\n",
        "plt.subplot(513)\n",
        "plt.hist([data_sit['ecg'],data_sit['200fft']], bins, alpha = 0.5, label = ['ecg', '200'])\n",
        "plt.legend(loc='upper left')\n",
        "\n",
        "plt.subplot(514)\n",
        "plt.hist([data_sit['ecg'],data_sit['100fft']], bins, alpha = 0.5, label = ['ecg', '100'])\n",
        "plt.legend(loc='upper left')\n",
        "\n",
        "plt.subplot(515)\n",
        "plt.hist([data_sit['ecg'],data_sit['70fft']], bins, alpha = 0.5, label = ['ecg', '70'])\n",
        "plt.legend(loc='upper left')\n",
        "\n",
        "plt.show()"
      ],
      "execution_count": 14,
      "outputs": [
        {
          "output_type": "display_data",
          "data": {
            "image/png": "[encoded data removed]",
            "text/plain": [
              "<Figure size 576x864 with 5 Axes>"
            ]
          },
          "metadata": {
            "needs_background": "light"
          }
        }
      ]
    },
    {
      "cell_type": "code",
      "metadata": {
        "colab": {
          "base_uri": "https://localhost:8080/",
          "height": 716
        },
        "id": "VUtQmy4EwTcy",
        "outputId": "c54be80b-0f9b-491d-a5b5-3a683f35a17f"
      },
      "source": [
        "bins = np.linspace(40, 130, 30)\n",
        "plt.figure(figsize=(8,12))\n",
        "\n",
        "plt.subplot(511)\n",
        "plt.title('Sleep Data')\n",
        "plt.hist([data_sleep['ecg'],data_sleep['512fft']], bins, alpha = 0.5, label = ['ecg', '512'])\n",
        "plt.legend(loc='upper left')\n",
        "\n",
        "plt.subplot(512)\n",
        "plt.hist([data_sleep['ecg'],data_sleep['400fft']], bins, alpha = 0.5, label = ['ecg', '400'])\n",
        "plt.legend(loc='upper left')\n",
        "\n",
        "plt.subplot(513)\n",
        "plt.hist([data_sleep['ecg'],data_sleep['200fft']], bins, alpha = 0.5, label = ['ecg', '200'])\n",
        "plt.legend(loc='upper left')\n",
        "\n",
        "plt.subplot(514)\n",
        "plt.hist([data_sleep['ecg'],data_sleep['100fft']], bins, alpha = 0.5, label = ['ecg', '100'])\n",
        "plt.legend(loc='upper left')\n",
        "\n",
        "plt.subplot(515)\n",
        "plt.hist([data_sleep['ecg'],data_sleep['70fft']], bins, alpha = 0.5, label = ['ecg', '70'])\n",
        "plt.legend(loc='upper left')\n",
        "\n",
        "plt.show()"
      ],
      "execution_count": 15,
      "outputs": [
        {
          "output_type": "display_data",
          "data": {
            "image/png": "[encoded data removed]",
            "text/plain": [
              "<Figure size 576x864 with 5 Axes>"
            ]
          },
          "metadata": {
            "needs_background": "light"
          }
        }
      ]
    },
    {
      "cell_type": "code",
      "metadata": {
        "colab": {
          "base_uri": "https://localhost:8080/",
          "height": 716
        },
        "id": "qM7tScXEyuPD",
        "outputId": "0ce89b02-75a2-4d8a-ed9e-573acf52a2d0"
      },
      "source": [
        "bins = np.linspace(40, 130, 30)\n",
        "plt.figure(figsize=(8,12))\n",
        "\n",
        "plt.subplot(511)\n",
        "plt.title('Lie 0.5 Data')\n",
        "plt.hist([data_lie['ecg'],data_lie['512fft']], bins, alpha = 0.5, label = ['ecg', '512'])\n",
        "plt.legend(loc='upper left')\n",
        "\n",
        "plt.subplot(512)\n",
        "plt.hist([data_lie['ecg'],data_lie['400fft']], bins, alpha = 0.5, label = ['ecg', '400'])\n",
        "plt.legend(loc='upper left')\n",
        "\n",
        "plt.subplot(513)\n",
        "plt.hist([data_lie['ecg'],data_lie['200fft']], bins, alpha = 0.5, label = ['ecg', '200'])\n",
        "plt.legend(loc='upper left')\n",
        "\n",
        "plt.subplot(514)\n",
        "plt.hist([data_lie['ecg'],data_lie['100fft']], bins, alpha = 0.5, label = ['ecg', '100'])\n",
        "plt.legend(loc='upper left')\n",
        "\n",
        "plt.subplot(515)\n",
        "plt.hist([data_lie['ecg'],data_lie['70fft']], bins, alpha = 0.5, label = ['ecg', '70'])\n",
        "plt.legend(loc='upper left')\n",
        "\n",
        "plt.show()"
      ],
      "execution_count": 16,
      "outputs": [
        {
          "output_type": "display_data",
          "data": {
            "image/png": "[encoded data removed]",
            "text/plain": [
              "<Figure size 576x864 with 5 Axes>"
            ]
          },
          "metadata": {
            "needs_background": "light"
          }
        }
      ]
    },
    {
      "cell_type": "code",
      "metadata": {
        "colab": {
          "base_uri": "https://localhost:8080/",
          "height": 716
        },
        "id": "VGJeEdZg4eoI",
        "outputId": "93d65c50-629b-47ad-b7bd-d070232d6ce7"
      },
      "source": [
        "bins = np.linspace(40, 130, 30)\n",
        "plt.figure(figsize=(8,12))\n",
        "\n",
        "plt.subplot(511)\n",
        "plt.title('Lie 1.0 Data')\n",
        "plt.hist([data_lie_10['ecg'],data_lie_10['512fft']], bins, alpha = 0.5, label = ['ecg', '512'])\n",
        "plt.legend(loc='upper left')\n",
        "\n",
        "plt.subplot(512)\n",
        "plt.hist([data_lie_10['ecg'],data_lie_10['400fft']], bins, alpha = 0.5, label = ['ecg', '400'])\n",
        "plt.legend(loc='upper left')\n",
        "\n",
        "plt.subplot(513)\n",
        "plt.hist([data_lie_10['ecg'],data_lie_10['200fft']], bins, alpha = 0.5, label = ['ecg', '200'])\n",
        "plt.legend(loc='upper left')\n",
        "\n",
        "plt.subplot(514)\n",
        "plt.hist([data_lie_10['ecg'],data_lie_10['100fft']], bins, alpha = 0.5, label = ['ecg', '100'])\n",
        "plt.legend(loc='upper left')\n",
        "\n",
        "plt.subplot(515)\n",
        "plt.hist([data_lie_10['ecg'],data_lie_10['70fft']], bins, alpha = 0.5, label = ['ecg', '70'])\n",
        "plt.legend(loc='upper left')\n",
        "\n",
        "plt.show()"
      ],
      "execution_count": 17,
      "outputs": [
        {
          "output_type": "display_data",
          "data": {
            "image/png": "[encoded data removed]",
            "text/plain": [
              "<Figure size 576x864 with 5 Axes>"
            ]
          },
          "metadata": {
            "needs_background": "light"
          }
        }
      ]
    },
    {
      "cell_type": "code",
      "metadata": {
        "colab": {
          "base_uri": "https://localhost:8080/",
          "height": 374
        },
        "id": "F6Uga3p3xGbb",
        "outputId": "a8fe851e-d1e6-466f-8b2b-328fdb2cad97"
      },
      "source": [
        "data_sit_plot = data_sit.loc[:, ['ecg', 'bpm', '512fft', '400fft', '300fft', '200fft', '100fft', '70fft']]\n",
        "\n",
        "plt.figure(figsize=(9,6))\n",
        "sns.boxplot(data=data_sit_plot, palette='Pastel1')\n",
        "\n",
        "plt.show()"
      ],
      "execution_count": 18,
      "outputs": [
        {
          "output_type": "display_data",
          "data": {
            "image/png": "[encoded data removed]",
            "text/plain": [
              "<Figure size 648x432 with 1 Axes>"
            ]
          },
          "metadata": {
            "needs_background": "light"
          }
        }
      ]
    },
    {
      "cell_type": "code",
      "metadata": {
        "colab": {
          "base_uri": "https://localhost:8080/",
          "height": 374
        },
        "id": "HnGPdBwI2Mk4",
        "outputId": "81c8a137-776f-48b4-8c5c-fb5ed5bf8b57"
      },
      "source": [
        "data_sleep_plot = data_sleep.loc[:, ['ecg', 'bpm', '512fft', '400fft', '300fft', '200fft', '100fft', '70fft']]\n",
        "\n",
        "plt.figure(figsize=(9,6))\n",
        "sns.boxplot(data=data_sleep_plot, palette='Pastel1')\n",
        "\n",
        "plt.show()"
      ],
      "execution_count": 19,
      "outputs": [
        {
          "output_type": "display_data",
          "data": {
            "image/png": "[encoded data removed]",
            "text/plain": [
              "<Figure size 648x432 with 1 Axes>"
            ]
          },
          "metadata": {
            "needs_background": "light"
          }
        }
      ]
    },
    {
      "cell_type": "code",
      "metadata": {
        "colab": {
          "base_uri": "https://localhost:8080/",
          "height": 374
        },
        "id": "9YeRZ9sw2YIt",
        "outputId": "1a4f6b01-55a5-435a-ca37-a479a98a6190"
      },
      "source": [
        "data_lie_plot = data_lie_10.loc[:, ['ecg', 'bpm', '512fft', '400fft', '300fft', '200fft', '100fft', '70fft']]\n",
        "\n",
        "plt.figure(figsize=(9,6))\n",
        "sns.boxplot(data=data_lie_plot, palette='Pastel1')\n",
        "\n",
        "plt.show()"
      ],
      "execution_count": 20,
      "outputs": [
        {
          "output_type": "display_data",
          "data": {
            "image/png": "[encoded data removed]",
            "text/plain": [
              "<Figure size 648x432 with 1 Axes>"
            ]
          },
          "metadata": {
            "needs_background": "light"
          }
        }
      ]
    },
    {
      "cell_type": "markdown",
      "metadata": {
        "id": "gTtUiT4b1iEV"
      },
      "source": [
        "- Boxplot : 위에서부터 최대값, 3사분위수, 중앙값, 1사분위수, 최소값을 의미. 특이점은 점으로 표시."
      ]
    },
    {
      "cell_type": "markdown",
      "metadata": {
        "id": "pmgeNCrz87pz"
      },
      "source": [
        "### **(4) 상관관계 분석**"
      ]
    },
    {
      "cell_type": "code",
      "metadata": {
        "id": "n5nc4Bg09RyG"
      },
      "source": [
        "data_sit_corr = data_sit.loc[:, ['ecg', 'bpm', '512fft', '400fft', '300fft', '200fft', '100fft', '70fft']]\n",
        "data_sleep_corr = data_sleep.loc[:, ['ecg', 'bpm', '512fft', '400fft', '300fft', '200fft', '100fft', '70fft']]"
      ],
      "execution_count": 21,
      "outputs": []
    },
    {
      "cell_type": "code",
      "metadata": {
        "colab": {
          "base_uri": "https://localhost:8080/",
          "height": 297
        },
        "id": "2YXckRFlzuRN",
        "outputId": "4deed614-c11a-4b64-fee3-99dc39e1ba2c"
      },
      "source": [
        "sit_cor = data_sit_corr.corr()\n",
        "sleep_cor = data_sleep_corr.corr()\n",
        "sit_cor"
      ],
      "execution_count": 22,
      "outputs": [
        {
          "output_type": "execute_result",
          "data": {
            "text/html": [
              "<div>\n",
              "<style scoped>\n",
              "    .dataframe tbody tr th:only-of-type {\n",
              "        vertical-align: middle;\n",
              "    }\n",
              "\n",
              "    .dataframe tbody tr th {\n",
              "        vertical-align: top;\n",
              "    }\n",
              "\n",
              "    .dataframe thead th {\n",
              "        text-align: right;\n",
              "    }\n",
              "</style>\n",
              "<table border=\"1\" class=\"dataframe\">\n",
              "  <thead>\n",
              "    <tr style=\"text-align: right;\">\n",
              "      <th></th>\n",
              "      <th>ecg</th>\n",
              "      <th>bpm</th>\n",
              "      <th>512fft</th>\n",
              "      <th>400fft</th>\n",
              "      <th>300fft</th>\n",
              "      <th>200fft</th>\n",
              "      <th>100fft</th>\n",
              "      <th>70fft</th>\n",
              "    </tr>\n",
              "  </thead>\n",
              "  <tbody>\n",
              "    <tr>\n",
              "      <th>ecg</th>\n",
              "      <td>1.000000</td>\n",
              "      <td>0.844092</td>\n",
              "      <td>0.384999</td>\n",
              "      <td>0.046043</td>\n",
              "      <td>0.156338</td>\n",
              "      <td>0.229983</td>\n",
              "      <td>0.294353</td>\n",
              "      <td>0.355088</td>\n",
              "    </tr>\n",
              "    <tr>\n",
              "      <th>bpm</th>\n",
              "      <td>0.844092</td>\n",
              "      <td>1.000000</td>\n",
              "      <td>0.543525</td>\n",
              "      <td>0.092161</td>\n",
              "      <td>0.208695</td>\n",
              "      <td>0.320577</td>\n",
              "      <td>0.395330</td>\n",
              "      <td>0.501176</td>\n",
              "    </tr>\n",
              "    <tr>\n",
              "      <th>512fft</th>\n",
              "      <td>0.384999</td>\n",
              "      <td>0.543525</td>\n",
              "      <td>1.000000</td>\n",
              "      <td>0.141598</td>\n",
              "      <td>0.289852</td>\n",
              "      <td>0.444118</td>\n",
              "      <td>0.504785</td>\n",
              "      <td>0.675439</td>\n",
              "    </tr>\n",
              "    <tr>\n",
              "      <th>400fft</th>\n",
              "      <td>0.046043</td>\n",
              "      <td>0.092161</td>\n",
              "      <td>0.141598</td>\n",
              "      <td>1.000000</td>\n",
              "      <td>0.337706</td>\n",
              "      <td>0.158967</td>\n",
              "      <td>0.144469</td>\n",
              "      <td>0.155585</td>\n",
              "    </tr>\n",
              "    <tr>\n",
              "      <th>300fft</th>\n",
              "      <td>0.156338</td>\n",
              "      <td>0.208695</td>\n",
              "      <td>0.289852</td>\n",
              "      <td>0.337706</td>\n",
              "      <td>1.000000</td>\n",
              "      <td>0.498222</td>\n",
              "      <td>0.379973</td>\n",
              "      <td>0.329359</td>\n",
              "    </tr>\n",
              "    <tr>\n",
              "      <th>200fft</th>\n",
              "      <td>0.229983</td>\n",
              "      <td>0.320577</td>\n",
              "      <td>0.444118</td>\n",
              "      <td>0.158967</td>\n",
              "      <td>0.498222</td>\n",
              "      <td>1.000000</td>\n",
              "      <td>0.601967</td>\n",
              "      <td>0.502338</td>\n",
              "    </tr>\n",
              "    <tr>\n",
              "      <th>100fft</th>\n",
              "      <td>0.294353</td>\n",
              "      <td>0.395330</td>\n",
              "      <td>0.504785</td>\n",
              "      <td>0.144469</td>\n",
              "      <td>0.379973</td>\n",
              "      <td>0.601967</td>\n",
              "      <td>1.000000</td>\n",
              "      <td>0.593368</td>\n",
              "    </tr>\n",
              "    <tr>\n",
              "      <th>70fft</th>\n",
              "      <td>0.355088</td>\n",
              "      <td>0.501176</td>\n",
              "      <td>0.675439</td>\n",
              "      <td>0.155585</td>\n",
              "      <td>0.329359</td>\n",
              "      <td>0.502338</td>\n",
              "      <td>0.593368</td>\n",
              "      <td>1.000000</td>\n",
              "    </tr>\n",
              "  </tbody>\n",
              "</table>\n",
              "</div>"
            ],
            "text/plain": [
              "             ecg       bpm    512fft  ...    200fft    100fft     70fft\n",
              "ecg     1.000000  0.844092  0.384999  ...  0.229983  0.294353  0.355088\n",
              "bpm     0.844092  1.000000  0.543525  ...  0.320577  0.395330  0.501176\n",
              "512fft  0.384999  0.543525  1.000000  ...  0.444118  0.504785  0.675439\n",
              "400fft  0.046043  0.092161  0.141598  ...  0.158967  0.144469  0.155585\n",
              "300fft  0.156338  0.208695  0.289852  ...  0.498222  0.379973  0.329359\n",
              "200fft  0.229983  0.320577  0.444118  ...  1.000000  0.601967  0.502338\n",
              "100fft  0.294353  0.395330  0.504785  ...  0.601967  1.000000  0.593368\n",
              "70fft   0.355088  0.501176  0.675439  ...  0.502338  0.593368  1.000000\n",
              "\n",
              "[8 rows x 8 columns]"
            ]
          },
          "metadata": {},
          "execution_count": 22
        }
      ]
    },
    {
      "cell_type": "code",
      "metadata": {
        "colab": {
          "base_uri": "https://localhost:8080/",
          "height": 428
        },
        "id": "nO2zqgz5WFiD",
        "outputId": "aba332b2-0d95-4c30-cace-e9fc83a1013f"
      },
      "source": [
        "# 그림 사이즈\n",
        "fig, ax = plt.subplots( figsize=(8,7) )\n",
        "\n",
        "# 삼각형 마스크\n",
        "mask = np.zeros_like(sit_cor, dtype=np.bool)\n",
        "mask[np.triu_indices_from(mask)] = True\n",
        "\n",
        "# 히트맵\n",
        "sns.heatmap(sit_cor, \n",
        "            cmap = 'RdYlBu_r', # 컬러\n",
        "            annot = True,      # 값 표시\n",
        "            mask=mask,         # 표시하지 않을 마스크 부분을 지정\n",
        "            linewidths=.5,     # 경계면 실선\n",
        "            cbar_kws={\"shrink\": .6},  # 컬러바 크기\n",
        "            vmin = -1,vmax = 1        # 컬러바 범위 -1 ~ 1\n",
        "            )  \n",
        "plt.show()"
      ],
      "execution_count": 23,
      "outputs": [
        {
          "output_type": "display_data",
          "data": {
            "image/png": "[encoded data removed]",
            "text/plain": [
              "<Figure size 576x504 with 2 Axes>"
            ]
          },
          "metadata": {
            "needs_background": "light"
          }
        }
      ]
    },
    {
      "cell_type": "code",
      "metadata": {
        "colab": {
          "base_uri": "https://localhost:8080/",
          "height": 428
        },
        "id": "QUVKttYOAgnd",
        "outputId": "c4a3ec14-47f4-4e1f-af9a-6c517b4cc492"
      },
      "source": [
        "# 그림 사이즈\n",
        "fig, ax = plt.subplots( figsize=(8,7) )\n",
        "\n",
        "# 삼각형 마스크\n",
        "mask = np.zeros_like(sleep_cor, dtype=np.bool)\n",
        "mask[np.triu_indices_from(mask)] = True\n",
        "\n",
        "# 히트맵\n",
        "sns.heatmap(sleep_cor, \n",
        "            cmap = 'RdYlBu_r', # 컬러\n",
        "            annot = True,      # 값 표시\n",
        "            mask=mask,         # 표시하지 않을 마스크 부분을 지정\n",
        "            linewidths=.5,     # 경계면 실선\n",
        "            cbar_kws={\"shrink\": .6},  # 컬러바 크기\n",
        "            vmin = -1,vmax = 1        # 컬러바 범위 -1 ~ 1\n",
        "            )  \n",
        "plt.show()"
      ],
      "execution_count": 24,
      "outputs": [
        {
          "output_type": "display_data",
          "data": {
            "image/png": "[encoded data removed]",
            "text/plain": [
              "<Figure size 576x504 with 2 Axes>"
            ]
          },
          "metadata": {
            "needs_background": "light"
          }
        }
      ]
    },
    {
      "cell_type": "code",
      "metadata": {
        "id": "n71XlZkCWFlb"
      },
      "source": [
        "data_sit_bin = data_sit.loc[:, ['ecg', 'bpm', 'bin-2', 'bin-1', 'bin0', 'bin1', 'bin2', '512fft', '70fft']]\n",
        "data_sleep_bin = data_sleep.loc[:, ['ecg', 'bpm', 'bin-2', 'bin-1', 'bin0', 'bin1', 'bin2', '512fft', '70fft']]"
      ],
      "execution_count": 25,
      "outputs": []
    },
    {
      "cell_type": "code",
      "metadata": {
        "colab": {
          "base_uri": "https://localhost:8080/",
          "height": 328
        },
        "id": "5tvLTgrsAFYo",
        "outputId": "459861fe-bd22-490b-f8aa-b5113e5a7df0"
      },
      "source": [
        "sit_bin_cor = data_sit_bin.corr()\n",
        "sleep_bin_cor = data_sleep_bin.corr()\n",
        "sit_bin_cor"
      ],
      "execution_count": 26,
      "outputs": [
        {
          "output_type": "execute_result",
          "data": {
            "text/html": [
              "<div>\n",
              "<style scoped>\n",
              "    .dataframe tbody tr th:only-of-type {\n",
              "        vertical-align: middle;\n",
              "    }\n",
              "\n",
              "    .dataframe tbody tr th {\n",
              "        vertical-align: top;\n",
              "    }\n",
              "\n",
              "    .dataframe thead th {\n",
              "        text-align: right;\n",
              "    }\n",
              "</style>\n",
              "<table border=\"1\" class=\"dataframe\">\n",
              "  <thead>\n",
              "    <tr style=\"text-align: right;\">\n",
              "      <th></th>\n",
              "      <th>ecg</th>\n",
              "      <th>bpm</th>\n",
              "      <th>bin-2</th>\n",
              "      <th>bin-1</th>\n",
              "      <th>bin0</th>\n",
              "      <th>bin1</th>\n",
              "      <th>bin2</th>\n",
              "      <th>512fft</th>\n",
              "      <th>70fft</th>\n",
              "    </tr>\n",
              "  </thead>\n",
              "  <tbody>\n",
              "    <tr>\n",
              "      <th>ecg</th>\n",
              "      <td>1.000000</td>\n",
              "      <td>0.844092</td>\n",
              "      <td>0.324115</td>\n",
              "      <td>0.378734</td>\n",
              "      <td>0.384999</td>\n",
              "      <td>0.326550</td>\n",
              "      <td>0.267509</td>\n",
              "      <td>0.384999</td>\n",
              "      <td>0.355088</td>\n",
              "    </tr>\n",
              "    <tr>\n",
              "      <th>bpm</th>\n",
              "      <td>0.844092</td>\n",
              "      <td>1.000000</td>\n",
              "      <td>0.453621</td>\n",
              "      <td>0.482851</td>\n",
              "      <td>0.543525</td>\n",
              "      <td>0.468286</td>\n",
              "      <td>0.391115</td>\n",
              "      <td>0.543525</td>\n",
              "      <td>0.501176</td>\n",
              "    </tr>\n",
              "    <tr>\n",
              "      <th>bin-2</th>\n",
              "      <td>0.324115</td>\n",
              "      <td>0.453621</td>\n",
              "      <td>1.000000</td>\n",
              "      <td>0.491840</td>\n",
              "      <td>0.480962</td>\n",
              "      <td>0.250397</td>\n",
              "      <td>0.277675</td>\n",
              "      <td>0.480962</td>\n",
              "      <td>0.456949</td>\n",
              "    </tr>\n",
              "    <tr>\n",
              "      <th>bin-1</th>\n",
              "      <td>0.378734</td>\n",
              "      <td>0.482851</td>\n",
              "      <td>0.491840</td>\n",
              "      <td>1.000000</td>\n",
              "      <td>0.538501</td>\n",
              "      <td>0.324970</td>\n",
              "      <td>0.274559</td>\n",
              "      <td>0.538501</td>\n",
              "      <td>0.442925</td>\n",
              "    </tr>\n",
              "    <tr>\n",
              "      <th>bin0</th>\n",
              "      <td>0.384999</td>\n",
              "      <td>0.543525</td>\n",
              "      <td>0.480962</td>\n",
              "      <td>0.538501</td>\n",
              "      <td>1.000000</td>\n",
              "      <td>0.498571</td>\n",
              "      <td>0.443443</td>\n",
              "      <td>1.000000</td>\n",
              "      <td>0.675439</td>\n",
              "    </tr>\n",
              "    <tr>\n",
              "      <th>bin1</th>\n",
              "      <td>0.326550</td>\n",
              "      <td>0.468286</td>\n",
              "      <td>0.250397</td>\n",
              "      <td>0.324970</td>\n",
              "      <td>0.498571</td>\n",
              "      <td>1.000000</td>\n",
              "      <td>0.377884</td>\n",
              "      <td>0.498571</td>\n",
              "      <td>0.483961</td>\n",
              "    </tr>\n",
              "    <tr>\n",
              "      <th>bin2</th>\n",
              "      <td>0.267509</td>\n",
              "      <td>0.391115</td>\n",
              "      <td>0.277675</td>\n",
              "      <td>0.274559</td>\n",
              "      <td>0.443443</td>\n",
              "      <td>0.377884</td>\n",
              "      <td>1.000000</td>\n",
              "      <td>0.443443</td>\n",
              "      <td>0.373322</td>\n",
              "    </tr>\n",
              "    <tr>\n",
              "      <th>512fft</th>\n",
              "      <td>0.384999</td>\n",
              "      <td>0.543525</td>\n",
              "      <td>0.480962</td>\n",
              "      <td>0.538501</td>\n",
              "      <td>1.000000</td>\n",
              "      <td>0.498571</td>\n",
              "      <td>0.443443</td>\n",
              "      <td>1.000000</td>\n",
              "      <td>0.675439</td>\n",
              "    </tr>\n",
              "    <tr>\n",
              "      <th>70fft</th>\n",
              "      <td>0.355088</td>\n",
              "      <td>0.501176</td>\n",
              "      <td>0.456949</td>\n",
              "      <td>0.442925</td>\n",
              "      <td>0.675439</td>\n",
              "      <td>0.483961</td>\n",
              "      <td>0.373322</td>\n",
              "      <td>0.675439</td>\n",
              "      <td>1.000000</td>\n",
              "    </tr>\n",
              "  </tbody>\n",
              "</table>\n",
              "</div>"
            ],
            "text/plain": [
              "             ecg       bpm     bin-2  ...      bin2    512fft     70fft\n",
              "ecg     1.000000  0.844092  0.324115  ...  0.267509  0.384999  0.355088\n",
              "bpm     0.844092  1.000000  0.453621  ...  0.391115  0.543525  0.501176\n",
              "bin-2   0.324115  0.453621  1.000000  ...  0.277675  0.480962  0.456949\n",
              "bin-1   0.378734  0.482851  0.491840  ...  0.274559  0.538501  0.442925\n",
              "bin0    0.384999  0.543525  0.480962  ...  0.443443  1.000000  0.675439\n",
              "bin1    0.326550  0.468286  0.250397  ...  0.377884  0.498571  0.483961\n",
              "bin2    0.267509  0.391115  0.277675  ...  1.000000  0.443443  0.373322\n",
              "512fft  0.384999  0.543525  0.480962  ...  0.443443  1.000000  0.675439\n",
              "70fft   0.355088  0.501176  0.456949  ...  0.373322  0.675439  1.000000\n",
              "\n",
              "[9 rows x 9 columns]"
            ]
          },
          "metadata": {},
          "execution_count": 26
        }
      ]
    },
    {
      "cell_type": "code",
      "metadata": {
        "colab": {
          "base_uri": "https://localhost:8080/",
          "height": 428
        },
        "id": "Y_IKTiiXAFca",
        "outputId": "6b3a7767-c1eb-493d-c91c-a4c98bcde9bb"
      },
      "source": [
        "# 그림 사이즈\n",
        "fig, ax = plt.subplots( figsize=(8,7) )\n",
        "\n",
        "# 삼각형 마스크\n",
        "mask = np.zeros_like(sit_bin_cor, dtype=np.bool)\n",
        "mask[np.triu_indices_from(mask)] = True\n",
        "\n",
        "# 히트맵\n",
        "sns.heatmap(sit_bin_cor, \n",
        "            cmap = 'RdYlBu_r', # 컬러\n",
        "            annot = True,      # 값 표시\n",
        "            mask=mask,         # 표시하지 않을 마스크 부분을 지정\n",
        "            linewidths=.5,     # 경계면 실선\n",
        "            cbar_kws={\"shrink\": .6},  # 컬러바 크기\n",
        "            vmin = -1,vmax = 1        # 컬러바 범위 -1 ~ 1\n",
        "            )  \n",
        "plt.show()"
      ],
      "execution_count": 27,
      "outputs": [
        {
          "output_type": "display_data",
          "data": {
            "image/png": "[encoded data removed]",
            "text/plain": [
              "<Figure size 576x504 with 2 Axes>"
            ]
          },
          "metadata": {
            "needs_background": "light"
          }
        }
      ]
    },
    {
      "cell_type": "markdown",
      "metadata": {
        "id": "UHA8P4fXG_BN"
      },
      "source": [
        "### **(2) 2번보기**"
      ]
    },
    {
      "cell_type": "code",
      "metadata": {
        "id": "aUaRIpLzHQeJ"
      },
      "source": [
        ""
      ],
      "execution_count": 27,
      "outputs": []
    },
    {
      "cell_type": "code",
      "metadata": {
        "id": "tAf9ku-MHQjp"
      },
      "source": [
        ""
      ],
      "execution_count": 27,
      "outputs": []
    },
    {
      "cell_type": "markdown",
      "metadata": {
        "id": "db2bf7w25tyg"
      },
      "source": [
        "## **4. 머신러닝 모델 확인**"
      ]
    },
    {
      "cell_type": "markdown",
      "metadata": {
        "id": "Z13a6-jUeH44"
      },
      "source": [
        "### **(1) Sit 0.5 데이터**"
      ]
    },
    {
      "cell_type": "code",
      "metadata": {
        "colab": {
          "base_uri": "https://localhost:8080/"
        },
        "id": "_Ib0vngMtiFl",
        "outputId": "be115fa9-43e4-413c-f276-749b15a6ffed"
      },
      "source": [
        "import math\n",
        "from numpy.random import seed\n",
        "seed(1)\n",
        "import statsmodels.api as sm\n",
        "import statsmodels.formula.api as smf\n",
        "import tensorflow\n",
        "tensorflow.random.set_seed(1)\n",
        "from tensorflow.python.keras.layers import Dense\n",
        "from tensorflow.keras.layers import Dropout\n",
        "from tensorflow.python.keras.models import Sequential\n",
        "from tensorflow.python.keras.wrappers.scikit_learn import KerasRegressor\n",
        "from sklearn.metrics import mean_absolute_error\n",
        "from sklearn.metrics import mean_squared_error\n",
        "from sklearn.model_selection import train_test_split\n",
        "from sklearn.preprocessing import MinMaxScaler\n",
        "from sklearn.metrics import mean_absolute_error"
      ],
      "execution_count": 28,
      "outputs": [
        {
          "output_type": "stream",
          "name": "stderr",
          "text": [
            "/usr/local/lib/python3.7/dist-packages/statsmodels/tools/_testing.py:19: FutureWarning: pandas.util.testing is deprecated. Use the functions in the public API at pandas.testing instead.\n",
            "  import pandas.util.testing as tm\n"
          ]
        }
      ]
    },
    {
      "cell_type": "code",
      "metadata": {
        "id": "1aNmyyZQ5z08",
        "colab": {
          "base_uri": "https://localhost:8080/",
          "height": 204
        },
        "outputId": "b374ac64-1caa-46d4-8132-077349e78fb1"
      },
      "source": [
        "X_train, X_val, y_train, y_val = train_test_split(data_sit.loc[:, ['512fft','400fft','300fft','200fft','100fft','70fft','bin_var','motion_energy']], data_sit['ecg'])\n",
        "\n",
        "X_train = pd.DataFrame(X_train)\n",
        "X_val = pd.DataFrame(X_val)\n",
        "y_train = pd.DataFrame(y_train)\n",
        "y_val = pd.DataFrame(y_val)\n",
        "\n",
        "X_train.head()"
      ],
      "execution_count": 29,
      "outputs": [
        {
          "output_type": "execute_result",
          "data": {
            "text/html": [
              "<div>\n",
              "<style scoped>\n",
              "    .dataframe tbody tr th:only-of-type {\n",
              "        vertical-align: middle;\n",
              "    }\n",
              "\n",
              "    .dataframe tbody tr th {\n",
              "        vertical-align: top;\n",
              "    }\n",
              "\n",
              "    .dataframe thead th {\n",
              "        text-align: right;\n",
              "    }\n",
              "</style>\n",
              "<table border=\"1\" class=\"dataframe\">\n",
              "  <thead>\n",
              "    <tr style=\"text-align: right;\">\n",
              "      <th></th>\n",
              "      <th>512fft</th>\n",
              "      <th>400fft</th>\n",
              "      <th>300fft</th>\n",
              "      <th>200fft</th>\n",
              "      <th>100fft</th>\n",
              "      <th>70fft</th>\n",
              "      <th>bin_var</th>\n",
              "      <th>motion_energy</th>\n",
              "    </tr>\n",
              "  </thead>\n",
              "  <tbody>\n",
              "    <tr>\n",
              "      <th>22809</th>\n",
              "      <td>93.750000</td>\n",
              "      <td>0.000000</td>\n",
              "      <td>78.515625</td>\n",
              "      <td>96.093750</td>\n",
              "      <td>83.203125</td>\n",
              "      <td>98.437500</td>\n",
              "      <td>0.6400</td>\n",
              "      <td>1.017334</td>\n",
              "    </tr>\n",
              "    <tr>\n",
              "      <th>3925</th>\n",
              "      <td>89.062500</td>\n",
              "      <td>93.164062</td>\n",
              "      <td>92.578125</td>\n",
              "      <td>90.234375</td>\n",
              "      <td>90.234375</td>\n",
              "      <td>89.062500</td>\n",
              "      <td>0.0000</td>\n",
              "      <td>1.101452</td>\n",
              "    </tr>\n",
              "    <tr>\n",
              "      <th>1377</th>\n",
              "      <td>86.718750</td>\n",
              "      <td>89.062500</td>\n",
              "      <td>86.718750</td>\n",
              "      <td>91.406250</td>\n",
              "      <td>85.546875</td>\n",
              "      <td>85.546875</td>\n",
              "      <td>0.2475</td>\n",
              "      <td>0.240138</td>\n",
              "    </tr>\n",
              "    <tr>\n",
              "      <th>8175</th>\n",
              "      <td>90.234375</td>\n",
              "      <td>99.609375</td>\n",
              "      <td>99.609375</td>\n",
              "      <td>97.265625</td>\n",
              "      <td>97.265625</td>\n",
              "      <td>97.265625</td>\n",
              "      <td>1.6875</td>\n",
              "      <td>0.364173</td>\n",
              "    </tr>\n",
              "    <tr>\n",
              "      <th>9796</th>\n",
              "      <td>98.437500</td>\n",
              "      <td>99.609375</td>\n",
              "      <td>97.265625</td>\n",
              "      <td>99.609375</td>\n",
              "      <td>98.437500</td>\n",
              "      <td>98.437500</td>\n",
              "      <td>4.4475</td>\n",
              "      <td>1.919607</td>\n",
              "    </tr>\n",
              "  </tbody>\n",
              "</table>\n",
              "</div>"
            ],
            "text/plain": [
              "          512fft     400fft     300fft  ...      70fft  bin_var  motion_energy\n",
              "22809  93.750000   0.000000  78.515625  ...  98.437500   0.6400       1.017334\n",
              "3925   89.062500  93.164062  92.578125  ...  89.062500   0.0000       1.101452\n",
              "1377   86.718750  89.062500  86.718750  ...  85.546875   0.2475       0.240138\n",
              "8175   90.234375  99.609375  99.609375  ...  97.265625   1.6875       0.364173\n",
              "9796   98.437500  99.609375  97.265625  ...  98.437500   4.4475       1.919607\n",
              "\n",
              "[5 rows x 8 columns]"
            ]
          },
          "metadata": {},
          "execution_count": 29
        }
      ]
    },
    {
      "cell_type": "code",
      "metadata": {
        "colab": {
          "base_uri": "https://localhost:8080/"
        },
        "id": "F7Tv0EE2PSm0",
        "outputId": "6dd36bc0-a33c-4bad-fdf8-f4b5495a1979"
      },
      "source": [
        "y_train.shape, y_val.shape"
      ],
      "execution_count": 30,
      "outputs": [
        {
          "output_type": "execute_result",
          "data": {
            "text/plain": [
              "((18000, 1), (6000, 1))"
            ]
          },
          "metadata": {},
          "execution_count": 30
        }
      ]
    },
    {
      "cell_type": "code",
      "metadata": {
        "id": "M6AlAcpbPSrD"
      },
      "source": [
        "y_train=np.reshape(y_train, (-1,1))\n",
        "y_val=np.reshape(y_val, (-1,1))"
      ],
      "execution_count": 31,
      "outputs": []
    },
    {
      "cell_type": "code",
      "metadata": {
        "id": "CK5ZRrqKPSu6"
      },
      "source": [
        "scaler_x = MinMaxScaler()\n",
        "scaler_y = MinMaxScaler()"
      ],
      "execution_count": 32,
      "outputs": []
    },
    {
      "cell_type": "code",
      "metadata": {
        "id": "aLsFUZVpPSy7"
      },
      "source": [
        "scaler_x.fit(X_train)\n",
        "xtrain_scale=scaler_x.transform(X_train)\n",
        "\n",
        "scaler_x.fit(X_val)\n",
        "xval_scale=scaler_x.transform(X_val)\n",
        "\n",
        "scaler_y.fit(y_train)\n",
        "ytrain_scale=scaler_y.transform(y_train)\n",
        "\n",
        "scaler_y.fit(y_val)\n",
        "yval_scale=scaler_y.transform(y_val)"
      ],
      "execution_count": 33,
      "outputs": []
    },
    {
      "cell_type": "code",
      "metadata": {
        "id": "GqtwCl0iZvy6"
      },
      "source": [
        "xtrain_scale = scaler_x.transform(X_train)\n",
        "xval_scale = scaler_x.transform(X_val)\n",
        "ytrain_scale = scaler_y.transform(y_train)\n",
        "yval_scale = scaler_y.transform(y_val)"
      ],
      "execution_count": 34,
      "outputs": []
    },
    {
      "cell_type": "code",
      "metadata": {
        "colab": {
          "base_uri": "https://localhost:8080/"
        },
        "id": "vLEVOBqOZv1a",
        "outputId": "8a3336d8-7213-4aec-dd83-75e2ceb902a6"
      },
      "source": [
        "model = Sequential()\n",
        "model.add(Dense(20, input_dim=8, kernel_initializer='normal', activation='relu'))\n",
        "model.add(Dense(30, activation='relu'))\n",
        "model.add(Dense(1, activation='linear'))\n",
        "model.summary()"
      ],
      "execution_count": 35,
      "outputs": [
        {
          "output_type": "stream",
          "name": "stdout",
          "text": [
            "Model: \"sequential\"\n",
            "_________________________________________________________________\n",
            "Layer (type)                 Output Shape              Param #   \n",
            "=================================================================\n",
            "dense (Dense)                (None, 20)                180       \n",
            "_________________________________________________________________\n",
            "dense_1 (Dense)              (None, 30)                630       \n",
            "_________________________________________________________________\n",
            "dense_2 (Dense)              (None, 1)                 31        \n",
            "=================================================================\n",
            "Total params: 841\n",
            "Trainable params: 841\n",
            "Non-trainable params: 0\n",
            "_________________________________________________________________\n"
          ]
        }
      ]
    },
    {
      "cell_type": "code",
      "metadata": {
        "colab": {
          "base_uri": "https://localhost:8080/"
        },
        "id": "9MvVbgjOZv4t",
        "outputId": "bdcd6b64-66fb-47ff-e2d8-3413c6fb3837"
      },
      "source": [
        "print(xtrain_scale.shape, ytrain_scale.shape)"
      ],
      "execution_count": 36,
      "outputs": [
        {
          "output_type": "stream",
          "name": "stdout",
          "text": [
            "(18000, 8) (18000, 1)\n"
          ]
        }
      ]
    },
    {
      "cell_type": "code",
      "metadata": {
        "colab": {
          "base_uri": "https://localhost:8080/"
        },
        "id": "b7F3WO_aaG5v",
        "outputId": "ebe71edf-5981-4fdc-ea40-a7c54ccb4e4c"
      },
      "source": [
        "model.compile(loss='mse', optimizer='adam', metrics=['mse','mae'])\n",
        "history = model.fit(xtrain_scale, ytrain_scale, epochs=30, batch_size=150, verbose=1, validation_split=0.2)"
      ],
      "execution_count": 37,
      "outputs": [
        {
          "output_type": "stream",
          "name": "stdout",
          "text": [
            "Epoch 1/30\n",
            "96/96 [==============================] - 1s 4ms/step - loss: 0.0197 - mse: 0.0197 - mae: 0.1075 - val_loss: 0.0101 - val_mse: 0.0101 - val_mae: 0.0804\n",
            "Epoch 2/30\n",
            "96/96 [==============================] - 0s 3ms/step - loss: 0.0099 - mse: 0.0099 - mae: 0.0802 - val_loss: 0.0095 - val_mse: 0.0095 - val_mae: 0.0791\n",
            "Epoch 3/30\n",
            "96/96 [==============================] - 0s 2ms/step - loss: 0.0094 - mse: 0.0094 - mae: 0.0786 - val_loss: 0.0090 - val_mse: 0.0090 - val_mae: 0.0765\n",
            "Epoch 4/30\n",
            "96/96 [==============================] - 0s 2ms/step - loss: 0.0088 - mse: 0.0088 - mae: 0.0765 - val_loss: 0.0082 - val_mse: 0.0082 - val_mae: 0.0745\n",
            "Epoch 5/30\n",
            "96/96 [==============================] - 0s 2ms/step - loss: 0.0083 - mse: 0.0083 - mae: 0.0744 - val_loss: 0.0077 - val_mse: 0.0077 - val_mae: 0.0720\n",
            "Epoch 6/30\n",
            "96/96 [==============================] - 0s 2ms/step - loss: 0.0077 - mse: 0.0077 - mae: 0.0714 - val_loss: 0.0071 - val_mse: 0.0071 - val_mae: 0.0689\n",
            "Epoch 7/30\n",
            "96/96 [==============================] - 0s 2ms/step - loss: 0.0071 - mse: 0.0071 - mae: 0.0677 - val_loss: 0.0066 - val_mse: 0.0066 - val_mae: 0.0650\n",
            "Epoch 8/30\n",
            "96/96 [==============================] - 0s 2ms/step - loss: 0.0067 - mse: 0.0067 - mae: 0.0641 - val_loss: 0.0064 - val_mse: 0.0064 - val_mae: 0.0623\n",
            "Epoch 9/30\n",
            "96/96 [==============================] - 0s 3ms/step - loss: 0.0065 - mse: 0.0065 - mae: 0.0621 - val_loss: 0.0060 - val_mse: 0.0060 - val_mae: 0.0599\n",
            "Epoch 10/30\n",
            "96/96 [==============================] - 0s 2ms/step - loss: 0.0063 - mse: 0.0063 - mae: 0.0600 - val_loss: 0.0059 - val_mse: 0.0059 - val_mae: 0.0585\n",
            "Epoch 11/30\n",
            "96/96 [==============================] - 0s 2ms/step - loss: 0.0061 - mse: 0.0061 - mae: 0.0584 - val_loss: 0.0060 - val_mse: 0.0060 - val_mae: 0.0585\n",
            "Epoch 12/30\n",
            "96/96 [==============================] - 0s 2ms/step - loss: 0.0060 - mse: 0.0060 - mae: 0.0572 - val_loss: 0.0058 - val_mse: 0.0058 - val_mae: 0.0567\n",
            "Epoch 13/30\n",
            "96/96 [==============================] - 0s 2ms/step - loss: 0.0059 - mse: 0.0059 - mae: 0.0566 - val_loss: 0.0056 - val_mse: 0.0056 - val_mae: 0.0552\n",
            "Epoch 14/30\n",
            "96/96 [==============================] - 0s 2ms/step - loss: 0.0058 - mse: 0.0058 - mae: 0.0557 - val_loss: 0.0055 - val_mse: 0.0055 - val_mae: 0.0543\n",
            "Epoch 15/30\n",
            "96/96 [==============================] - 0s 2ms/step - loss: 0.0058 - mse: 0.0058 - mae: 0.0548 - val_loss: 0.0054 - val_mse: 0.0054 - val_mae: 0.0535\n",
            "Epoch 16/30\n",
            "96/96 [==============================] - 0s 2ms/step - loss: 0.0058 - mse: 0.0058 - mae: 0.0545 - val_loss: 0.0054 - val_mse: 0.0054 - val_mae: 0.0538\n",
            "Epoch 17/30\n",
            "96/96 [==============================] - 0s 2ms/step - loss: 0.0057 - mse: 0.0057 - mae: 0.0542 - val_loss: 0.0055 - val_mse: 0.0055 - val_mae: 0.0542\n",
            "Epoch 18/30\n",
            "96/96 [==============================] - 0s 2ms/step - loss: 0.0056 - mse: 0.0056 - mae: 0.0536 - val_loss: 0.0054 - val_mse: 0.0054 - val_mae: 0.0531\n",
            "Epoch 19/30\n",
            "96/96 [==============================] - 0s 3ms/step - loss: 0.0056 - mse: 0.0056 - mae: 0.0534 - val_loss: 0.0053 - val_mse: 0.0053 - val_mae: 0.0525\n",
            "Epoch 20/30\n",
            "96/96 [==============================] - 0s 2ms/step - loss: 0.0056 - mse: 0.0056 - mae: 0.0534 - val_loss: 0.0054 - val_mse: 0.0054 - val_mae: 0.0524\n",
            "Epoch 21/30\n",
            "96/96 [==============================] - 0s 2ms/step - loss: 0.0056 - mse: 0.0056 - mae: 0.0534 - val_loss: 0.0055 - val_mse: 0.0055 - val_mae: 0.0530\n",
            "Epoch 22/30\n",
            "96/96 [==============================] - 0s 2ms/step - loss: 0.0056 - mse: 0.0056 - mae: 0.0530 - val_loss: 0.0052 - val_mse: 0.0052 - val_mae: 0.0518\n",
            "Epoch 23/30\n",
            "96/96 [==============================] - 0s 3ms/step - loss: 0.0055 - mse: 0.0055 - mae: 0.0523 - val_loss: 0.0052 - val_mse: 0.0052 - val_mae: 0.0516\n",
            "Epoch 24/30\n",
            "96/96 [==============================] - 0s 2ms/step - loss: 0.0055 - mse: 0.0055 - mae: 0.0529 - val_loss: 0.0053 - val_mse: 0.0053 - val_mae: 0.0518\n",
            "Epoch 25/30\n",
            "96/96 [==============================] - 0s 2ms/step - loss: 0.0055 - mse: 0.0055 - mae: 0.0526 - val_loss: 0.0052 - val_mse: 0.0052 - val_mae: 0.0522\n",
            "Epoch 26/30\n",
            "96/96 [==============================] - 0s 2ms/step - loss: 0.0055 - mse: 0.0055 - mae: 0.0523 - val_loss: 0.0051 - val_mse: 0.0051 - val_mae: 0.0508\n",
            "Epoch 27/30\n",
            "96/96 [==============================] - 0s 2ms/step - loss: 0.0055 - mse: 0.0055 - mae: 0.0520 - val_loss: 0.0051 - val_mse: 0.0051 - val_mae: 0.0511\n",
            "Epoch 28/30\n",
            "96/96 [==============================] - 0s 2ms/step - loss: 0.0054 - mse: 0.0054 - mae: 0.0521 - val_loss: 0.0051 - val_mse: 0.0051 - val_mae: 0.0514\n",
            "Epoch 29/30\n",
            "96/96 [==============================] - 0s 2ms/step - loss: 0.0054 - mse: 0.0054 - mae: 0.0516 - val_loss: 0.0050 - val_mse: 0.0050 - val_mae: 0.0504\n",
            "Epoch 30/30\n",
            "96/96 [==============================] - 0s 2ms/step - loss: 0.0053 - mse: 0.0053 - mae: 0.0513 - val_loss: 0.0050 - val_mse: 0.0050 - val_mae: 0.0504\n"
          ]
        }
      ]
    },
    {
      "cell_type": "code",
      "metadata": {
        "colab": {
          "base_uri": "https://localhost:8080/"
        },
        "id": "OK57s28biByG",
        "outputId": "095c8573-293d-41ce-c1ad-a1d8e83ecbd1"
      },
      "source": [
        "scaler_y.fit(y_train)\n",
        "\n",
        "predictions = model.predict(xval_scale)\n",
        "sit_predictions = scaler_y.inverse_transform(predictions)\n",
        "sit_predictions"
      ],
      "execution_count": 38,
      "outputs": [
        {
          "output_type": "execute_result",
          "data": {
            "text/plain": [
              "array([[88.95556 ],\n",
              "       [88.28497 ],\n",
              "       [95.76537 ],\n",
              "       ...,\n",
              "       [91.464195],\n",
              "       [88.46992 ],\n",
              "       [91.19602 ]], dtype=float32)"
            ]
          },
          "metadata": {},
          "execution_count": 38
        }
      ]
    },
    {
      "cell_type": "code",
      "metadata": {
        "colab": {
          "base_uri": "https://localhost:8080/"
        },
        "id": "JEJlxDjciB1O",
        "outputId": "e77759d1-1231-4280-e1a9-c5df0d608700"
      },
      "source": [
        "np.average(sit_predictions)"
      ],
      "execution_count": 39,
      "outputs": [
        {
          "output_type": "execute_result",
          "data": {
            "text/plain": [
              "90.682396"
            ]
          },
          "metadata": {},
          "execution_count": 39
        }
      ]
    },
    {
      "cell_type": "code",
      "metadata": {
        "colab": {
          "base_uri": "https://localhost:8080/",
          "height": 419
        },
        "id": "Bjm-Mx4kpU64",
        "outputId": "f80e07fb-2b39-4e1b-db19-14eedcea027f"
      },
      "source": [
        "df_sit_label = y_val.reset_index(drop=True)\n",
        "df_sit_predict = pd.DataFrame(sit_predictions, columns=['predict'])\n",
        "\n",
        "df_sit_predict = pd.concat([df_sit_label, df_sit_predict], axis=1)\n",
        "\n",
        "df_sit_predict"
      ],
      "execution_count": 40,
      "outputs": [
        {
          "output_type": "execute_result",
          "data": {
            "text/html": [
              "<div>\n",
              "<style scoped>\n",
              "    .dataframe tbody tr th:only-of-type {\n",
              "        vertical-align: middle;\n",
              "    }\n",
              "\n",
              "    .dataframe tbody tr th {\n",
              "        vertical-align: top;\n",
              "    }\n",
              "\n",
              "    .dataframe thead th {\n",
              "        text-align: right;\n",
              "    }\n",
              "</style>\n",
              "<table border=\"1\" class=\"dataframe\">\n",
              "  <thead>\n",
              "    <tr style=\"text-align: right;\">\n",
              "      <th></th>\n",
              "      <th>ecg</th>\n",
              "      <th>predict</th>\n",
              "    </tr>\n",
              "  </thead>\n",
              "  <tbody>\n",
              "    <tr>\n",
              "      <th>0</th>\n",
              "      <td>89.546828</td>\n",
              "      <td>88.955559</td>\n",
              "    </tr>\n",
              "    <tr>\n",
              "      <th>1</th>\n",
              "      <td>88.014639</td>\n",
              "      <td>88.284973</td>\n",
              "    </tr>\n",
              "    <tr>\n",
              "      <th>2</th>\n",
              "      <td>93.888889</td>\n",
              "      <td>95.765373</td>\n",
              "    </tr>\n",
              "    <tr>\n",
              "      <th>3</th>\n",
              "      <td>93.169985</td>\n",
              "      <td>93.209053</td>\n",
              "    </tr>\n",
              "    <tr>\n",
              "      <th>4</th>\n",
              "      <td>86.161399</td>\n",
              "      <td>88.526154</td>\n",
              "    </tr>\n",
              "    <tr>\n",
              "      <th>...</th>\n",
              "      <td>...</td>\n",
              "      <td>...</td>\n",
              "    </tr>\n",
              "    <tr>\n",
              "      <th>5995</th>\n",
              "      <td>98.673249</td>\n",
              "      <td>97.595024</td>\n",
              "    </tr>\n",
              "    <tr>\n",
              "      <th>5996</th>\n",
              "      <td>83.948339</td>\n",
              "      <td>87.278702</td>\n",
              "    </tr>\n",
              "    <tr>\n",
              "      <th>5997</th>\n",
              "      <td>84.936479</td>\n",
              "      <td>91.464195</td>\n",
              "    </tr>\n",
              "    <tr>\n",
              "      <th>5998</th>\n",
              "      <td>93.312883</td>\n",
              "      <td>88.469917</td>\n",
              "    </tr>\n",
              "    <tr>\n",
              "      <th>5999</th>\n",
              "      <td>90.614491</td>\n",
              "      <td>91.196022</td>\n",
              "    </tr>\n",
              "  </tbody>\n",
              "</table>\n",
              "<p>6000 rows × 2 columns</p>\n",
              "</div>"
            ],
            "text/plain": [
              "            ecg    predict\n",
              "0     89.546828  88.955559\n",
              "1     88.014639  88.284973\n",
              "2     93.888889  95.765373\n",
              "3     93.169985  93.209053\n",
              "4     86.161399  88.526154\n",
              "...         ...        ...\n",
              "5995  98.673249  97.595024\n",
              "5996  83.948339  87.278702\n",
              "5997  84.936479  91.464195\n",
              "5998  93.312883  88.469917\n",
              "5999  90.614491  91.196022\n",
              "\n",
              "[6000 rows x 2 columns]"
            ]
          },
          "metadata": {},
          "execution_count": 40
        }
      ]
    },
    {
      "cell_type": "code",
      "metadata": {
        "colab": {
          "base_uri": "https://localhost:8080/",
          "height": 407
        },
        "id": "mNF6gjojpU-u",
        "outputId": "ee30df84-d819-499d-dd6c-93eef07af829"
      },
      "source": [
        "# 타겟값 예측값 히스토그램\n",
        "bins = np.linspace(40, 130, 30)\n",
        "plt.figure(figsize=(12,6))\n",
        "\n",
        "plt.title('Sit Data Target & Predict')\n",
        "plt.hist([df_sit_predict['ecg'],df_sit_predict['predict']], bins, alpha = 0.5, label = ['target', 'predict'])\n",
        "plt.legend(loc='upper left')"
      ],
      "execution_count": 41,
      "outputs": [
        {
          "output_type": "execute_result",
          "data": {
            "text/plain": [
              "<matplotlib.legend.Legend at 0x7f70a24346d0>"
            ]
          },
          "metadata": {},
          "execution_count": 41
        },
        {
          "output_type": "display_data",
          "data": {
            "image/png": "[encoded data removed]",
            "text/plain": [
              "<Figure size 864x432 with 1 Axes>"
            ]
          },
          "metadata": {
            "needs_background": "light"
          }
        }
      ]
    },
    {
      "cell_type": "markdown",
      "metadata": {
        "id": "5FGOQhMNsrmj"
      },
      "source": [
        "- Sit 데이터의 경우 타겟값과 예측값이 비교적 비슷한 분포를 보인다.\n",
        "- 낮은 심박수에 대한 예측 성능이 떨어지는 것으로 보인다."
      ]
    },
    {
      "cell_type": "markdown",
      "metadata": {
        "id": "Aqorwlmzmv03"
      },
      "source": [
        "**오차율 확인**\n",
        "\n",
        "<img src=\"https://ifh.cc/g/1gvv9V.png\" width=\"300\">"
      ]
    },
    {
      "cell_type": "code",
      "metadata": {
        "colab": {
          "base_uri": "https://localhost:8080/",
          "height": 204
        },
        "id": "80vif8xAncof",
        "outputId": "ee4831fb-320a-4767-90fd-e3a0cf0e6811"
      },
      "source": [
        "df_sit_predict['Error_rate'] = 100 * (abs(df_sit_predict['ecg']-df_sit_predict['predict'])) / df_sit_predict['ecg']\n",
        "\n",
        "df_sit_predict.head()"
      ],
      "execution_count": 67,
      "outputs": [
        {
          "output_type": "execute_result",
          "data": {
            "text/html": [
              "<div>\n",
              "<style scoped>\n",
              "    .dataframe tbody tr th:only-of-type {\n",
              "        vertical-align: middle;\n",
              "    }\n",
              "\n",
              "    .dataframe tbody tr th {\n",
              "        vertical-align: top;\n",
              "    }\n",
              "\n",
              "    .dataframe thead th {\n",
              "        text-align: right;\n",
              "    }\n",
              "</style>\n",
              "<table border=\"1\" class=\"dataframe\">\n",
              "  <thead>\n",
              "    <tr style=\"text-align: right;\">\n",
              "      <th></th>\n",
              "      <th>ecg</th>\n",
              "      <th>predict</th>\n",
              "      <th>Error_rate</th>\n",
              "    </tr>\n",
              "  </thead>\n",
              "  <tbody>\n",
              "    <tr>\n",
              "      <th>0</th>\n",
              "      <td>89.546828</td>\n",
              "      <td>88.955559</td>\n",
              "      <td>0.660290</td>\n",
              "    </tr>\n",
              "    <tr>\n",
              "      <th>1</th>\n",
              "      <td>88.014639</td>\n",
              "      <td>88.284973</td>\n",
              "      <td>0.307147</td>\n",
              "    </tr>\n",
              "    <tr>\n",
              "      <th>2</th>\n",
              "      <td>93.888889</td>\n",
              "      <td>95.765373</td>\n",
              "      <td>1.998622</td>\n",
              "    </tr>\n",
              "    <tr>\n",
              "      <th>3</th>\n",
              "      <td>93.169985</td>\n",
              "      <td>93.209053</td>\n",
              "      <td>0.041932</td>\n",
              "    </tr>\n",
              "    <tr>\n",
              "      <th>4</th>\n",
              "      <td>86.161399</td>\n",
              "      <td>88.526154</td>\n",
              "      <td>2.744564</td>\n",
              "    </tr>\n",
              "  </tbody>\n",
              "</table>\n",
              "</div>"
            ],
            "text/plain": [
              "         ecg    predict  Error_rate\n",
              "0  89.546828  88.955559    0.660290\n",
              "1  88.014639  88.284973    0.307147\n",
              "2  93.888889  95.765373    1.998622\n",
              "3  93.169985  93.209053    0.041932\n",
              "4  86.161399  88.526154    2.744564"
            ]
          },
          "metadata": {},
          "execution_count": 67
        }
      ]
    },
    {
      "cell_type": "code",
      "metadata": {
        "colab": {
          "base_uri": "https://localhost:8080/"
        },
        "id": "1CF2yiQ0py3q",
        "outputId": "73209ace-d0d2-4e02-95fe-8e0ae59b1b2f"
      },
      "source": [
        "np.average(df_sit_predict['Error_rate'])"
      ],
      "execution_count": 68,
      "outputs": [
        {
          "output_type": "execute_result",
          "data": {
            "text/plain": [
              "2.5458896236526987"
            ]
          },
          "metadata": {},
          "execution_count": 68
        }
      ]
    },
    {
      "cell_type": "markdown",
      "metadata": {
        "id": "D9mTEJiGpu_D"
      },
      "source": [
        "### **(2) Sleep 1.0 데이터**"
      ]
    },
    {
      "cell_type": "code",
      "metadata": {
        "id": "Vr4SsMDKiB4r"
      },
      "source": [
        "X_s_train, X_s_val, y_s_train, y_s_val = train_test_split(data_sleep.loc[:, ['512fft','400fft','300fft','200fft','100fft','70fft','bin_var','motion_energy']], data_sleep['ecg'])\n",
        "\n",
        "X_s_train = pd.DataFrame(X_s_train)\n",
        "X_s_val = pd.DataFrame(X_s_val)\n",
        "y_s_train = pd.DataFrame(y_s_train)\n",
        "y_s_val = pd.DataFrame(y_s_val)"
      ],
      "execution_count": 42,
      "outputs": []
    },
    {
      "cell_type": "code",
      "metadata": {
        "colab": {
          "base_uri": "https://localhost:8080/",
          "height": 204
        },
        "id": "3nHT7dv5G0vM",
        "outputId": "e6230af4-67d8-4ba5-b5bb-4816dd44ffdb"
      },
      "source": [
        "X_s_train.head()"
      ],
      "execution_count": 43,
      "outputs": [
        {
          "output_type": "execute_result",
          "data": {
            "text/html": [
              "<div>\n",
              "<style scoped>\n",
              "    .dataframe tbody tr th:only-of-type {\n",
              "        vertical-align: middle;\n",
              "    }\n",
              "\n",
              "    .dataframe tbody tr th {\n",
              "        vertical-align: top;\n",
              "    }\n",
              "\n",
              "    .dataframe thead th {\n",
              "        text-align: right;\n",
              "    }\n",
              "</style>\n",
              "<table border=\"1\" class=\"dataframe\">\n",
              "  <thead>\n",
              "    <tr style=\"text-align: right;\">\n",
              "      <th></th>\n",
              "      <th>512fft</th>\n",
              "      <th>400fft</th>\n",
              "      <th>300fft</th>\n",
              "      <th>200fft</th>\n",
              "      <th>100fft</th>\n",
              "      <th>70fft</th>\n",
              "      <th>bin_var</th>\n",
              "      <th>motion_energy</th>\n",
              "    </tr>\n",
              "  </thead>\n",
              "  <tbody>\n",
              "    <tr>\n",
              "      <th>9073</th>\n",
              "      <td>70.312500</td>\n",
              "      <td>55.078125</td>\n",
              "      <td>49.218750</td>\n",
              "      <td>80.859375</td>\n",
              "      <td>79.687500</td>\n",
              "      <td>69.140625</td>\n",
              "      <td>12.96</td>\n",
              "      <td>0.932610</td>\n",
              "    </tr>\n",
              "    <tr>\n",
              "      <th>29798</th>\n",
              "      <td>77.343750</td>\n",
              "      <td>106.640625</td>\n",
              "      <td>108.984375</td>\n",
              "      <td>62.109375</td>\n",
              "      <td>59.765625</td>\n",
              "      <td>85.546875</td>\n",
              "      <td>15.36</td>\n",
              "      <td>0.257926</td>\n",
              "    </tr>\n",
              "    <tr>\n",
              "      <th>1410</th>\n",
              "      <td>101.953125</td>\n",
              "      <td>82.617188</td>\n",
              "      <td>79.687500</td>\n",
              "      <td>79.687500</td>\n",
              "      <td>80.859375</td>\n",
              "      <td>80.859375</td>\n",
              "      <td>12.00</td>\n",
              "      <td>5.295156</td>\n",
              "    </tr>\n",
              "    <tr>\n",
              "      <th>32353</th>\n",
              "      <td>58.593750</td>\n",
              "      <td>0.000000</td>\n",
              "      <td>60.937500</td>\n",
              "      <td>59.765625</td>\n",
              "      <td>58.593750</td>\n",
              "      <td>58.593750</td>\n",
              "      <td>35.64</td>\n",
              "      <td>1.684048</td>\n",
              "    </tr>\n",
              "    <tr>\n",
              "      <th>24795</th>\n",
              "      <td>75.000000</td>\n",
              "      <td>70.312500</td>\n",
              "      <td>76.171875</td>\n",
              "      <td>72.656250</td>\n",
              "      <td>73.828125</td>\n",
              "      <td>71.484375</td>\n",
              "      <td>0.00</td>\n",
              "      <td>0.397757</td>\n",
              "    </tr>\n",
              "  </tbody>\n",
              "</table>\n",
              "</div>"
            ],
            "text/plain": [
              "           512fft      400fft      300fft  ...      70fft  bin_var  motion_energy\n",
              "9073    70.312500   55.078125   49.218750  ...  69.140625    12.96       0.932610\n",
              "29798   77.343750  106.640625  108.984375  ...  85.546875    15.36       0.257926\n",
              "1410   101.953125   82.617188   79.687500  ...  80.859375    12.00       5.295156\n",
              "32353   58.593750    0.000000   60.937500  ...  58.593750    35.64       1.684048\n",
              "24795   75.000000   70.312500   76.171875  ...  71.484375     0.00       0.397757\n",
              "\n",
              "[5 rows x 8 columns]"
            ]
          },
          "metadata": {},
          "execution_count": 43
        }
      ]
    },
    {
      "cell_type": "code",
      "metadata": {
        "id": "P0POuxX62eV6"
      },
      "source": [
        "scaler_x = MinMaxScaler()\n",
        "scaler_y = MinMaxScaler()"
      ],
      "execution_count": 44,
      "outputs": []
    },
    {
      "cell_type": "code",
      "metadata": {
        "colab": {
          "base_uri": "https://localhost:8080/"
        },
        "id": "_-VgSgeEkVQ1",
        "outputId": "756190b7-9da2-4eac-c329-449f996e4797"
      },
      "source": [
        "y_s_train=np.reshape(y_s_train, (-1,1))\n",
        "y_s_val=np.reshape(y_s_val, (-1,1))\n",
        "\n",
        "scaler_x.fit(X_s_train)\n",
        "xtrain_s_scale = scaler_x.transform(X_s_train)\n",
        "scaler_x.fit(X_s_val)\n",
        "xval_s_scale = scaler_x.transform(X_s_val)\n",
        "scaler_y.fit(y_s_train)\n",
        "ytrain_s_scale = scaler_y.transform(y_s_train)\n",
        "scaler_y.fit(y_s_val)\n",
        "yval_s_scale = scaler_y.transform(y_s_val)\n",
        "\n",
        "xtrain_s_scale = scaler_x.transform(X_s_train)\n",
        "xval_s_scale = scaler_x.transform(X_s_val)\n",
        "ytrain_s_scale = scaler_y.transform(y_s_train)\n",
        "yval_s_scale = scaler_y.transform(y_s_val)\n",
        "\n",
        "model_s = Sequential()\n",
        "model_s.add(Dense(20, input_dim=8, kernel_initializer='normal', activation='relu'))\n",
        "model_s.add(Dense(30, activation='relu'))\n",
        "model_s.add(Dense(1, activation='linear'))\n",
        "model_s.summary()"
      ],
      "execution_count": 45,
      "outputs": [
        {
          "output_type": "stream",
          "name": "stdout",
          "text": [
            "Model: \"sequential_1\"\n",
            "_________________________________________________________________\n",
            "Layer (type)                 Output Shape              Param #   \n",
            "=================================================================\n",
            "dense_3 (Dense)              (None, 20)                180       \n",
            "_________________________________________________________________\n",
            "dense_4 (Dense)              (None, 30)                630       \n",
            "_________________________________________________________________\n",
            "dense_5 (Dense)              (None, 1)                 31        \n",
            "=================================================================\n",
            "Total params: 841\n",
            "Trainable params: 841\n",
            "Non-trainable params: 0\n",
            "_________________________________________________________________\n"
          ]
        }
      ]
    },
    {
      "cell_type": "code",
      "metadata": {
        "colab": {
          "base_uri": "https://localhost:8080/"
        },
        "id": "uvwUVW1eNuW8",
        "outputId": "743e8f89-bb4d-456b-f422-afa4c26ee97d"
      },
      "source": [
        "model_s.compile(loss='mse', optimizer='adam', metrics=['mse','mae'])\n",
        "history_s = model_s.fit(xtrain_s_scale, ytrain_s_scale, epochs=30, batch_size=150, verbose=1, validation_split=0.2)"
      ],
      "execution_count": 46,
      "outputs": [
        {
          "output_type": "stream",
          "name": "stdout",
          "text": [
            "Epoch 1/30\n",
            "149/149 [==============================] - 1s 3ms/step - loss: 0.0241 - mse: 0.0241 - mae: 0.1082 - val_loss: 0.0209 - val_mse: 0.0209 - val_mae: 0.1039\n",
            "Epoch 2/30\n",
            "149/149 [==============================] - 0s 2ms/step - loss: 0.0217 - mse: 0.0217 - mae: 0.1036 - val_loss: 0.0202 - val_mse: 0.0202 - val_mae: 0.0997\n",
            "Epoch 3/30\n",
            "149/149 [==============================] - 0s 2ms/step - loss: 0.0214 - mse: 0.0214 - mae: 0.1022 - val_loss: 0.0200 - val_mse: 0.0200 - val_mae: 0.0999\n",
            "Epoch 4/30\n",
            "149/149 [==============================] - 0s 2ms/step - loss: 0.0212 - mse: 0.0212 - mae: 0.1017 - val_loss: 0.0199 - val_mse: 0.0199 - val_mae: 0.1004\n",
            "Epoch 5/30\n",
            "149/149 [==============================] - 0s 2ms/step - loss: 0.0210 - mse: 0.0210 - mae: 0.1012 - val_loss: 0.0199 - val_mse: 0.0199 - val_mae: 0.1018\n",
            "Epoch 6/30\n",
            "149/149 [==============================] - 0s 2ms/step - loss: 0.0209 - mse: 0.0209 - mae: 0.1011 - val_loss: 0.0197 - val_mse: 0.0197 - val_mae: 0.0991\n",
            "Epoch 7/30\n",
            "149/149 [==============================] - 0s 2ms/step - loss: 0.0208 - mse: 0.0208 - mae: 0.1007 - val_loss: 0.0196 - val_mse: 0.0196 - val_mae: 0.0979\n",
            "Epoch 8/30\n",
            "149/149 [==============================] - 0s 2ms/step - loss: 0.0207 - mse: 0.0207 - mae: 0.1006 - val_loss: 0.0195 - val_mse: 0.0195 - val_mae: 0.0989\n",
            "Epoch 9/30\n",
            "149/149 [==============================] - 0s 2ms/step - loss: 0.0207 - mse: 0.0207 - mae: 0.1008 - val_loss: 0.0195 - val_mse: 0.0195 - val_mae: 0.0993\n",
            "Epoch 10/30\n",
            "149/149 [==============================] - 0s 2ms/step - loss: 0.0205 - mse: 0.0205 - mae: 0.1005 - val_loss: 0.0194 - val_mse: 0.0194 - val_mae: 0.0992\n",
            "Epoch 11/30\n",
            "149/149 [==============================] - 0s 2ms/step - loss: 0.0205 - mse: 0.0205 - mae: 0.1005 - val_loss: 0.0195 - val_mse: 0.0195 - val_mae: 0.1012\n",
            "Epoch 12/30\n",
            "149/149 [==============================] - 0s 2ms/step - loss: 0.0206 - mse: 0.0206 - mae: 0.1008 - val_loss: 0.0196 - val_mse: 0.0196 - val_mae: 0.1004\n",
            "Epoch 13/30\n",
            "149/149 [==============================] - 0s 2ms/step - loss: 0.0203 - mse: 0.0203 - mae: 0.1003 - val_loss: 0.0192 - val_mse: 0.0192 - val_mae: 0.0976\n",
            "Epoch 14/30\n",
            "149/149 [==============================] - 0s 2ms/step - loss: 0.0202 - mse: 0.0202 - mae: 0.1001 - val_loss: 0.0193 - val_mse: 0.0193 - val_mae: 0.0962\n",
            "Epoch 15/30\n",
            "149/149 [==============================] - 0s 2ms/step - loss: 0.0202 - mse: 0.0202 - mae: 0.1000 - val_loss: 0.0191 - val_mse: 0.0191 - val_mae: 0.0980\n",
            "Epoch 16/30\n",
            "149/149 [==============================] - 0s 2ms/step - loss: 0.0202 - mse: 0.0202 - mae: 0.1000 - val_loss: 0.0191 - val_mse: 0.0191 - val_mae: 0.0978\n",
            "Epoch 17/30\n",
            "149/149 [==============================] - 0s 2ms/step - loss: 0.0201 - mse: 0.0201 - mae: 0.0998 - val_loss: 0.0190 - val_mse: 0.0190 - val_mae: 0.0966\n",
            "Epoch 18/30\n",
            "149/149 [==============================] - 0s 2ms/step - loss: 0.0201 - mse: 0.0201 - mae: 0.0998 - val_loss: 0.0190 - val_mse: 0.0190 - val_mae: 0.0966\n",
            "Epoch 19/30\n",
            "149/149 [==============================] - 0s 2ms/step - loss: 0.0200 - mse: 0.0200 - mae: 0.0997 - val_loss: 0.0190 - val_mse: 0.0190 - val_mae: 0.0961\n",
            "Epoch 20/30\n",
            "149/149 [==============================] - 0s 2ms/step - loss: 0.0200 - mse: 0.0200 - mae: 0.0995 - val_loss: 0.0190 - val_mse: 0.0190 - val_mae: 0.0977\n",
            "Epoch 21/30\n",
            "149/149 [==============================] - 0s 2ms/step - loss: 0.0200 - mse: 0.0200 - mae: 0.0996 - val_loss: 0.0190 - val_mse: 0.0190 - val_mae: 0.0969\n",
            "Epoch 22/30\n",
            "149/149 [==============================] - 0s 2ms/step - loss: 0.0199 - mse: 0.0199 - mae: 0.0994 - val_loss: 0.0192 - val_mse: 0.0192 - val_mae: 0.1018\n",
            "Epoch 23/30\n",
            "149/149 [==============================] - 0s 2ms/step - loss: 0.0198 - mse: 0.0198 - mae: 0.0992 - val_loss: 0.0189 - val_mse: 0.0189 - val_mae: 0.0971\n",
            "Epoch 24/30\n",
            "149/149 [==============================] - 0s 2ms/step - loss: 0.0198 - mse: 0.0198 - mae: 0.0992 - val_loss: 0.0189 - val_mse: 0.0189 - val_mae: 0.0972\n",
            "Epoch 25/30\n",
            "149/149 [==============================] - 0s 2ms/step - loss: 0.0199 - mse: 0.0199 - mae: 0.0994 - val_loss: 0.0190 - val_mse: 0.0190 - val_mae: 0.1001\n",
            "Epoch 26/30\n",
            "149/149 [==============================] - 0s 2ms/step - loss: 0.0198 - mse: 0.0198 - mae: 0.0991 - val_loss: 0.0188 - val_mse: 0.0188 - val_mae: 0.0956\n",
            "Epoch 27/30\n",
            "149/149 [==============================] - 0s 2ms/step - loss: 0.0198 - mse: 0.0198 - mae: 0.0991 - val_loss: 0.0189 - val_mse: 0.0189 - val_mae: 0.0990\n",
            "Epoch 28/30\n",
            "149/149 [==============================] - 0s 2ms/step - loss: 0.0198 - mse: 0.0198 - mae: 0.0991 - val_loss: 0.0187 - val_mse: 0.0187 - val_mae: 0.0974\n",
            "Epoch 29/30\n",
            "149/149 [==============================] - 0s 2ms/step - loss: 0.0198 - mse: 0.0198 - mae: 0.0989 - val_loss: 0.0187 - val_mse: 0.0187 - val_mae: 0.0953\n",
            "Epoch 30/30\n",
            "149/149 [==============================] - 0s 2ms/step - loss: 0.0196 - mse: 0.0196 - mae: 0.0986 - val_loss: 0.0187 - val_mse: 0.0187 - val_mae: 0.0987\n"
          ]
        }
      ]
    },
    {
      "cell_type": "code",
      "metadata": {
        "colab": {
          "base_uri": "https://localhost:8080/"
        },
        "id": "vM8z5jy6rKeY",
        "outputId": "df0723d7-a67d-4423-ba57-49f6560c0420"
      },
      "source": [
        "scaler_y.fit(y_s_train)\n",
        "\n",
        "y_sleep_predict = model_s.predict(xval_s_scale)\n",
        "sleep_predict = scaler_y.inverse_transform(y_sleep_predict)\n",
        "sleep_predict"
      ],
      "execution_count": 47,
      "outputs": [
        {
          "output_type": "execute_result",
          "data": {
            "text/plain": [
              "array([[60.072826],\n",
              "       [65.340004],\n",
              "       [60.525055],\n",
              "       ...,\n",
              "       [60.558334],\n",
              "       [72.33531 ],\n",
              "       [63.133015]], dtype=float32)"
            ]
          },
          "metadata": {},
          "execution_count": 47
        }
      ]
    },
    {
      "cell_type": "code",
      "metadata": {
        "colab": {
          "base_uri": "https://localhost:8080/"
        },
        "id": "plrEWZGtrkr1",
        "outputId": "03f8de82-8021-46da-a46a-7435a632855b"
      },
      "source": [
        "np.average(sleep_predict)"
      ],
      "execution_count": 49,
      "outputs": [
        {
          "output_type": "execute_result",
          "data": {
            "text/plain": [
              "61.591076"
            ]
          },
          "metadata": {},
          "execution_count": 49
        }
      ]
    },
    {
      "cell_type": "code",
      "metadata": {
        "colab": {
          "base_uri": "https://localhost:8080/"
        },
        "id": "sONuBe3j74Eg",
        "outputId": "4f1a53eb-1c0c-47fb-b754-6d716d1e19c0"
      },
      "source": [
        "print(y_s_val.shape)\n",
        "print(y_sleep_predict.shape)"
      ],
      "execution_count": 50,
      "outputs": [
        {
          "output_type": "stream",
          "name": "stdout",
          "text": [
            "(9300, 1)\n",
            "(9300, 1)\n"
          ]
        }
      ]
    },
    {
      "cell_type": "code",
      "metadata": {
        "colab": {
          "base_uri": "https://localhost:8080/",
          "height": 419
        },
        "id": "ZsxQP4lm1FeH",
        "outputId": "e3dabf12-8df0-4034-f58d-e546ce2e5971"
      },
      "source": [
        "df_sl_label = y_s_val.reset_index(drop=True)\n",
        "df_sl_predict = pd.DataFrame(sleep_predict, columns=['predict'])\n",
        "\n",
        "df_sleep_predict = pd.concat([df_sl_label, df_sl_predict], axis=1)\n",
        "\n",
        "df_sleep_predict"
      ],
      "execution_count": 51,
      "outputs": [
        {
          "output_type": "execute_result",
          "data": {
            "text/html": [
              "<div>\n",
              "<style scoped>\n",
              "    .dataframe tbody tr th:only-of-type {\n",
              "        vertical-align: middle;\n",
              "    }\n",
              "\n",
              "    .dataframe tbody tr th {\n",
              "        vertical-align: top;\n",
              "    }\n",
              "\n",
              "    .dataframe thead th {\n",
              "        text-align: right;\n",
              "    }\n",
              "</style>\n",
              "<table border=\"1\" class=\"dataframe\">\n",
              "  <thead>\n",
              "    <tr style=\"text-align: right;\">\n",
              "      <th></th>\n",
              "      <th>ecg</th>\n",
              "      <th>predict</th>\n",
              "    </tr>\n",
              "  </thead>\n",
              "  <tbody>\n",
              "    <tr>\n",
              "      <th>0</th>\n",
              "      <td>65.201238</td>\n",
              "      <td>60.072826</td>\n",
              "    </tr>\n",
              "    <tr>\n",
              "      <th>1</th>\n",
              "      <td>60.296846</td>\n",
              "      <td>65.340004</td>\n",
              "    </tr>\n",
              "    <tr>\n",
              "      <th>2</th>\n",
              "      <td>66.456295</td>\n",
              "      <td>60.525055</td>\n",
              "    </tr>\n",
              "    <tr>\n",
              "      <th>3</th>\n",
              "      <td>58.960630</td>\n",
              "      <td>61.400455</td>\n",
              "    </tr>\n",
              "    <tr>\n",
              "      <th>4</th>\n",
              "      <td>71.289001</td>\n",
              "      <td>64.457001</td>\n",
              "    </tr>\n",
              "    <tr>\n",
              "      <th>...</th>\n",
              "      <td>...</td>\n",
              "      <td>...</td>\n",
              "    </tr>\n",
              "    <tr>\n",
              "      <th>9295</th>\n",
              "      <td>55.645161</td>\n",
              "      <td>59.312031</td>\n",
              "    </tr>\n",
              "    <tr>\n",
              "      <th>9296</th>\n",
              "      <td>62.342453</td>\n",
              "      <td>63.882759</td>\n",
              "    </tr>\n",
              "    <tr>\n",
              "      <th>9297</th>\n",
              "      <td>54.812099</td>\n",
              "      <td>60.558334</td>\n",
              "    </tr>\n",
              "    <tr>\n",
              "      <th>9298</th>\n",
              "      <td>64.833760</td>\n",
              "      <td>72.335312</td>\n",
              "    </tr>\n",
              "    <tr>\n",
              "      <th>9299</th>\n",
              "      <td>80.487805</td>\n",
              "      <td>63.133015</td>\n",
              "    </tr>\n",
              "  </tbody>\n",
              "</table>\n",
              "<p>9300 rows × 2 columns</p>\n",
              "</div>"
            ],
            "text/plain": [
              "            ecg    predict\n",
              "0     65.201238  60.072826\n",
              "1     60.296846  65.340004\n",
              "2     66.456295  60.525055\n",
              "3     58.960630  61.400455\n",
              "4     71.289001  64.457001\n",
              "...         ...        ...\n",
              "9295  55.645161  59.312031\n",
              "9296  62.342453  63.882759\n",
              "9297  54.812099  60.558334\n",
              "9298  64.833760  72.335312\n",
              "9299  80.487805  63.133015\n",
              "\n",
              "[9300 rows x 2 columns]"
            ]
          },
          "metadata": {},
          "execution_count": 51
        }
      ]
    },
    {
      "cell_type": "code",
      "metadata": {
        "colab": {
          "base_uri": "https://localhost:8080/",
          "height": 407
        },
        "id": "mL9qOKKABJpi",
        "outputId": "17b21a5d-1a30-4ae6-ef92-20a21f4b3d13"
      },
      "source": [
        "# 타겟값 예측값 히스토그램\n",
        "bins = np.linspace(40, 130, 30)\n",
        "plt.figure(figsize=(12,6))\n",
        "\n",
        "plt.title('Sleep Data Target & Predict')\n",
        "plt.hist([df_sleep_predict['ecg'],df_sleep_predict['predict']], bins, alpha = 0.5, label = ['target', 'predict'])\n",
        "plt.legend(loc='upper left')"
      ],
      "execution_count": 52,
      "outputs": [
        {
          "output_type": "execute_result",
          "data": {
            "text/plain": [
              "<matplotlib.legend.Legend at 0x7f70a20e6090>"
            ]
          },
          "metadata": {},
          "execution_count": 52
        },
        {
          "output_type": "display_data",
          "data": {
            "image/png": "[encoded data removed]",
            "text/plain": [
              "<Figure size 864x432 with 1 Axes>"
            ]
          },
          "metadata": {
            "needs_background": "light"
          }
        }
      ]
    },
    {
      "cell_type": "markdown",
      "metadata": {
        "id": "S_XPCdwmr_lF"
      },
      "source": [
        "- 낮은 심박수에 대한 예측 성능이 떨어진다.\n",
        "- 특정 심박수 범위로 몰리는 경향이 있다. (Data Imbalance 문제)\n",
        "- 배치 샘플링 조절 필요"
      ]
    },
    {
      "cell_type": "code",
      "metadata": {
        "colab": {
          "base_uri": "https://localhost:8080/",
          "height": 204
        },
        "id": "YnZMQGSaqFIL",
        "outputId": "c70bd121-4f53-477d-e1c5-ef936332588e"
      },
      "source": [
        "# 오차율\n",
        "df_sleep_predict['Error_rate'] = 100 * (abs(df_sleep_predict['ecg']-df_sleep_predict['predict'])) / df_sleep_predict['ecg']\n",
        "\n",
        "df_sleep_predict.head()"
      ],
      "execution_count": 69,
      "outputs": [
        {
          "output_type": "execute_result",
          "data": {
            "text/html": [
              "<div>\n",
              "<style scoped>\n",
              "    .dataframe tbody tr th:only-of-type {\n",
              "        vertical-align: middle;\n",
              "    }\n",
              "\n",
              "    .dataframe tbody tr th {\n",
              "        vertical-align: top;\n",
              "    }\n",
              "\n",
              "    .dataframe thead th {\n",
              "        text-align: right;\n",
              "    }\n",
              "</style>\n",
              "<table border=\"1\" class=\"dataframe\">\n",
              "  <thead>\n",
              "    <tr style=\"text-align: right;\">\n",
              "      <th></th>\n",
              "      <th>ecg</th>\n",
              "      <th>predict</th>\n",
              "      <th>Error_rate</th>\n",
              "    </tr>\n",
              "  </thead>\n",
              "  <tbody>\n",
              "    <tr>\n",
              "      <th>0</th>\n",
              "      <td>65.201238</td>\n",
              "      <td>60.072826</td>\n",
              "      <td>7.865513</td>\n",
              "    </tr>\n",
              "    <tr>\n",
              "      <th>1</th>\n",
              "      <td>60.296846</td>\n",
              "      <td>65.340004</td>\n",
              "      <td>8.363884</td>\n",
              "    </tr>\n",
              "    <tr>\n",
              "      <th>2</th>\n",
              "      <td>66.456295</td>\n",
              "      <td>60.525055</td>\n",
              "      <td>8.925024</td>\n",
              "    </tr>\n",
              "    <tr>\n",
              "      <th>3</th>\n",
              "      <td>58.960630</td>\n",
              "      <td>61.400455</td>\n",
              "      <td>4.138059</td>\n",
              "    </tr>\n",
              "    <tr>\n",
              "      <th>4</th>\n",
              "      <td>71.289001</td>\n",
              "      <td>64.457001</td>\n",
              "      <td>9.583526</td>\n",
              "    </tr>\n",
              "  </tbody>\n",
              "</table>\n",
              "</div>"
            ],
            "text/plain": [
              "         ecg    predict  Error_rate\n",
              "0  65.201238  60.072826    7.865513\n",
              "1  60.296846  65.340004    8.363884\n",
              "2  66.456295  60.525055    8.925024\n",
              "3  58.960630  61.400455    4.138059\n",
              "4  71.289001  64.457001    9.583526"
            ]
          },
          "metadata": {},
          "execution_count": 69
        }
      ]
    },
    {
      "cell_type": "code",
      "metadata": {
        "colab": {
          "base_uri": "https://localhost:8080/"
        },
        "id": "Zgixh6QLqMvI",
        "outputId": "0760a5b2-6c3d-490c-fbcc-42fb6316d443"
      },
      "source": [
        "# 오차율 평균\n",
        "np.average(df_sleep_predict['Error_rate'])"
      ],
      "execution_count": 70,
      "outputs": [
        {
          "output_type": "execute_result",
          "data": {
            "text/plain": [
              "6.2866275038140325"
            ]
          },
          "metadata": {},
          "execution_count": 70
        }
      ]
    },
    {
      "cell_type": "markdown",
      "metadata": {
        "id": "IRhHNcPAvTWx"
      },
      "source": [
        "### **(3) Lie 1.0 데이터**"
      ]
    },
    {
      "cell_type": "code",
      "metadata": {
        "colab": {
          "base_uri": "https://localhost:8080/",
          "height": 204
        },
        "id": "itn-SI1plhSS",
        "outputId": "03c7d945-c7e2-467e-be80-d30c41debfab"
      },
      "source": [
        "X_lie_train, X_lie_val, y_lie_train, y_lie_val = train_test_split(data_lie_10.loc[:, ['512fft','400fft','300fft','200fft','100fft','70fft','bin_var','motion_energy']], data_lie_10['ecg'])\n",
        "\n",
        "X_lie_train = pd.DataFrame(X_lie_train)\n",
        "X_lie_val = pd.DataFrame(X_lie_val)\n",
        "y_lie_train = pd.DataFrame(y_lie_train)\n",
        "y_lie_val = pd.DataFrame(y_lie_val)\n",
        "\n",
        "X_lie_train.head()"
      ],
      "execution_count": 76,
      "outputs": [
        {
          "output_type": "execute_result",
          "data": {
            "text/html": [
              "<div>\n",
              "<style scoped>\n",
              "    .dataframe tbody tr th:only-of-type {\n",
              "        vertical-align: middle;\n",
              "    }\n",
              "\n",
              "    .dataframe tbody tr th {\n",
              "        vertical-align: top;\n",
              "    }\n",
              "\n",
              "    .dataframe thead th {\n",
              "        text-align: right;\n",
              "    }\n",
              "</style>\n",
              "<table border=\"1\" class=\"dataframe\">\n",
              "  <thead>\n",
              "    <tr style=\"text-align: right;\">\n",
              "      <th></th>\n",
              "      <th>512fft</th>\n",
              "      <th>400fft</th>\n",
              "      <th>300fft</th>\n",
              "      <th>200fft</th>\n",
              "      <th>100fft</th>\n",
              "      <th>70fft</th>\n",
              "      <th>bin_var</th>\n",
              "      <th>motion_energy</th>\n",
              "    </tr>\n",
              "  </thead>\n",
              "  <tbody>\n",
              "    <tr>\n",
              "      <th>16228</th>\n",
              "      <td>53.906250</td>\n",
              "      <td>50.390625</td>\n",
              "      <td>53.906250</td>\n",
              "      <td>53.906250</td>\n",
              "      <td>53.906250</td>\n",
              "      <td>52.734375</td>\n",
              "      <td>0.00</td>\n",
              "      <td>0.903488</td>\n",
              "    </tr>\n",
              "    <tr>\n",
              "      <th>7856</th>\n",
              "      <td>58.593750</td>\n",
              "      <td>0.000000</td>\n",
              "      <td>62.109375</td>\n",
              "      <td>59.765625</td>\n",
              "      <td>60.937500</td>\n",
              "      <td>107.812500</td>\n",
              "      <td>2.25</td>\n",
              "      <td>4.024842</td>\n",
              "    </tr>\n",
              "    <tr>\n",
              "      <th>18854</th>\n",
              "      <td>62.109375</td>\n",
              "      <td>84.375000</td>\n",
              "      <td>80.859375</td>\n",
              "      <td>76.171875</td>\n",
              "      <td>89.062500</td>\n",
              "      <td>89.062500</td>\n",
              "      <td>0.00</td>\n",
              "      <td>0.072909</td>\n",
              "    </tr>\n",
              "    <tr>\n",
              "      <th>22714</th>\n",
              "      <td>107.812500</td>\n",
              "      <td>79.687500</td>\n",
              "      <td>109.570312</td>\n",
              "      <td>110.156250</td>\n",
              "      <td>94.921875</td>\n",
              "      <td>103.125000</td>\n",
              "      <td>0.00</td>\n",
              "      <td>0.283483</td>\n",
              "    </tr>\n",
              "    <tr>\n",
              "      <th>11142</th>\n",
              "      <td>76.171875</td>\n",
              "      <td>103.125000</td>\n",
              "      <td>107.812500</td>\n",
              "      <td>73.828125</td>\n",
              "      <td>75.000000</td>\n",
              "      <td>75.000000</td>\n",
              "      <td>0.36</td>\n",
              "      <td>0.079154</td>\n",
              "    </tr>\n",
              "  </tbody>\n",
              "</table>\n",
              "</div>"
            ],
            "text/plain": [
              "           512fft      400fft      300fft  ...       70fft  bin_var  motion_energy\n",
              "16228   53.906250   50.390625   53.906250  ...   52.734375     0.00       0.903488\n",
              "7856    58.593750    0.000000   62.109375  ...  107.812500     2.25       4.024842\n",
              "18854   62.109375   84.375000   80.859375  ...   89.062500     0.00       0.072909\n",
              "22714  107.812500   79.687500  109.570312  ...  103.125000     0.00       0.283483\n",
              "11142   76.171875  103.125000  107.812500  ...   75.000000     0.36       0.079154\n",
              "\n",
              "[5 rows x 8 columns]"
            ]
          },
          "metadata": {},
          "execution_count": 76
        }
      ]
    },
    {
      "cell_type": "code",
      "metadata": {
        "id": "n17mghkk2j4K"
      },
      "source": [
        "scaler_x = MinMaxScaler()\n",
        "scaler_y = MinMaxScaler()"
      ],
      "execution_count": 77,
      "outputs": []
    },
    {
      "cell_type": "code",
      "metadata": {
        "colab": {
          "base_uri": "https://localhost:8080/"
        },
        "id": "fEgtFCgU1kVz",
        "outputId": "60220f7a-b28d-4424-c4c7-284e28f6937e"
      },
      "source": [
        "y_lie_train=np.reshape(y_lie_train, (-1,1))\n",
        "y_lie_val=np.reshape(y_lie_val, (-1,1))\n",
        "\n",
        "scaler_x.fit(X_lie_train)\n",
        "xtrain_lie_scale = scaler_x.transform(X_lie_train)\n",
        "scaler_x.fit(X_lie_val)\n",
        "xval_lie_scale = scaler_x.transform(X_lie_val)\n",
        "scaler_y.fit(y_lie_train)\n",
        "ytrain_lie_scale = scaler_y.transform(y_lie_train)\n",
        "scaler_y.fit(y_lie_val)\n",
        "yval_lie_scale = scaler_y.transform(y_lie_val)\n",
        "\n",
        "xtrain_lie_scale = scaler_x.transform(X_lie_train)\n",
        "xval_lie_scale = scaler_x.transform(X_lie_val)\n",
        "ytrain_lie_scale = scaler_y.transform(y_lie_train)\n",
        "yval_lie_scale = scaler_y.transform(y_lie_val)\n",
        "\n",
        "model_lie = Sequential()\n",
        "model_lie.add(Dense(20, input_dim=8, kernel_initializer='normal', activation='relu'))\n",
        "model_lie.add(Dense(30, activation='relu'))\n",
        "model_lie.add(Dense(1, activation='linear'))\n",
        "model_lie.summary()"
      ],
      "execution_count": 78,
      "outputs": [
        {
          "output_type": "stream",
          "name": "stdout",
          "text": [
            "Model: \"sequential_3\"\n",
            "_________________________________________________________________\n",
            "Layer (type)                 Output Shape              Param #   \n",
            "=================================================================\n",
            "dense_9 (Dense)              (None, 20)                180       \n",
            "_________________________________________________________________\n",
            "dense_10 (Dense)             (None, 30)                630       \n",
            "_________________________________________________________________\n",
            "dense_11 (Dense)             (None, 1)                 31        \n",
            "=================================================================\n",
            "Total params: 841\n",
            "Trainable params: 841\n",
            "Non-trainable params: 0\n",
            "_________________________________________________________________\n"
          ]
        }
      ]
    },
    {
      "cell_type": "code",
      "metadata": {
        "colab": {
          "base_uri": "https://localhost:8080/"
        },
        "id": "Upi4pL8e1kZP",
        "outputId": "abfb637f-95b2-4ae6-c8ee-d5a394fd3085"
      },
      "source": [
        "model_lie.compile(loss='mse', optimizer='adam', metrics=['mse','mae'])\n",
        "history_lie = model_lie.fit(xtrain_lie_scale, ytrain_lie_scale, epochs=30, batch_size=150, verbose=1, validation_split=0.2)"
      ],
      "execution_count": 79,
      "outputs": [
        {
          "output_type": "stream",
          "name": "stdout",
          "text": [
            "Epoch 1/30\n",
            "173/173 [==============================] - 1s 4ms/step - loss: 0.0319 - mse: 0.0319 - mae: 0.1331 - val_loss: 0.0313 - val_mse: 0.0313 - val_mae: 0.1404\n",
            "Epoch 2/30\n",
            "173/173 [==============================] - 0s 2ms/step - loss: 0.0297 - mse: 0.0297 - mae: 0.1276 - val_loss: 0.0302 - val_mse: 0.0302 - val_mae: 0.1296\n",
            "Epoch 3/30\n",
            "173/173 [==============================] - 0s 3ms/step - loss: 0.0291 - mse: 0.0291 - mae: 0.1262 - val_loss: 0.0299 - val_mse: 0.0299 - val_mae: 0.1307\n",
            "Epoch 4/30\n",
            "173/173 [==============================] - 0s 3ms/step - loss: 0.0287 - mse: 0.0287 - mae: 0.1252 - val_loss: 0.0298 - val_mse: 0.0298 - val_mae: 0.1327\n",
            "Epoch 5/30\n",
            "173/173 [==============================] - 0s 2ms/step - loss: 0.0284 - mse: 0.0284 - mae: 0.1245 - val_loss: 0.0308 - val_mse: 0.0308 - val_mae: 0.1190\n",
            "Epoch 6/30\n",
            "173/173 [==============================] - 0s 3ms/step - loss: 0.0283 - mse: 0.0283 - mae: 0.1238 - val_loss: 0.0293 - val_mse: 0.0293 - val_mae: 0.1264\n",
            "Epoch 7/30\n",
            "173/173 [==============================] - 0s 3ms/step - loss: 0.0282 - mse: 0.0282 - mae: 0.1232 - val_loss: 0.0294 - val_mse: 0.0294 - val_mae: 0.1225\n",
            "Epoch 8/30\n",
            "173/173 [==============================] - 0s 2ms/step - loss: 0.0282 - mse: 0.0282 - mae: 0.1236 - val_loss: 0.0292 - val_mse: 0.0292 - val_mae: 0.1228\n",
            "Epoch 9/30\n",
            "173/173 [==============================] - 0s 2ms/step - loss: 0.0279 - mse: 0.0279 - mae: 0.1228 - val_loss: 0.0290 - val_mse: 0.0290 - val_mae: 0.1284\n",
            "Epoch 10/30\n",
            "173/173 [==============================] - 0s 2ms/step - loss: 0.0278 - mse: 0.0278 - mae: 0.1224 - val_loss: 0.0293 - val_mse: 0.0293 - val_mae: 0.1208\n",
            "Epoch 11/30\n",
            "173/173 [==============================] - 0s 3ms/step - loss: 0.0278 - mse: 0.0278 - mae: 0.1223 - val_loss: 0.0293 - val_mse: 0.0293 - val_mae: 0.1199\n",
            "Epoch 12/30\n",
            "173/173 [==============================] - 0s 3ms/step - loss: 0.0276 - mse: 0.0276 - mae: 0.1218 - val_loss: 0.0289 - val_mse: 0.0289 - val_mae: 0.1244\n",
            "Epoch 13/30\n",
            "173/173 [==============================] - 0s 3ms/step - loss: 0.0274 - mse: 0.0274 - mae: 0.1214 - val_loss: 0.0286 - val_mse: 0.0286 - val_mae: 0.1228\n",
            "Epoch 14/30\n",
            "173/173 [==============================] - 0s 2ms/step - loss: 0.0274 - mse: 0.0274 - mae: 0.1214 - val_loss: 0.0284 - val_mse: 0.0284 - val_mae: 0.1255\n",
            "Epoch 15/30\n",
            "173/173 [==============================] - 0s 2ms/step - loss: 0.0272 - mse: 0.0272 - mae: 0.1209 - val_loss: 0.0282 - val_mse: 0.0282 - val_mae: 0.1219\n",
            "Epoch 16/30\n",
            "173/173 [==============================] - 0s 3ms/step - loss: 0.0272 - mse: 0.0272 - mae: 0.1209 - val_loss: 0.0282 - val_mse: 0.0282 - val_mae: 0.1217\n",
            "Epoch 17/30\n",
            "173/173 [==============================] - 0s 3ms/step - loss: 0.0269 - mse: 0.0269 - mae: 0.1203 - val_loss: 0.0286 - val_mse: 0.0286 - val_mae: 0.1169\n",
            "Epoch 18/30\n",
            "173/173 [==============================] - 0s 2ms/step - loss: 0.0268 - mse: 0.0268 - mae: 0.1199 - val_loss: 0.0284 - val_mse: 0.0284 - val_mae: 0.1163\n",
            "Epoch 19/30\n",
            "173/173 [==============================] - 0s 3ms/step - loss: 0.0266 - mse: 0.0266 - mae: 0.1194 - val_loss: 0.0277 - val_mse: 0.0277 - val_mae: 0.1189\n",
            "Epoch 20/30\n",
            "173/173 [==============================] - 0s 2ms/step - loss: 0.0265 - mse: 0.0265 - mae: 0.1192 - val_loss: 0.0275 - val_mse: 0.0275 - val_mae: 0.1198\n",
            "Epoch 21/30\n",
            "173/173 [==============================] - 0s 3ms/step - loss: 0.0264 - mse: 0.0264 - mae: 0.1186 - val_loss: 0.0272 - val_mse: 0.0272 - val_mae: 0.1212\n",
            "Epoch 22/30\n",
            "173/173 [==============================] - 0s 3ms/step - loss: 0.0262 - mse: 0.0262 - mae: 0.1182 - val_loss: 0.0277 - val_mse: 0.0277 - val_mae: 0.1175\n",
            "Epoch 23/30\n",
            "173/173 [==============================] - 0s 3ms/step - loss: 0.0261 - mse: 0.0261 - mae: 0.1179 - val_loss: 0.0273 - val_mse: 0.0273 - val_mae: 0.1255\n",
            "Epoch 24/30\n",
            "173/173 [==============================] - 0s 3ms/step - loss: 0.0260 - mse: 0.0260 - mae: 0.1178 - val_loss: 0.0282 - val_mse: 0.0282 - val_mae: 0.1135\n",
            "Epoch 25/30\n",
            "173/173 [==============================] - 0s 2ms/step - loss: 0.0260 - mse: 0.0260 - mae: 0.1175 - val_loss: 0.0275 - val_mse: 0.0275 - val_mae: 0.1281\n",
            "Epoch 26/30\n",
            "173/173 [==============================] - 0s 2ms/step - loss: 0.0259 - mse: 0.0259 - mae: 0.1173 - val_loss: 0.0268 - val_mse: 0.0268 - val_mae: 0.1187\n",
            "Epoch 27/30\n",
            "173/173 [==============================] - 0s 2ms/step - loss: 0.0259 - mse: 0.0259 - mae: 0.1175 - val_loss: 0.0286 - val_mse: 0.0286 - val_mae: 0.1133\n",
            "Epoch 28/30\n",
            "173/173 [==============================] - 0s 2ms/step - loss: 0.0259 - mse: 0.0259 - mae: 0.1172 - val_loss: 0.0268 - val_mse: 0.0268 - val_mae: 0.1217\n",
            "Epoch 29/30\n",
            "173/173 [==============================] - 0s 2ms/step - loss: 0.0257 - mse: 0.0257 - mae: 0.1170 - val_loss: 0.0266 - val_mse: 0.0266 - val_mae: 0.1196\n",
            "Epoch 30/30\n",
            "173/173 [==============================] - 0s 2ms/step - loss: 0.0257 - mse: 0.0257 - mae: 0.1166 - val_loss: 0.0270 - val_mse: 0.0270 - val_mae: 0.1267\n"
          ]
        }
      ]
    },
    {
      "cell_type": "code",
      "metadata": {
        "colab": {
          "base_uri": "https://localhost:8080/"
        },
        "id": "zeb4Ifad1kbT",
        "outputId": "d20e1323-c8d3-4885-eaa5-21280526d7e3"
      },
      "source": [
        "scaler_y.fit(y_lie_train)\n",
        "\n",
        "y_lie_predict = model_s.predict(xval_lie_scale)\n",
        "lie_predict = scaler_y.inverse_transform(y_lie_predict)\n",
        "lie_predict"
      ],
      "execution_count": 80,
      "outputs": [
        {
          "output_type": "execute_result",
          "data": {
            "text/plain": [
              "array([[53.397995],\n",
              "       [53.84958 ],\n",
              "       [55.19399 ],\n",
              "       ...,\n",
              "       [68.8956  ],\n",
              "       [55.505035],\n",
              "       [54.370735]], dtype=float32)"
            ]
          },
          "metadata": {},
          "execution_count": 80
        }
      ]
    },
    {
      "cell_type": "code",
      "metadata": {
        "colab": {
          "base_uri": "https://localhost:8080/"
        },
        "id": "O5CMkHG51ke5",
        "outputId": "ffd58f48-8f52-4673-f64d-0864d7c27b14"
      },
      "source": [
        "np.average(lie_predict)"
      ],
      "execution_count": 81,
      "outputs": [
        {
          "output_type": "execute_result",
          "data": {
            "text/plain": [
              "56.156292"
            ]
          },
          "metadata": {},
          "execution_count": 81
        }
      ]
    },
    {
      "cell_type": "code",
      "metadata": {
        "colab": {
          "base_uri": "https://localhost:8080/"
        },
        "id": "uH9ZEYbk1kgv",
        "outputId": "d56d4438-712d-4da6-c13d-f6701c0b3179"
      },
      "source": [
        "print(y_lie_val.shape)\n",
        "print(y_lie_predict.shape)"
      ],
      "execution_count": 82,
      "outputs": [
        {
          "output_type": "stream",
          "name": "stdout",
          "text": [
            "(10800, 1)\n",
            "(10800, 1)\n"
          ]
        }
      ]
    },
    {
      "cell_type": "code",
      "metadata": {
        "colab": {
          "base_uri": "https://localhost:8080/",
          "height": 419
        },
        "id": "MNYKOIJe1kjd",
        "outputId": "069e9db5-34d3-4de2-93b9-4aecb0f8e117"
      },
      "source": [
        "df_l_label = y_lie_val.reset_index(drop=True)\n",
        "df_l_predict = pd.DataFrame(lie_predict, columns=['predict'])\n",
        "\n",
        "df_lie_predict = pd.concat([df_l_label, df_l_predict], axis=1)\n",
        "\n",
        "df_lie_predict"
      ],
      "execution_count": 83,
      "outputs": [
        {
          "output_type": "execute_result",
          "data": {
            "text/html": [
              "<div>\n",
              "<style scoped>\n",
              "    .dataframe tbody tr th:only-of-type {\n",
              "        vertical-align: middle;\n",
              "    }\n",
              "\n",
              "    .dataframe tbody tr th {\n",
              "        vertical-align: top;\n",
              "    }\n",
              "\n",
              "    .dataframe thead th {\n",
              "        text-align: right;\n",
              "    }\n",
              "</style>\n",
              "<table border=\"1\" class=\"dataframe\">\n",
              "  <thead>\n",
              "    <tr style=\"text-align: right;\">\n",
              "      <th></th>\n",
              "      <th>ecg</th>\n",
              "      <th>predict</th>\n",
              "    </tr>\n",
              "  </thead>\n",
              "  <tbody>\n",
              "    <tr>\n",
              "      <th>0</th>\n",
              "      <td>48.073960</td>\n",
              "      <td>53.397995</td>\n",
              "    </tr>\n",
              "    <tr>\n",
              "      <th>1</th>\n",
              "      <td>54.964766</td>\n",
              "      <td>53.849579</td>\n",
              "    </tr>\n",
              "    <tr>\n",
              "      <th>2</th>\n",
              "      <td>55.541796</td>\n",
              "      <td>55.193989</td>\n",
              "    </tr>\n",
              "    <tr>\n",
              "      <th>3</th>\n",
              "      <td>71.042714</td>\n",
              "      <td>56.038368</td>\n",
              "    </tr>\n",
              "    <tr>\n",
              "      <th>4</th>\n",
              "      <td>47.402005</td>\n",
              "      <td>54.795456</td>\n",
              "    </tr>\n",
              "    <tr>\n",
              "      <th>...</th>\n",
              "      <td>...</td>\n",
              "      <td>...</td>\n",
              "    </tr>\n",
              "    <tr>\n",
              "      <th>10795</th>\n",
              "      <td>66.060226</td>\n",
              "      <td>59.417229</td>\n",
              "    </tr>\n",
              "    <tr>\n",
              "      <th>10796</th>\n",
              "      <td>50.781250</td>\n",
              "      <td>54.166557</td>\n",
              "    </tr>\n",
              "    <tr>\n",
              "      <th>10797</th>\n",
              "      <td>60.615480</td>\n",
              "      <td>68.895599</td>\n",
              "    </tr>\n",
              "    <tr>\n",
              "      <th>10798</th>\n",
              "      <td>67.177033</td>\n",
              "      <td>55.505035</td>\n",
              "    </tr>\n",
              "    <tr>\n",
              "      <th>10799</th>\n",
              "      <td>49.808429</td>\n",
              "      <td>54.370735</td>\n",
              "    </tr>\n",
              "  </tbody>\n",
              "</table>\n",
              "<p>10800 rows × 2 columns</p>\n",
              "</div>"
            ],
            "text/plain": [
              "             ecg    predict\n",
              "0      48.073960  53.397995\n",
              "1      54.964766  53.849579\n",
              "2      55.541796  55.193989\n",
              "3      71.042714  56.038368\n",
              "4      47.402005  54.795456\n",
              "...          ...        ...\n",
              "10795  66.060226  59.417229\n",
              "10796  50.781250  54.166557\n",
              "10797  60.615480  68.895599\n",
              "10798  67.177033  55.505035\n",
              "10799  49.808429  54.370735\n",
              "\n",
              "[10800 rows x 2 columns]"
            ]
          },
          "metadata": {},
          "execution_count": 83
        }
      ]
    },
    {
      "cell_type": "code",
      "metadata": {
        "colab": {
          "base_uri": "https://localhost:8080/",
          "height": 407
        },
        "id": "SsGXiWGf4oT-",
        "outputId": "ffb379d9-b18c-4549-fc1b-37574e340bcc"
      },
      "source": [
        "# 타겟값 예측값 히스토그램\n",
        "bins = np.linspace(40, 130, 30)\n",
        "plt.figure(figsize=(12,6))\n",
        "\n",
        "plt.title('Lie 1.0 Data Target & Predict')\n",
        "plt.hist([df_lie_predict['ecg'],df_lie_predict['predict']], bins, alpha = 0.5, label = ['target', 'predict'])\n",
        "plt.legend(loc='upper left')"
      ],
      "execution_count": 84,
      "outputs": [
        {
          "output_type": "execute_result",
          "data": {
            "text/plain": [
              "<matplotlib.legend.Legend at 0x7f7095acbc90>"
            ]
          },
          "metadata": {},
          "execution_count": 84
        },
        {
          "output_type": "display_data",
          "data": {
            "image/png": "[encoded data removed]",
            "text/plain": [
              "<Figure size 864x432 with 1 Axes>"
            ]
          },
          "metadata": {
            "needs_background": "light"
          }
        }
      ]
    },
    {
      "cell_type": "markdown",
      "metadata": {
        "id": "EpzbCAEZ4vwI"
      },
      "source": [
        "- 낮은 심박수에 대한 예측을 거의 하지 못한다.\n",
        "- 특정 심박수 범위로 몰리는 경향이 있다."
      ]
    },
    {
      "cell_type": "code",
      "metadata": {
        "colab": {
          "base_uri": "https://localhost:8080/",
          "height": 204
        },
        "id": "BLmM7vtSqkot",
        "outputId": "02970867-eed5-4262-c853-9c205a50ebab"
      },
      "source": [
        "# 오차율\n",
        "df_lie_predict['Error_rate'] = 100 * (abs(df_lie_predict['ecg']-df_lie_predict['predict'])) / df_lie_predict['ecg']\n",
        "\n",
        "df_lie_predict.head()"
      ],
      "execution_count": 85,
      "outputs": [
        {
          "output_type": "execute_result",
          "data": {
            "text/html": [
              "<div>\n",
              "<style scoped>\n",
              "    .dataframe tbody tr th:only-of-type {\n",
              "        vertical-align: middle;\n",
              "    }\n",
              "\n",
              "    .dataframe tbody tr th {\n",
              "        vertical-align: top;\n",
              "    }\n",
              "\n",
              "    .dataframe thead th {\n",
              "        text-align: right;\n",
              "    }\n",
              "</style>\n",
              "<table border=\"1\" class=\"dataframe\">\n",
              "  <thead>\n",
              "    <tr style=\"text-align: right;\">\n",
              "      <th></th>\n",
              "      <th>ecg</th>\n",
              "      <th>predict</th>\n",
              "      <th>Error_rate</th>\n",
              "    </tr>\n",
              "  </thead>\n",
              "  <tbody>\n",
              "    <tr>\n",
              "      <th>0</th>\n",
              "      <td>48.073960</td>\n",
              "      <td>53.397995</td>\n",
              "      <td>11.074675</td>\n",
              "    </tr>\n",
              "    <tr>\n",
              "      <th>1</th>\n",
              "      <td>54.964766</td>\n",
              "      <td>53.849579</td>\n",
              "      <td>2.028913</td>\n",
              "    </tr>\n",
              "    <tr>\n",
              "      <th>2</th>\n",
              "      <td>55.541796</td>\n",
              "      <td>55.193989</td>\n",
              "      <td>0.626207</td>\n",
              "    </tr>\n",
              "    <tr>\n",
              "      <th>3</th>\n",
              "      <td>71.042714</td>\n",
              "      <td>56.038368</td>\n",
              "      <td>21.120175</td>\n",
              "    </tr>\n",
              "    <tr>\n",
              "      <th>4</th>\n",
              "      <td>47.402005</td>\n",
              "      <td>54.795456</td>\n",
              "      <td>15.597337</td>\n",
              "    </tr>\n",
              "  </tbody>\n",
              "</table>\n",
              "</div>"
            ],
            "text/plain": [
              "         ecg    predict  Error_rate\n",
              "0  48.073960  53.397995   11.074675\n",
              "1  54.964766  53.849579    2.028913\n",
              "2  55.541796  55.193989    0.626207\n",
              "3  71.042714  56.038368   21.120175\n",
              "4  47.402005  54.795456   15.597337"
            ]
          },
          "metadata": {},
          "execution_count": 85
        }
      ]
    },
    {
      "cell_type": "code",
      "metadata": {
        "colab": {
          "base_uri": "https://localhost:8080/"
        },
        "id": "7X9mmx19qkuV",
        "outputId": "b1d8aa86-4603-4344-d277-86c6cba2d6f3"
      },
      "source": [
        "# 오차율 평균\n",
        "np.average(df_lie_predict['Error_rate'])"
      ],
      "execution_count": 275,
      "outputs": [
        {
          "output_type": "execute_result",
          "data": {
            "text/plain": [
              "12.116220345313684"
            ]
          },
          "metadata": {},
          "execution_count": 275
        }
      ]
    },
    {
      "cell_type": "markdown",
      "metadata": {
        "id": "noteRZKTsYit"
      },
      "source": [
        "### **(4) Lie 0.5 데이터**"
      ]
    },
    {
      "cell_type": "code",
      "metadata": {
        "colab": {
          "base_uri": "https://localhost:8080/",
          "height": 204
        },
        "id": "tTe85Tuisg6o",
        "outputId": "25f15ae3-e646-45ee-a61c-01a194cd6d9a"
      },
      "source": [
        "X_lie5_train, X_lie5_val, y_lie5_train, y_lie5_val = train_test_split(data_lie.loc[:, ['512fft','400fft','300fft','200fft','100fft','70fft','bin_var','motion_energy']], data_lie['ecg'])\n",
        "\n",
        "X_lie5_train = pd.DataFrame(X_lie5_train)\n",
        "X_lie5_val = pd.DataFrame(X_lie5_val)\n",
        "y_lie5_train = pd.DataFrame(y_lie5_train)\n",
        "y_lie5_val = pd.DataFrame(y_lie5_val)\n",
        "\n",
        "X_lie5_train.head()"
      ],
      "execution_count": 89,
      "outputs": [
        {
          "output_type": "execute_result",
          "data": {
            "text/html": [
              "<div>\n",
              "<style scoped>\n",
              "    .dataframe tbody tr th:only-of-type {\n",
              "        vertical-align: middle;\n",
              "    }\n",
              "\n",
              "    .dataframe tbody tr th {\n",
              "        vertical-align: top;\n",
              "    }\n",
              "\n",
              "    .dataframe thead th {\n",
              "        text-align: right;\n",
              "    }\n",
              "</style>\n",
              "<table border=\"1\" class=\"dataframe\">\n",
              "  <thead>\n",
              "    <tr style=\"text-align: right;\">\n",
              "      <th></th>\n",
              "      <th>512fft</th>\n",
              "      <th>400fft</th>\n",
              "      <th>300fft</th>\n",
              "      <th>200fft</th>\n",
              "      <th>100fft</th>\n",
              "      <th>70fft</th>\n",
              "      <th>bin_var</th>\n",
              "      <th>motion_energy</th>\n",
              "    </tr>\n",
              "  </thead>\n",
              "  <tbody>\n",
              "    <tr>\n",
              "      <th>9119</th>\n",
              "      <td>65.625000</td>\n",
              "      <td>51.56250</td>\n",
              "      <td>55.078125</td>\n",
              "      <td>59.765625</td>\n",
              "      <td>62.109375</td>\n",
              "      <td>64.453125</td>\n",
              "      <td>0.00</td>\n",
              "      <td>5.142144</td>\n",
              "    </tr>\n",
              "    <tr>\n",
              "      <th>11680</th>\n",
              "      <td>73.828125</td>\n",
              "      <td>72.65625</td>\n",
              "      <td>70.312500</td>\n",
              "      <td>72.656250</td>\n",
              "      <td>99.609375</td>\n",
              "      <td>73.828125</td>\n",
              "      <td>0.91</td>\n",
              "      <td>2.079637</td>\n",
              "    </tr>\n",
              "    <tr>\n",
              "      <th>4136</th>\n",
              "      <td>67.968750</td>\n",
              "      <td>60.93750</td>\n",
              "      <td>64.453125</td>\n",
              "      <td>63.281250</td>\n",
              "      <td>65.625000</td>\n",
              "      <td>89.062500</td>\n",
              "      <td>0.96</td>\n",
              "      <td>3.830132</td>\n",
              "    </tr>\n",
              "    <tr>\n",
              "      <th>13054</th>\n",
              "      <td>76.171875</td>\n",
              "      <td>60.93750</td>\n",
              "      <td>60.937500</td>\n",
              "      <td>64.453125</td>\n",
              "      <td>67.968750</td>\n",
              "      <td>77.343750</td>\n",
              "      <td>0.36</td>\n",
              "      <td>1.236152</td>\n",
              "    </tr>\n",
              "    <tr>\n",
              "      <th>10800</th>\n",
              "      <td>57.421875</td>\n",
              "      <td>58.59375</td>\n",
              "      <td>52.734375</td>\n",
              "      <td>55.078125</td>\n",
              "      <td>57.421875</td>\n",
              "      <td>57.421875</td>\n",
              "      <td>0.91</td>\n",
              "      <td>4.227371</td>\n",
              "    </tr>\n",
              "  </tbody>\n",
              "</table>\n",
              "</div>"
            ],
            "text/plain": [
              "          512fft    400fft     300fft  ...      70fft  bin_var  motion_energy\n",
              "9119   65.625000  51.56250  55.078125  ...  64.453125     0.00       5.142144\n",
              "11680  73.828125  72.65625  70.312500  ...  73.828125     0.91       2.079637\n",
              "4136   67.968750  60.93750  64.453125  ...  89.062500     0.96       3.830132\n",
              "13054  76.171875  60.93750  60.937500  ...  77.343750     0.36       1.236152\n",
              "10800  57.421875  58.59375  52.734375  ...  57.421875     0.91       4.227371\n",
              "\n",
              "[5 rows x 8 columns]"
            ]
          },
          "metadata": {},
          "execution_count": 89
        }
      ]
    },
    {
      "cell_type": "code",
      "metadata": {
        "id": "HKXLJ4w3sg-q"
      },
      "source": [
        "scaler_x = MinMaxScaler()\n",
        "scaler_y = MinMaxScaler()"
      ],
      "execution_count": 90,
      "outputs": []
    },
    {
      "cell_type": "code",
      "metadata": {
        "colab": {
          "base_uri": "https://localhost:8080/"
        },
        "id": "SgoYdTXrshBA",
        "outputId": "d64576c9-2318-4bd7-d84d-a6644a9080d8"
      },
      "source": [
        "y_lie5_train=np.reshape(y_lie5_train, (-1,1))\n",
        "y_lie5_val=np.reshape(y_lie5_val, (-1,1))\n",
        "\n",
        "scaler_x.fit(X_lie5_train)\n",
        "xtrain_lie5_scale = scaler_x.transform(X_lie5_train)\n",
        "scaler_x.fit(X_lie5_val)\n",
        "xval_lie5_scale = scaler_x.transform(X_lie5_val)\n",
        "scaler_y.fit(y_lie5_train)\n",
        "ytrain_lie5_scale = scaler_y.transform(y_lie5_train)\n",
        "scaler_y.fit(y_lie5_val)\n",
        "yval_lie5_scale = scaler_y.transform(y_lie5_val)\n",
        "\n",
        "xtrain_lie5_scale = scaler_x.transform(X_lie5_train)\n",
        "xval_lie5_scale = scaler_x.transform(X_lie5_val)\n",
        "ytrain_lie5_scale = scaler_y.transform(y_lie5_train)\n",
        "yval_lie5_scale = scaler_y.transform(y_lie5_val)\n",
        "\n",
        "model_lie5 = Sequential()\n",
        "model_lie5.add(Dense(20, input_dim=8, kernel_initializer='normal', activation='relu'))\n",
        "model_lie5.add(Dense(30, activation='relu'))\n",
        "model_lie5.add(Dense(1, activation='linear'))\n",
        "model_lie5.summary()"
      ],
      "execution_count": 91,
      "outputs": [
        {
          "output_type": "stream",
          "name": "stdout",
          "text": [
            "Model: \"sequential_4\"\n",
            "_________________________________________________________________\n",
            "Layer (type)                 Output Shape              Param #   \n",
            "=================================================================\n",
            "dense_12 (Dense)             (None, 20)                180       \n",
            "_________________________________________________________________\n",
            "dense_13 (Dense)             (None, 30)                630       \n",
            "_________________________________________________________________\n",
            "dense_14 (Dense)             (None, 1)                 31        \n",
            "=================================================================\n",
            "Total params: 841\n",
            "Trainable params: 841\n",
            "Non-trainable params: 0\n",
            "_________________________________________________________________\n"
          ]
        }
      ]
    },
    {
      "cell_type": "code",
      "metadata": {
        "colab": {
          "base_uri": "https://localhost:8080/"
        },
        "id": "QO-yZ6WQshFo",
        "outputId": "2cd8f1fe-1768-4e89-c63a-691c4a9c8c80"
      },
      "source": [
        "model_lie5.compile(loss='mse', optimizer='adam', metrics=['mse','mae'])\n",
        "history_lie = model_lie5.fit(xtrain_lie5_scale, ytrain_lie5_scale, epochs=30, batch_size=150, verbose=1, validation_split=0.2)"
      ],
      "execution_count": 92,
      "outputs": [
        {
          "output_type": "stream",
          "name": "stdout",
          "text": [
            "Epoch 1/30\n",
            "53/53 [==============================] - 1s 5ms/step - loss: 0.1379 - mse: 0.1379 - mae: 0.3013 - val_loss: 0.0379 - val_mse: 0.0379 - val_mae: 0.1593\n",
            "Epoch 2/30\n",
            "53/53 [==============================] - 0s 2ms/step - loss: 0.0375 - mse: 0.0375 - mae: 0.1579 - val_loss: 0.0351 - val_mse: 0.0351 - val_mae: 0.1511\n",
            "Epoch 3/30\n",
            "53/53 [==============================] - 0s 2ms/step - loss: 0.0367 - mse: 0.0367 - mae: 0.1562 - val_loss: 0.0348 - val_mse: 0.0348 - val_mae: 0.1505\n",
            "Epoch 4/30\n",
            "53/53 [==============================] - 0s 2ms/step - loss: 0.0364 - mse: 0.0364 - mae: 0.1557 - val_loss: 0.0345 - val_mse: 0.0345 - val_mae: 0.1499\n",
            "Epoch 5/30\n",
            "53/53 [==============================] - 0s 2ms/step - loss: 0.0360 - mse: 0.0360 - mae: 0.1551 - val_loss: 0.0341 - val_mse: 0.0341 - val_mae: 0.1498\n",
            "Epoch 6/30\n",
            "53/53 [==============================] - 0s 2ms/step - loss: 0.0354 - mse: 0.0354 - mae: 0.1546 - val_loss: 0.0336 - val_mse: 0.0336 - val_mae: 0.1499\n",
            "Epoch 7/30\n",
            "53/53 [==============================] - 0s 2ms/step - loss: 0.0350 - mse: 0.0350 - mae: 0.1547 - val_loss: 0.0334 - val_mse: 0.0334 - val_mae: 0.1504\n",
            "Epoch 8/30\n",
            "53/53 [==============================] - 0s 3ms/step - loss: 0.0348 - mse: 0.0348 - mae: 0.1548 - val_loss: 0.0334 - val_mse: 0.0334 - val_mae: 0.1513\n",
            "Epoch 9/30\n",
            "53/53 [==============================] - 0s 2ms/step - loss: 0.0347 - mse: 0.0347 - mae: 0.1552 - val_loss: 0.0334 - val_mse: 0.0334 - val_mae: 0.1511\n",
            "Epoch 10/30\n",
            "53/53 [==============================] - 0s 2ms/step - loss: 0.0345 - mse: 0.0345 - mae: 0.1550 - val_loss: 0.0334 - val_mse: 0.0334 - val_mae: 0.1513\n",
            "Epoch 11/30\n",
            "53/53 [==============================] - 0s 2ms/step - loss: 0.0346 - mse: 0.0346 - mae: 0.1555 - val_loss: 0.0332 - val_mse: 0.0332 - val_mae: 0.1515\n",
            "Epoch 12/30\n",
            "53/53 [==============================] - 0s 2ms/step - loss: 0.0345 - mse: 0.0345 - mae: 0.1556 - val_loss: 0.0331 - val_mse: 0.0331 - val_mae: 0.1516\n",
            "Epoch 13/30\n",
            "53/53 [==============================] - 0s 2ms/step - loss: 0.0344 - mse: 0.0344 - mae: 0.1554 - val_loss: 0.0331 - val_mse: 0.0331 - val_mae: 0.1517\n",
            "Epoch 14/30\n",
            "53/53 [==============================] - 0s 2ms/step - loss: 0.0345 - mse: 0.0345 - mae: 0.1556 - val_loss: 0.0330 - val_mse: 0.0330 - val_mae: 0.1515\n",
            "Epoch 15/30\n",
            "53/53 [==============================] - 0s 2ms/step - loss: 0.0344 - mse: 0.0344 - mae: 0.1556 - val_loss: 0.0332 - val_mse: 0.0332 - val_mae: 0.1516\n",
            "Epoch 16/30\n",
            "53/53 [==============================] - 0s 2ms/step - loss: 0.0343 - mse: 0.0343 - mae: 0.1557 - val_loss: 0.0334 - val_mse: 0.0334 - val_mae: 0.1518\n",
            "Epoch 17/30\n",
            "53/53 [==============================] - 0s 2ms/step - loss: 0.0344 - mse: 0.0344 - mae: 0.1556 - val_loss: 0.0332 - val_mse: 0.0332 - val_mae: 0.1517\n",
            "Epoch 18/30\n",
            "53/53 [==============================] - 0s 2ms/step - loss: 0.0344 - mse: 0.0344 - mae: 0.1557 - val_loss: 0.0332 - val_mse: 0.0332 - val_mae: 0.1522\n",
            "Epoch 19/30\n",
            "53/53 [==============================] - 0s 2ms/step - loss: 0.0342 - mse: 0.0342 - mae: 0.1555 - val_loss: 0.0336 - val_mse: 0.0336 - val_mae: 0.1522\n",
            "Epoch 20/30\n",
            "53/53 [==============================] - 0s 2ms/step - loss: 0.0343 - mse: 0.0343 - mae: 0.1556 - val_loss: 0.0330 - val_mse: 0.0330 - val_mae: 0.1515\n",
            "Epoch 21/30\n",
            "53/53 [==============================] - 0s 2ms/step - loss: 0.0344 - mse: 0.0344 - mae: 0.1558 - val_loss: 0.0333 - val_mse: 0.0333 - val_mae: 0.1516\n",
            "Epoch 22/30\n",
            "53/53 [==============================] - 0s 2ms/step - loss: 0.0343 - mse: 0.0343 - mae: 0.1555 - val_loss: 0.0329 - val_mse: 0.0329 - val_mae: 0.1517\n",
            "Epoch 23/30\n",
            "53/53 [==============================] - 0s 3ms/step - loss: 0.0345 - mse: 0.0345 - mae: 0.1559 - val_loss: 0.0330 - val_mse: 0.0330 - val_mae: 0.1517\n",
            "Epoch 24/30\n",
            "53/53 [==============================] - 0s 2ms/step - loss: 0.0342 - mse: 0.0342 - mae: 0.1555 - val_loss: 0.0329 - val_mse: 0.0329 - val_mae: 0.1515\n",
            "Epoch 25/30\n",
            "53/53 [==============================] - 0s 2ms/step - loss: 0.0342 - mse: 0.0342 - mae: 0.1555 - val_loss: 0.0333 - val_mse: 0.0333 - val_mae: 0.1517\n",
            "Epoch 26/30\n",
            "53/53 [==============================] - 0s 2ms/step - loss: 0.0342 - mse: 0.0342 - mae: 0.1553 - val_loss: 0.0329 - val_mse: 0.0329 - val_mae: 0.1514\n",
            "Epoch 27/30\n",
            "53/53 [==============================] - 0s 2ms/step - loss: 0.0342 - mse: 0.0342 - mae: 0.1553 - val_loss: 0.0328 - val_mse: 0.0328 - val_mae: 0.1513\n",
            "Epoch 28/30\n",
            "53/53 [==============================] - 0s 2ms/step - loss: 0.0342 - mse: 0.0342 - mae: 0.1551 - val_loss: 0.0328 - val_mse: 0.0328 - val_mae: 0.1516\n",
            "Epoch 29/30\n",
            "53/53 [==============================] - 0s 2ms/step - loss: 0.0341 - mse: 0.0341 - mae: 0.1551 - val_loss: 0.0328 - val_mse: 0.0328 - val_mae: 0.1513\n",
            "Epoch 30/30\n",
            "53/53 [==============================] - 0s 2ms/step - loss: 0.0342 - mse: 0.0342 - mae: 0.1553 - val_loss: 0.0329 - val_mse: 0.0329 - val_mae: 0.1518\n"
          ]
        }
      ]
    },
    {
      "cell_type": "code",
      "metadata": {
        "colab": {
          "base_uri": "https://localhost:8080/"
        },
        "id": "QB-qUnUxwZQW",
        "outputId": "28e9b3ac-c2ea-45a0-d2a9-4a43d7fa4f9e"
      },
      "source": [
        "scaler_y.fit(y_lie5_train)\n",
        "\n",
        "y_lie5_predict = model_s.predict(xval_lie5_scale)\n",
        "lie5_predict = scaler_y.inverse_transform(y_lie5_predict)\n",
        "lie5_predict"
      ],
      "execution_count": 93,
      "outputs": [
        {
          "output_type": "execute_result",
          "data": {
            "text/plain": [
              "array([[71.416595],\n",
              "       [70.93721 ],\n",
              "       [70.88586 ],\n",
              "       ...,\n",
              "       [71.062706],\n",
              "       [71.31672 ],\n",
              "       [71.50891 ]], dtype=float32)"
            ]
          },
          "metadata": {},
          "execution_count": 93
        }
      ]
    },
    {
      "cell_type": "code",
      "metadata": {
        "colab": {
          "base_uri": "https://localhost:8080/"
        },
        "id": "1sEayGHawZUS",
        "outputId": "3e599fd8-5700-4c81-ec61-faeef9aaab5a"
      },
      "source": [
        "np.average(lie5_predict)"
      ],
      "execution_count": 95,
      "outputs": [
        {
          "output_type": "execute_result",
          "data": {
            "text/plain": [
              "70.976395"
            ]
          },
          "metadata": {},
          "execution_count": 95
        }
      ]
    },
    {
      "cell_type": "code",
      "metadata": {
        "colab": {
          "base_uri": "https://localhost:8080/",
          "height": 419
        },
        "id": "CewvWm4vwrn2",
        "outputId": "39577855-6733-4d7c-edae-26015710cb15"
      },
      "source": [
        "df_l5_label = y_lie5_val.reset_index(drop=True)\n",
        "df_l5_predict = pd.DataFrame(lie5_predict, columns=['predict'])\n",
        "\n",
        "df_lie5_predict = pd.concat([df_l5_label, df_l5_predict], axis=1)\n",
        "\n",
        "df_lie5_predict"
      ],
      "execution_count": 96,
      "outputs": [
        {
          "output_type": "execute_result",
          "data": {
            "text/html": [
              "<div>\n",
              "<style scoped>\n",
              "    .dataframe tbody tr th:only-of-type {\n",
              "        vertical-align: middle;\n",
              "    }\n",
              "\n",
              "    .dataframe tbody tr th {\n",
              "        vertical-align: top;\n",
              "    }\n",
              "\n",
              "    .dataframe thead th {\n",
              "        text-align: right;\n",
              "    }\n",
              "</style>\n",
              "<table border=\"1\" class=\"dataframe\">\n",
              "  <thead>\n",
              "    <tr style=\"text-align: right;\">\n",
              "      <th></th>\n",
              "      <th>ecg</th>\n",
              "      <th>predict</th>\n",
              "    </tr>\n",
              "  </thead>\n",
              "  <tbody>\n",
              "    <tr>\n",
              "      <th>0</th>\n",
              "      <td>73.671783</td>\n",
              "      <td>71.416595</td>\n",
              "    </tr>\n",
              "    <tr>\n",
              "      <th>1</th>\n",
              "      <td>75.515303</td>\n",
              "      <td>70.937210</td>\n",
              "    </tr>\n",
              "    <tr>\n",
              "      <th>2</th>\n",
              "      <td>77.975633</td>\n",
              "      <td>70.885857</td>\n",
              "    </tr>\n",
              "    <tr>\n",
              "      <th>3</th>\n",
              "      <td>71.221662</td>\n",
              "      <td>71.069504</td>\n",
              "    </tr>\n",
              "    <tr>\n",
              "      <th>4</th>\n",
              "      <td>71.647275</td>\n",
              "      <td>70.630974</td>\n",
              "    </tr>\n",
              "    <tr>\n",
              "      <th>...</th>\n",
              "      <td>...</td>\n",
              "      <td>...</td>\n",
              "    </tr>\n",
              "    <tr>\n",
              "      <th>3295</th>\n",
              "      <td>74.522293</td>\n",
              "      <td>70.726898</td>\n",
              "    </tr>\n",
              "    <tr>\n",
              "      <th>3296</th>\n",
              "      <td>77.132262</td>\n",
              "      <td>70.629501</td>\n",
              "    </tr>\n",
              "    <tr>\n",
              "      <th>3297</th>\n",
              "      <td>73.553365</td>\n",
              "      <td>71.062706</td>\n",
              "    </tr>\n",
              "    <tr>\n",
              "      <th>3298</th>\n",
              "      <td>74.652671</td>\n",
              "      <td>71.316719</td>\n",
              "    </tr>\n",
              "    <tr>\n",
              "      <th>3299</th>\n",
              "      <td>71.087366</td>\n",
              "      <td>71.508911</td>\n",
              "    </tr>\n",
              "  </tbody>\n",
              "</table>\n",
              "<p>3300 rows × 2 columns</p>\n",
              "</div>"
            ],
            "text/plain": [
              "            ecg    predict\n",
              "0     73.671783  71.416595\n",
              "1     75.515303  70.937210\n",
              "2     77.975633  70.885857\n",
              "3     71.221662  71.069504\n",
              "4     71.647275  70.630974\n",
              "...         ...        ...\n",
              "3295  74.522293  70.726898\n",
              "3296  77.132262  70.629501\n",
              "3297  73.553365  71.062706\n",
              "3298  74.652671  71.316719\n",
              "3299  71.087366  71.508911\n",
              "\n",
              "[3300 rows x 2 columns]"
            ]
          },
          "metadata": {},
          "execution_count": 96
        }
      ]
    },
    {
      "cell_type": "code",
      "metadata": {
        "colab": {
          "base_uri": "https://localhost:8080/",
          "height": 407
        },
        "id": "_UvrCryDwrsA",
        "outputId": "6f97171b-679b-4a7d-871b-1bdb4b459902"
      },
      "source": [
        "# 타겟값 예측값 히스토그램\n",
        "bins = np.linspace(60, 90, 30)\n",
        "plt.figure(figsize=(12,6))\n",
        "\n",
        "plt.title('Lie 0.5 Data Target & Predict')\n",
        "plt.hist([df_lie5_predict['ecg'],df_lie5_predict['predict']], bins, alpha = 0.5, label = ['target', 'predict'])\n",
        "plt.legend(loc='upper left')"
      ],
      "execution_count": 111,
      "outputs": [
        {
          "output_type": "execute_result",
          "data": {
            "text/plain": [
              "<matplotlib.legend.Legend at 0x7f7095d0ce10>"
            ]
          },
          "metadata": {},
          "execution_count": 111
        },
        {
          "output_type": "display_data",
          "data": {
            "image/png": "[encoded data removed]",
            "text/plain": [
              "<Figure size 864x432 with 1 Axes>"
            ]
          },
          "metadata": {
            "needs_background": "light"
          }
        }
      ]
    },
    {
      "cell_type": "markdown",
      "metadata": {
        "id": "4fg57dFgxGOm"
      },
      "source": [
        "- 대부분의 심박수를 70~72 범위로 예측하는 문제가 있다.\n",
        "- 높은 심박수에 대한 예측 성능이 매우 떨어진다.\n"
      ]
    },
    {
      "cell_type": "code",
      "metadata": {
        "colab": {
          "base_uri": "https://localhost:8080/",
          "height": 204
        },
        "id": "2qX6U2zlwrwY",
        "outputId": "3f5e8698-bf86-4282-9be0-ff73d7e420b4"
      },
      "source": [
        "# 오차율\n",
        "df_lie5_predict['Error_rate'] = 100 * (abs(df_lie5_predict['ecg']-df_lie5_predict['predict'])) / df_lie5_predict['ecg']\n",
        "\n",
        "df_lie5_predict.head()"
      ],
      "execution_count": 99,
      "outputs": [
        {
          "output_type": "execute_result",
          "data": {
            "text/html": [
              "<div>\n",
              "<style scoped>\n",
              "    .dataframe tbody tr th:only-of-type {\n",
              "        vertical-align: middle;\n",
              "    }\n",
              "\n",
              "    .dataframe tbody tr th {\n",
              "        vertical-align: top;\n",
              "    }\n",
              "\n",
              "    .dataframe thead th {\n",
              "        text-align: right;\n",
              "    }\n",
              "</style>\n",
              "<table border=\"1\" class=\"dataframe\">\n",
              "  <thead>\n",
              "    <tr style=\"text-align: right;\">\n",
              "      <th></th>\n",
              "      <th>ecg</th>\n",
              "      <th>predict</th>\n",
              "      <th>Error_rate</th>\n",
              "    </tr>\n",
              "  </thead>\n",
              "  <tbody>\n",
              "    <tr>\n",
              "      <th>0</th>\n",
              "      <td>73.671783</td>\n",
              "      <td>71.416595</td>\n",
              "      <td>3.061128</td>\n",
              "    </tr>\n",
              "    <tr>\n",
              "      <th>1</th>\n",
              "      <td>75.515303</td>\n",
              "      <td>70.937210</td>\n",
              "      <td>6.062470</td>\n",
              "    </tr>\n",
              "    <tr>\n",
              "      <th>2</th>\n",
              "      <td>77.975633</td>\n",
              "      <td>70.885857</td>\n",
              "      <td>9.092297</td>\n",
              "    </tr>\n",
              "    <tr>\n",
              "      <th>3</th>\n",
              "      <td>71.221662</td>\n",
              "      <td>71.069504</td>\n",
              "      <td>0.213641</td>\n",
              "    </tr>\n",
              "    <tr>\n",
              "      <th>4</th>\n",
              "      <td>71.647275</td>\n",
              "      <td>70.630974</td>\n",
              "      <td>1.418478</td>\n",
              "    </tr>\n",
              "  </tbody>\n",
              "</table>\n",
              "</div>"
            ],
            "text/plain": [
              "         ecg    predict  Error_rate\n",
              "0  73.671783  71.416595    3.061128\n",
              "1  75.515303  70.937210    6.062470\n",
              "2  77.975633  70.885857    9.092297\n",
              "3  71.221662  71.069504    0.213641\n",
              "4  71.647275  70.630974    1.418478"
            ]
          },
          "metadata": {},
          "execution_count": 99
        }
      ]
    },
    {
      "cell_type": "code",
      "metadata": {
        "colab": {
          "base_uri": "https://localhost:8080/"
        },
        "id": "BekOtVSVxmay",
        "outputId": "3f2f0155-7909-46d4-a08e-ec0e3288b462"
      },
      "source": [
        "# 오차율 평균\n",
        "Er = np.average(df_lie5_predict['Error_rate'])\n",
        "Er"
      ],
      "execution_count": 155,
      "outputs": [
        {
          "output_type": "execute_result",
          "data": {
            "text/plain": [
              "4.485220984236485"
            ]
          },
          "metadata": {},
          "execution_count": 155
        }
      ]
    },
    {
      "cell_type": "code",
      "metadata": {
        "colab": {
          "base_uri": "https://localhost:8080/",
          "height": 173
        },
        "id": "ojmoMlHGMt3Q",
        "outputId": "6d8fec40-bdac-4e78-8154-b61d75a9e7f1"
      },
      "source": [
        "# 결정계수\n",
        "from sklearn.metrics import mean_squared_error, mean_absolute_error, r2_score\n",
        "\n",
        "mse = mean_squared_error(df_lie5_predict['ecg'], df_lie5_predict['predict'])\n",
        "mae = mean_absolute_error(df_lie5_predict['ecg'], df_lie5_predict['predict'])\n",
        "r2 = r2_score(df_lie5_predict['ecg'], df_lie5_predict['predict'])\n",
        "\n",
        "display(pd.DataFrame([['MSE', mse],['MAE', mae],['R2', r2],['오차율', Er]], columns=['metric', 'score']))"
      ],
      "execution_count": 159,
      "outputs": [
        {
          "output_type": "display_data",
          "data": {
            "text/html": [
              "<div>\n",
              "<style scoped>\n",
              "    .dataframe tbody tr th:only-of-type {\n",
              "        vertical-align: middle;\n",
              "    }\n",
              "\n",
              "    .dataframe tbody tr th {\n",
              "        vertical-align: top;\n",
              "    }\n",
              "\n",
              "    .dataframe thead th {\n",
              "        text-align: right;\n",
              "    }\n",
              "</style>\n",
              "<table border=\"1\" class=\"dataframe\">\n",
              "  <thead>\n",
              "    <tr style=\"text-align: right;\">\n",
              "      <th></th>\n",
              "      <th>metric</th>\n",
              "      <th>score</th>\n",
              "    </tr>\n",
              "  </thead>\n",
              "  <tbody>\n",
              "    <tr>\n",
              "      <th>0</th>\n",
              "      <td>MSE</td>\n",
              "      <td>15.164527</td>\n",
              "    </tr>\n",
              "    <tr>\n",
              "      <th>1</th>\n",
              "      <td>MAE</td>\n",
              "      <td>3.382178</td>\n",
              "    </tr>\n",
              "    <tr>\n",
              "      <th>2</th>\n",
              "      <td>R2</td>\n",
              "      <td>-2.744401</td>\n",
              "    </tr>\n",
              "    <tr>\n",
              "      <th>3</th>\n",
              "      <td>오차율</td>\n",
              "      <td>4.485221</td>\n",
              "    </tr>\n",
              "  </tbody>\n",
              "</table>\n",
              "</div>"
            ],
            "text/plain": [
              "  metric      score\n",
              "0    MSE  15.164527\n",
              "1    MAE   3.382178\n",
              "2     R2  -2.744401\n",
              "3    오차율   4.485221"
            ]
          },
          "metadata": {}
        }
      ]
    },
    {
      "cell_type": "markdown",
      "metadata": {
        "id": "ZqwUaiZyyWvt"
      },
      "source": [
        "## **5. 머신러닝 모델 개선**\n",
        "회귀모델 개선방안 : 이상치 제거, 하이퍼파라미터 튜닝, Log Transform ..."
      ]
    },
    {
      "cell_type": "markdown",
      "metadata": {
        "id": "4wzbqZeCa9tR"
      },
      "source": [
        "### **(1) 이상치 제거**"
      ]
    },
    {
      "cell_type": "markdown",
      "metadata": {
        "id": "ZjIOQiFrzwmE"
      },
      "source": [
        "이상치 제거를 통해 분포의 치우침을 개선하여 회귀모델 성능을 개선시킨다.\n",
        "\n",
        "하지만, 심박수 모니터링의 경우 이상치를 인지해야 하기 때문에 주의가 필요해보인다."
      ]
    },
    {
      "cell_type": "code",
      "metadata": {
        "colab": {
          "base_uri": "https://localhost:8080/",
          "height": 204
        },
        "id": "Q0skIQ7e5DX2",
        "outputId": "cac935fb-5c6f-4514-d029-76df35eb8750"
      },
      "source": [
        "data_sleep.head()"
      ],
      "execution_count": 115,
      "outputs": [
        {
          "output_type": "execute_result",
          "data": {
            "text/html": [
              "<div>\n",
              "<style scoped>\n",
              "    .dataframe tbody tr th:only-of-type {\n",
              "        vertical-align: middle;\n",
              "    }\n",
              "\n",
              "    .dataframe tbody tr th {\n",
              "        vertical-align: top;\n",
              "    }\n",
              "\n",
              "    .dataframe thead th {\n",
              "        text-align: right;\n",
              "    }\n",
              "</style>\n",
              "<table border=\"1\" class=\"dataframe\">\n",
              "  <thead>\n",
              "    <tr style=\"text-align: right;\">\n",
              "      <th></th>\n",
              "      <th>Unnamed: 0</th>\n",
              "      <th>ecg</th>\n",
              "      <th>bpm</th>\n",
              "      <th>bin-2</th>\n",
              "      <th>bin-1</th>\n",
              "      <th>bin0</th>\n",
              "      <th>bin1</th>\n",
              "      <th>bin2</th>\n",
              "      <th>512fft</th>\n",
              "      <th>400fft</th>\n",
              "      <th>300fft</th>\n",
              "      <th>200fft</th>\n",
              "      <th>100fft</th>\n",
              "      <th>70fft</th>\n",
              "      <th>bin_var</th>\n",
              "      <th>motion_energy</th>\n",
              "    </tr>\n",
              "  </thead>\n",
              "  <tbody>\n",
              "    <tr>\n",
              "      <th>0</th>\n",
              "      <td>0</td>\n",
              "      <td>63.414634</td>\n",
              "      <td>79.68750</td>\n",
              "      <td>0.0</td>\n",
              "      <td>0.0</td>\n",
              "      <td>0.0</td>\n",
              "      <td>0.0</td>\n",
              "      <td>0.0</td>\n",
              "      <td>0.0</td>\n",
              "      <td>0.0</td>\n",
              "      <td>0.0</td>\n",
              "      <td>0.0</td>\n",
              "      <td>0.0</td>\n",
              "      <td>0.0</td>\n",
              "      <td>0.0</td>\n",
              "      <td>0.0</td>\n",
              "    </tr>\n",
              "    <tr>\n",
              "      <th>1</th>\n",
              "      <td>1</td>\n",
              "      <td>65.000000</td>\n",
              "      <td>79.62024</td>\n",
              "      <td>0.0</td>\n",
              "      <td>0.0</td>\n",
              "      <td>0.0</td>\n",
              "      <td>0.0</td>\n",
              "      <td>0.0</td>\n",
              "      <td>0.0</td>\n",
              "      <td>0.0</td>\n",
              "      <td>0.0</td>\n",
              "      <td>0.0</td>\n",
              "      <td>0.0</td>\n",
              "      <td>0.0</td>\n",
              "      <td>0.0</td>\n",
              "      <td>0.0</td>\n",
              "    </tr>\n",
              "    <tr>\n",
              "      <th>2</th>\n",
              "      <td>2</td>\n",
              "      <td>65.000000</td>\n",
              "      <td>79.55298</td>\n",
              "      <td>0.0</td>\n",
              "      <td>0.0</td>\n",
              "      <td>0.0</td>\n",
              "      <td>0.0</td>\n",
              "      <td>0.0</td>\n",
              "      <td>0.0</td>\n",
              "      <td>0.0</td>\n",
              "      <td>0.0</td>\n",
              "      <td>0.0</td>\n",
              "      <td>0.0</td>\n",
              "      <td>0.0</td>\n",
              "      <td>0.0</td>\n",
              "      <td>0.0</td>\n",
              "    </tr>\n",
              "    <tr>\n",
              "      <th>3</th>\n",
              "      <td>3</td>\n",
              "      <td>65.000000</td>\n",
              "      <td>79.48572</td>\n",
              "      <td>0.0</td>\n",
              "      <td>0.0</td>\n",
              "      <td>0.0</td>\n",
              "      <td>0.0</td>\n",
              "      <td>0.0</td>\n",
              "      <td>0.0</td>\n",
              "      <td>0.0</td>\n",
              "      <td>0.0</td>\n",
              "      <td>0.0</td>\n",
              "      <td>0.0</td>\n",
              "      <td>0.0</td>\n",
              "      <td>0.0</td>\n",
              "      <td>0.0</td>\n",
              "    </tr>\n",
              "    <tr>\n",
              "      <th>4</th>\n",
              "      <td>4</td>\n",
              "      <td>65.000000</td>\n",
              "      <td>79.41846</td>\n",
              "      <td>0.0</td>\n",
              "      <td>0.0</td>\n",
              "      <td>0.0</td>\n",
              "      <td>0.0</td>\n",
              "      <td>0.0</td>\n",
              "      <td>0.0</td>\n",
              "      <td>0.0</td>\n",
              "      <td>0.0</td>\n",
              "      <td>0.0</td>\n",
              "      <td>0.0</td>\n",
              "      <td>0.0</td>\n",
              "      <td>0.0</td>\n",
              "      <td>0.0</td>\n",
              "    </tr>\n",
              "  </tbody>\n",
              "</table>\n",
              "</div>"
            ],
            "text/plain": [
              "   Unnamed: 0        ecg       bpm  ...  70fft  bin_var  motion_energy\n",
              "0           0  63.414634  79.68750  ...    0.0      0.0            0.0\n",
              "1           1  65.000000  79.62024  ...    0.0      0.0            0.0\n",
              "2           2  65.000000  79.55298  ...    0.0      0.0            0.0\n",
              "3           3  65.000000  79.48572  ...    0.0      0.0            0.0\n",
              "4           4  65.000000  79.41846  ...    0.0      0.0            0.0\n",
              "\n",
              "[5 rows x 16 columns]"
            ]
          },
          "metadata": {},
          "execution_count": 115
        }
      ]
    },
    {
      "cell_type": "code",
      "metadata": {
        "colab": {
          "base_uri": "https://localhost:8080/",
          "height": 386
        },
        "id": "QR7ZY-eF7IVv",
        "outputId": "f8fbcf6a-4fce-40ac-816f-03d3d4c82383"
      },
      "source": [
        "sns.displot(data_sleep['ecg'])"
      ],
      "execution_count": 126,
      "outputs": [
        {
          "output_type": "execute_result",
          "data": {
            "text/plain": [
              "<seaborn.axisgrid.FacetGrid at 0x7f7094d7ff10>"
            ]
          },
          "metadata": {},
          "execution_count": 126
        },
        {
          "output_type": "display_data",
          "data": {
            "image/png": "[encoded data removed]",
            "text/plain": [
              "<Figure size 360x360 with 1 Axes>"
            ]
          },
          "metadata": {
            "needs_background": "light"
          }
        }
      ]
    },
    {
      "cell_type": "code",
      "metadata": {
        "colab": {
          "base_uri": "https://localhost:8080/",
          "height": 592
        },
        "id": "sQo1I5Fy7naG",
        "outputId": "f84bf268-e2d4-4ca8-d962-b755fd48e288"
      },
      "source": [
        "plt.figure(figsize=(6,10))\n",
        "\n",
        "plt.subplot(611)\n",
        "plt.hist(data_sleep['512fft'], bins=50)\n",
        "plt.subplot(612)\n",
        "plt.hist(data_sleep['400fft'], bins=50)\n",
        "plt.subplot(613)\n",
        "plt.hist(data_sleep['300fft'], bins=50)\n",
        "plt.subplot(614)\n",
        "plt.hist(data_sleep['200fft'], bins=50)\n",
        "plt.subplot(615)\n",
        "plt.hist(data_sleep['100fft'], bins=50)\n",
        "plt.subplot(616)\n",
        "plt.hist(data_sleep['70fft'], bins=50)\n",
        "\n",
        "plt.show()"
      ],
      "execution_count": 142,
      "outputs": [
        {
          "output_type": "display_data",
          "data": {
            "image/png": "[encoded data removed]",
            "text/plain": [
              "<Figure size 432x720 with 6 Axes>"
            ]
          },
          "metadata": {
            "needs_background": "light"
          }
        }
      ]
    },
    {
      "cell_type": "code",
      "metadata": {
        "id": "vvmP8TohjRS0"
      },
      "source": [
        "## FFT의 이상치를 제거합니다.\n",
        "\n",
        "# data_sleep['512fft'] = data_sleep[data_sleep['512fft'] < np.percentile(data_sleep['512fft'], 99.5)]['512fft']\n",
        "# data_sleep['400fft'] = data_sleep[data_sleep['400fft'] < np.percentile(data_sleep['400fft'], 99.5)]['400fft']\n",
        "# data_sleep['300fft'] = data_sleep[data_sleep['300fft'] < np.percentile(data_sleep['300fft'], 99.5)]['300fft']\n",
        "# data_sleep['200fft'] = data_sleep[data_sleep['200fft'] < np.percentile(data_sleep['200fft'], 99.5)]['200fft']\n",
        "# data_sleep['100fft'] = data_sleep[data_sleep['100fft'] < np.percentile(data_sleep['100fft'], 99.5)]['100fft']\n",
        "# data_sleep['70fft'] = data_sleep[data_sleep['70fft'] < np.percentile(data_sleep['70fft'], 99.5)]['70fft']"
      ],
      "execution_count": 124,
      "outputs": []
    },
    {
      "cell_type": "code",
      "metadata": {
        "colab": {
          "base_uri": "https://localhost:8080/"
        },
        "id": "YYdnDf42Rmcb",
        "outputId": "43a60581-7787-444c-ce4f-997d09ec018c"
      },
      "source": [
        "data_sleep.shape"
      ],
      "execution_count": 166,
      "outputs": [
        {
          "output_type": "execute_result",
          "data": {
            "text/plain": [
              "(37200, 16)"
            ]
          },
          "metadata": {},
          "execution_count": 166
        }
      ]
    },
    {
      "cell_type": "code",
      "metadata": {
        "id": "UfVQSOK3RM6X"
      },
      "source": [
        "zero_data = data_sleep[data_sleep['512fft']<40 ].index\n",
        "data_sleep.drop(zero_data, inplace=True)"
      ],
      "execution_count": 167,
      "outputs": []
    },
    {
      "cell_type": "code",
      "metadata": {
        "id": "297_y2tVSdtr"
      },
      "source": [
        "zero_data2 = data_sleep[data_sleep['300fft']<40 ].index\n",
        "data_sleep.drop(zero_data2, inplace=True)"
      ],
      "execution_count": 169,
      "outputs": []
    },
    {
      "cell_type": "code",
      "metadata": {
        "colab": {
          "base_uri": "https://localhost:8080/"
        },
        "id": "kzLfkQwTR_kJ",
        "outputId": "fd1259a9-c615-4149-bed3-1fff5dd7515d"
      },
      "source": [
        "data_sleep.shape"
      ],
      "execution_count": 175,
      "outputs": [
        {
          "output_type": "execute_result",
          "data": {
            "text/plain": [
              "(36164, 16)"
            ]
          },
          "metadata": {},
          "execution_count": 175
        }
      ]
    },
    {
      "cell_type": "code",
      "metadata": {
        "id": "dQyBMwM5WqKa"
      },
      "source": [
        "# 400fft 0값 대체\n",
        "# random = np.random.randint(50,70)\n",
        "\n",
        "# data_sleep['400fft'].replace([0, '0.0', 0.0], 60)"
      ],
      "execution_count": 192,
      "outputs": []
    },
    {
      "cell_type": "code",
      "metadata": {
        "colab": {
          "base_uri": "https://localhost:8080/",
          "height": 592
        },
        "id": "SAfkf9BWYLt-",
        "outputId": "8dc20019-851f-4970-bcc5-0d3330af534d"
      },
      "source": [
        "plt.figure(figsize=(6,10))\n",
        "\n",
        "plt.subplot(611)\n",
        "plt.hist(data_sleep['512fft'], bins=50)\n",
        "plt.subplot(612)\n",
        "plt.hist(data_sleep['400fft'], bins=50)\n",
        "plt.subplot(613)\n",
        "plt.hist(data_sleep['300fft'], bins=50)\n",
        "plt.subplot(614)\n",
        "plt.hist(data_sleep['200fft'], bins=50)\n",
        "plt.subplot(615)\n",
        "plt.hist(data_sleep['100fft'], bins=50)\n",
        "plt.subplot(616)\n",
        "plt.hist(data_sleep['70fft'], bins=50)\n",
        "\n",
        "plt.show()"
      ],
      "execution_count": 190,
      "outputs": [
        {
          "output_type": "display_data",
          "data": {
            "image/png": "[encoded data removed]",
            "text/plain": [
              "<Figure size 432x720 with 6 Axes>"
            ]
          },
          "metadata": {
            "needs_background": "light"
          }
        }
      ]
    },
    {
      "cell_type": "markdown",
      "metadata": {
        "id": "4IJwKkb7ZQrC"
      },
      "source": [
        "- 400FFT는 제외하고 학습을 진행하고자 한다."
      ]
    },
    {
      "cell_type": "markdown",
      "metadata": {
        "id": "GnsRv0jg10O2"
      },
      "source": [
        "### **(2) Log Transform**"
      ]
    },
    {
      "cell_type": "code",
      "metadata": {
        "colab": {
          "base_uri": "https://localhost:8080/",
          "height": 279
        },
        "id": "gX-FR8mDyYlq",
        "outputId": "dacdfcb9-4828-41ef-a4bf-1f5bc03bf549"
      },
      "source": [
        "sleep_transform = data_sleep\n",
        "\n",
        "sleep_transform['512fft'] = np.log1p(data_sleep['512fft'])\n",
        "sleep_transform['300fft'] = np.log1p(data_sleep['300fft'])\n",
        "sleep_transform['200fft'] = np.log1p(data_sleep['200fft'])\n",
        "sleep_transform['100fft'] = np.log1p(data_sleep['100fft'])\n",
        "sleep_transform['70fft'] = np.log1p(data_sleep['70fft'])\n",
        "\n",
        "fig, ax = plt.subplots(1,5,figsize=(20,4))\n",
        "sns.histplot(sleep_transform['512fft'], ax=ax[0]);\n",
        "sns.histplot(sleep_transform['300fft'], ax=ax[1]);\n",
        "sns.histplot(sleep_transform['200fft'], ax=ax[2]);\n",
        "sns.histplot(sleep_transform['100fft'], ax=ax[3]);\n",
        "sns.histplot(sleep_transform['70fft'], ax=ax[4]);"
      ],
      "execution_count": 280,
      "outputs": [
        {
          "output_type": "display_data",
          "data": {
            "image/png": "[encoded data removed]",
            "text/plain": [
              "<Figure size 1440x288 with 5 Axes>"
            ]
          },
          "metadata": {
            "needs_background": "light"
          }
        }
      ]
    },
    {
      "cell_type": "markdown",
      "metadata": {
        "id": "H6D7nZwWaUi5"
      },
      "source": [
        "- 정규분포에 어느정도 가까워졌다."
      ]
    },
    {
      "cell_type": "code",
      "metadata": {
        "colab": {
          "base_uri": "https://localhost:8080/",
          "height": 204
        },
        "id": "qfJb0pjH1iPt",
        "outputId": "ef26240f-c26d-4764-c245-e8adf21e2a74"
      },
      "source": [
        "sleep_transform.head()"
      ],
      "execution_count": 204,
      "outputs": [
        {
          "output_type": "execute_result",
          "data": {
            "text/html": [
              "<div>\n",
              "<style scoped>\n",
              "    .dataframe tbody tr th:only-of-type {\n",
              "        vertical-align: middle;\n",
              "    }\n",
              "\n",
              "    .dataframe tbody tr th {\n",
              "        vertical-align: top;\n",
              "    }\n",
              "\n",
              "    .dataframe thead th {\n",
              "        text-align: right;\n",
              "    }\n",
              "</style>\n",
              "<table border=\"1\" class=\"dataframe\">\n",
              "  <thead>\n",
              "    <tr style=\"text-align: right;\">\n",
              "      <th></th>\n",
              "      <th>Unnamed: 0</th>\n",
              "      <th>ecg</th>\n",
              "      <th>bpm</th>\n",
              "      <th>bin-2</th>\n",
              "      <th>bin-1</th>\n",
              "      <th>bin0</th>\n",
              "      <th>bin1</th>\n",
              "      <th>bin2</th>\n",
              "      <th>512fft</th>\n",
              "      <th>400fft</th>\n",
              "      <th>300fft</th>\n",
              "      <th>200fft</th>\n",
              "      <th>100fft</th>\n",
              "      <th>70fft</th>\n",
              "      <th>bin_var</th>\n",
              "      <th>motion_energy</th>\n",
              "    </tr>\n",
              "  </thead>\n",
              "  <tbody>\n",
              "    <tr>\n",
              "      <th>52</th>\n",
              "      <td>52</td>\n",
              "      <td>61.904762</td>\n",
              "      <td>76.189983</td>\n",
              "      <td>0.0</td>\n",
              "      <td>37.500000</td>\n",
              "      <td>52.148438</td>\n",
              "      <td>50.976562</td>\n",
              "      <td>26.367188</td>\n",
              "      <td>0.513689</td>\n",
              "      <td>52.148438</td>\n",
              "      <td>0.513689</td>\n",
              "      <td>0.513689</td>\n",
              "      <td>0.513689</td>\n",
              "      <td>0.513689</td>\n",
              "      <td>13.0475</td>\n",
              "      <td>0.002481</td>\n",
              "    </tr>\n",
              "    <tr>\n",
              "      <th>53</th>\n",
              "      <td>53</td>\n",
              "      <td>61.904762</td>\n",
              "      <td>76.122724</td>\n",
              "      <td>0.0</td>\n",
              "      <td>76.171875</td>\n",
              "      <td>104.882812</td>\n",
              "      <td>102.539062</td>\n",
              "      <td>52.734375</td>\n",
              "      <td>0.528270</td>\n",
              "      <td>104.882812</td>\n",
              "      <td>0.528270</td>\n",
              "      <td>0.528270</td>\n",
              "      <td>0.528270</td>\n",
              "      <td>0.528270</td>\n",
              "      <td>12.9500</td>\n",
              "      <td>0.002481</td>\n",
              "    </tr>\n",
              "    <tr>\n",
              "      <th>54</th>\n",
              "      <td>54</td>\n",
              "      <td>61.904762</td>\n",
              "      <td>76.055464</td>\n",
              "      <td>0.0</td>\n",
              "      <td>77.343750</td>\n",
              "      <td>107.226562</td>\n",
              "      <td>104.296875</td>\n",
              "      <td>53.320312</td>\n",
              "      <td>0.528685</td>\n",
              "      <td>107.226562</td>\n",
              "      <td>0.528685</td>\n",
              "      <td>0.528685</td>\n",
              "      <td>0.528685</td>\n",
              "      <td>0.528685</td>\n",
              "      <td>12.8475</td>\n",
              "      <td>0.002481</td>\n",
              "    </tr>\n",
              "    <tr>\n",
              "      <th>55</th>\n",
              "      <td>55</td>\n",
              "      <td>61.904762</td>\n",
              "      <td>75.988204</td>\n",
              "      <td>0.0</td>\n",
              "      <td>77.343750</td>\n",
              "      <td>110.156250</td>\n",
              "      <td>106.054688</td>\n",
              "      <td>53.906250</td>\n",
              "      <td>0.529187</td>\n",
              "      <td>110.156250</td>\n",
              "      <td>0.529187</td>\n",
              "      <td>0.529187</td>\n",
              "      <td>0.529187</td>\n",
              "      <td>0.529187</td>\n",
              "      <td>12.7400</td>\n",
              "      <td>0.002481</td>\n",
              "    </tr>\n",
              "    <tr>\n",
              "      <th>56</th>\n",
              "      <td>56</td>\n",
              "      <td>61.904762</td>\n",
              "      <td>75.920944</td>\n",
              "      <td>0.0</td>\n",
              "      <td>77.343750</td>\n",
              "      <td>111.914062</td>\n",
              "      <td>106.640625</td>\n",
              "      <td>54.492188</td>\n",
              "      <td>0.529480</td>\n",
              "      <td>111.914062</td>\n",
              "      <td>0.529480</td>\n",
              "      <td>0.529480</td>\n",
              "      <td>0.529480</td>\n",
              "      <td>0.529480</td>\n",
              "      <td>12.6275</td>\n",
              "      <td>0.002481</td>\n",
              "    </tr>\n",
              "  </tbody>\n",
              "</table>\n",
              "</div>"
            ],
            "text/plain": [
              "    Unnamed: 0        ecg        bpm  ...     70fft  bin_var  motion_energy\n",
              "52          52  61.904762  76.189983  ...  0.513689  13.0475       0.002481\n",
              "53          53  61.904762  76.122724  ...  0.528270  12.9500       0.002481\n",
              "54          54  61.904762  76.055464  ...  0.528685  12.8475       0.002481\n",
              "55          55  61.904762  75.988204  ...  0.529187  12.7400       0.002481\n",
              "56          56  61.904762  75.920944  ...  0.529480  12.6275       0.002481\n",
              "\n",
              "[5 rows x 16 columns]"
            ]
          },
          "metadata": {},
          "execution_count": 204
        }
      ]
    },
    {
      "cell_type": "code",
      "metadata": {
        "id": "55jiI0D81iTB"
      },
      "source": [
        "X_train, X_val, y_train, y_val = train_test_split(sleep_transform.loc[:, ['bin-1','bin0','bin1','512fft','300fft','200fft','100fft','70fft','bin_var','motion_energy']], sleep_transform['ecg'])\n",
        "\n",
        "X_train = pd.DataFrame(X_train)\n",
        "X_val = pd.DataFrame(X_val)\n",
        "y_train = pd.DataFrame(y_train)\n",
        "y_val = pd.DataFrame(y_val)"
      ],
      "execution_count": 231,
      "outputs": []
    },
    {
      "cell_type": "code",
      "metadata": {
        "id": "tAsNjrxd1iVF"
      },
      "source": [
        "scaler_x.fit(X_train)\n",
        "xtrain_scale=scaler_x.transform(X_train)\n",
        "\n",
        "scaler_x.fit(X_val)\n",
        "xval_scale=scaler_x.transform(X_val)\n",
        "\n",
        "scaler_y.fit(y_train)\n",
        "ytrain_scale=scaler_y.transform(y_train)\n",
        "\n",
        "scaler_y.fit(y_val)\n",
        "yval_scale=scaler_y.transform(y_val)"
      ],
      "execution_count": 232,
      "outputs": []
    },
    {
      "cell_type": "code",
      "metadata": {
        "id": "VUwZl2jM1iYU"
      },
      "source": [
        "xtrain_scale = scaler_x.transform(X_train)\n",
        "xval_scale = scaler_x.transform(X_val)\n",
        "ytrain_scale = scaler_y.transform(y_train)\n",
        "yval_scale = scaler_y.transform(y_val)"
      ],
      "execution_count": 233,
      "outputs": []
    },
    {
      "cell_type": "code",
      "metadata": {
        "colab": {
          "base_uri": "https://localhost:8080/"
        },
        "id": "lUog_jZ5yZwo",
        "outputId": "e65ffd4c-43c0-4c01-92ce-cbfc425e1c71"
      },
      "source": [
        "print(xtrain_scale.shape, ytrain_scale.shape)"
      ],
      "execution_count": 235,
      "outputs": [
        {
          "output_type": "stream",
          "name": "stdout",
          "text": [
            "(27123, 10) (27123, 1)\n"
          ]
        }
      ]
    },
    {
      "cell_type": "code",
      "metadata": {
        "colab": {
          "base_uri": "https://localhost:8080/"
        },
        "id": "VwSfhwzfyZsC",
        "outputId": "bea6102d-ad56-43a8-85af-c1d3bb990f1f"
      },
      "source": [
        "model = Sequential()\n",
        "model.add(Dense(20, input_dim=10, kernel_initializer='normal', activation='relu'))\n",
        "model.add(Dense(30, activation='relu'))\n",
        "model.add(Dense(1, activation='linear'))\n",
        "model.summary()"
      ],
      "execution_count": 234,
      "outputs": [
        {
          "output_type": "stream",
          "name": "stdout",
          "text": [
            "Model: \"sequential_8\"\n",
            "_________________________________________________________________\n",
            "Layer (type)                 Output Shape              Param #   \n",
            "=================================================================\n",
            "dense_24 (Dense)             (None, 20)                220       \n",
            "_________________________________________________________________\n",
            "dense_25 (Dense)             (None, 30)                630       \n",
            "_________________________________________________________________\n",
            "dense_26 (Dense)             (None, 1)                 31        \n",
            "=================================================================\n",
            "Total params: 881\n",
            "Trainable params: 881\n",
            "Non-trainable params: 0\n",
            "_________________________________________________________________\n"
          ]
        }
      ]
    },
    {
      "cell_type": "code",
      "metadata": {
        "colab": {
          "base_uri": "https://localhost:8080/"
        },
        "id": "DpsPxoY7yZ0_",
        "outputId": "66a98ec3-a3a0-4ec0-ce24-4b36d1c8db20"
      },
      "source": [
        "model.compile(loss='mse', optimizer='adam', metrics=['mse','mae'])\n",
        "history = model.fit(xtrain_scale, ytrain_scale, epochs=30, batch_size=150, verbose=1, validation_split=0.2)"
      ],
      "execution_count": 236,
      "outputs": [
        {
          "output_type": "stream",
          "name": "stdout",
          "text": [
            "Epoch 1/30\n",
            "145/145 [==============================] - 1s 3ms/step - loss: 0.0276 - mse: 0.0276 - mae: 0.1137 - val_loss: 0.0220 - val_mse: 0.0220 - val_mae: 0.1026\n",
            "Epoch 2/30\n",
            "145/145 [==============================] - 0s 2ms/step - loss: 0.0211 - mse: 0.0211 - mae: 0.1014 - val_loss: 0.0201 - val_mse: 0.0201 - val_mae: 0.1009\n",
            "Epoch 3/30\n",
            "145/145 [==============================] - 0s 2ms/step - loss: 0.0199 - mse: 0.0199 - mae: 0.0989 - val_loss: 0.0194 - val_mse: 0.0194 - val_mae: 0.0969\n",
            "Epoch 4/30\n",
            "145/145 [==============================] - 0s 3ms/step - loss: 0.0193 - mse: 0.0193 - mae: 0.0975 - val_loss: 0.0188 - val_mse: 0.0188 - val_mae: 0.0970\n",
            "Epoch 5/30\n",
            "145/145 [==============================] - 0s 3ms/step - loss: 0.0189 - mse: 0.0189 - mae: 0.0967 - val_loss: 0.0185 - val_mse: 0.0185 - val_mae: 0.0972\n",
            "Epoch 6/30\n",
            "145/145 [==============================] - 0s 2ms/step - loss: 0.0184 - mse: 0.0184 - mae: 0.0959 - val_loss: 0.0181 - val_mse: 0.0181 - val_mae: 0.0958\n",
            "Epoch 7/30\n",
            "145/145 [==============================] - 0s 2ms/step - loss: 0.0180 - mse: 0.0180 - mae: 0.0947 - val_loss: 0.0176 - val_mse: 0.0176 - val_mae: 0.0939\n",
            "Epoch 8/30\n",
            "145/145 [==============================] - 0s 2ms/step - loss: 0.0178 - mse: 0.0178 - mae: 0.0939 - val_loss: 0.0180 - val_mse: 0.0180 - val_mae: 0.0928\n",
            "Epoch 9/30\n",
            "145/145 [==============================] - 0s 2ms/step - loss: 0.0176 - mse: 0.0176 - mae: 0.0931 - val_loss: 0.0171 - val_mse: 0.0171 - val_mae: 0.0934\n",
            "Epoch 10/30\n",
            "145/145 [==============================] - 0s 2ms/step - loss: 0.0173 - mse: 0.0173 - mae: 0.0927 - val_loss: 0.0169 - val_mse: 0.0169 - val_mae: 0.0917\n",
            "Epoch 11/30\n",
            "145/145 [==============================] - 0s 2ms/step - loss: 0.0170 - mse: 0.0170 - mae: 0.0916 - val_loss: 0.0171 - val_mse: 0.0171 - val_mae: 0.0949\n",
            "Epoch 12/30\n",
            "145/145 [==============================] - 0s 3ms/step - loss: 0.0168 - mse: 0.0168 - mae: 0.0911 - val_loss: 0.0169 - val_mse: 0.0169 - val_mae: 0.0910\n",
            "Epoch 13/30\n",
            "145/145 [==============================] - 0s 3ms/step - loss: 0.0166 - mse: 0.0166 - mae: 0.0903 - val_loss: 0.0164 - val_mse: 0.0164 - val_mae: 0.0908\n",
            "Epoch 14/30\n",
            "145/145 [==============================] - 0s 3ms/step - loss: 0.0164 - mse: 0.0164 - mae: 0.0898 - val_loss: 0.0164 - val_mse: 0.0164 - val_mae: 0.0894\n",
            "Epoch 15/30\n",
            "145/145 [==============================] - 0s 2ms/step - loss: 0.0163 - mse: 0.0163 - mae: 0.0891 - val_loss: 0.0163 - val_mse: 0.0163 - val_mae: 0.0915\n",
            "Epoch 16/30\n",
            "145/145 [==============================] - 0s 3ms/step - loss: 0.0162 - mse: 0.0162 - mae: 0.0886 - val_loss: 0.0159 - val_mse: 0.0159 - val_mae: 0.0894\n",
            "Epoch 17/30\n",
            "145/145 [==============================] - 0s 2ms/step - loss: 0.0159 - mse: 0.0159 - mae: 0.0881 - val_loss: 0.0161 - val_mse: 0.0161 - val_mae: 0.0892\n",
            "Epoch 18/30\n",
            "145/145 [==============================] - 0s 3ms/step - loss: 0.0159 - mse: 0.0159 - mae: 0.0877 - val_loss: 0.0156 - val_mse: 0.0156 - val_mae: 0.0884\n",
            "Epoch 19/30\n",
            "145/145 [==============================] - 0s 3ms/step - loss: 0.0157 - mse: 0.0157 - mae: 0.0871 - val_loss: 0.0155 - val_mse: 0.0155 - val_mae: 0.0881\n",
            "Epoch 20/30\n",
            "145/145 [==============================] - 0s 2ms/step - loss: 0.0155 - mse: 0.0155 - mae: 0.0864 - val_loss: 0.0154 - val_mse: 0.0154 - val_mae: 0.0873\n",
            "Epoch 21/30\n",
            "145/145 [==============================] - 0s 3ms/step - loss: 0.0154 - mse: 0.0154 - mae: 0.0862 - val_loss: 0.0151 - val_mse: 0.0151 - val_mae: 0.0852\n",
            "Epoch 22/30\n",
            "145/145 [==============================] - 0s 2ms/step - loss: 0.0152 - mse: 0.0152 - mae: 0.0857 - val_loss: 0.0151 - val_mse: 0.0151 - val_mae: 0.0848\n",
            "Epoch 23/30\n",
            "145/145 [==============================] - 0s 3ms/step - loss: 0.0150 - mse: 0.0150 - mae: 0.0847 - val_loss: 0.0150 - val_mse: 0.0150 - val_mae: 0.0864\n",
            "Epoch 24/30\n",
            "145/145 [==============================] - 0s 3ms/step - loss: 0.0149 - mse: 0.0149 - mae: 0.0843 - val_loss: 0.0149 - val_mse: 0.0149 - val_mae: 0.0864\n",
            "Epoch 25/30\n",
            "145/145 [==============================] - 0s 3ms/step - loss: 0.0148 - mse: 0.0148 - mae: 0.0842 - val_loss: 0.0150 - val_mse: 0.0150 - val_mae: 0.0875\n",
            "Epoch 26/30\n",
            "145/145 [==============================] - 0s 2ms/step - loss: 0.0147 - mse: 0.0147 - mae: 0.0837 - val_loss: 0.0145 - val_mse: 0.0145 - val_mae: 0.0846\n",
            "Epoch 27/30\n",
            "145/145 [==============================] - 0s 2ms/step - loss: 0.0145 - mse: 0.0145 - mae: 0.0831 - val_loss: 0.0146 - val_mse: 0.0146 - val_mae: 0.0864\n",
            "Epoch 28/30\n",
            "145/145 [==============================] - 0s 3ms/step - loss: 0.0144 - mse: 0.0144 - mae: 0.0828 - val_loss: 0.0143 - val_mse: 0.0143 - val_mae: 0.0832\n",
            "Epoch 29/30\n",
            "145/145 [==============================] - 0s 2ms/step - loss: 0.0142 - mse: 0.0142 - mae: 0.0820 - val_loss: 0.0142 - val_mse: 0.0142 - val_mae: 0.0822\n",
            "Epoch 30/30\n",
            "145/145 [==============================] - 0s 2ms/step - loss: 0.0141 - mse: 0.0141 - mae: 0.0820 - val_loss: 0.0141 - val_mse: 0.0141 - val_mae: 0.0819\n"
          ]
        }
      ]
    },
    {
      "cell_type": "code",
      "metadata": {
        "colab": {
          "base_uri": "https://localhost:8080/"
        },
        "id": "pQDqpMHvyZ44",
        "outputId": "c8dbd351-50c9-433b-9384-cf7705630e36"
      },
      "source": [
        "scaler_y.fit(y_train)\n",
        "\n",
        "predict_s = model.predict(xval_scale)\n",
        "sleep_prediction = scaler_y.inverse_transform(predict_s)\n",
        "sleep_prediction"
      ],
      "execution_count": 237,
      "outputs": [
        {
          "output_type": "execute_result",
          "data": {
            "text/plain": [
              "array([[57.24934 ],\n",
              "       [58.7268  ],\n",
              "       [62.990974],\n",
              "       ...,\n",
              "       [61.30797 ],\n",
              "       [59.29762 ],\n",
              "       [59.402035]], dtype=float32)"
            ]
          },
          "metadata": {},
          "execution_count": 237
        }
      ]
    },
    {
      "cell_type": "code",
      "metadata": {
        "colab": {
          "base_uri": "https://localhost:8080/"
        },
        "id": "gad7y8TNb8Uq",
        "outputId": "0e34df59-25b4-48c9-db64-7b55f6f72c1d"
      },
      "source": [
        "np.average(sleep_prediction)"
      ],
      "execution_count": 238,
      "outputs": [
        {
          "output_type": "execute_result",
          "data": {
            "text/plain": [
              "61.185524"
            ]
          },
          "metadata": {},
          "execution_count": 238
        }
      ]
    },
    {
      "cell_type": "code",
      "metadata": {
        "colab": {
          "base_uri": "https://localhost:8080/",
          "height": 419
        },
        "id": "mFSjFXfLb8XY",
        "outputId": "accb3a06-4f10-481c-ed96-80870ae76ca8"
      },
      "source": [
        "sleep_label = y_val.reset_index(drop=True)\n",
        "sleep_predict = pd.DataFrame(sleep_prediction, columns=['predict'])\n",
        "\n",
        "df_sleep = pd.concat([sleep_label, sleep_predict], axis=1)\n",
        "\n",
        "df_sleep"
      ],
      "execution_count": 239,
      "outputs": [
        {
          "output_type": "execute_result",
          "data": {
            "text/html": [
              "<div>\n",
              "<style scoped>\n",
              "    .dataframe tbody tr th:only-of-type {\n",
              "        vertical-align: middle;\n",
              "    }\n",
              "\n",
              "    .dataframe tbody tr th {\n",
              "        vertical-align: top;\n",
              "    }\n",
              "\n",
              "    .dataframe thead th {\n",
              "        text-align: right;\n",
              "    }\n",
              "</style>\n",
              "<table border=\"1\" class=\"dataframe\">\n",
              "  <thead>\n",
              "    <tr style=\"text-align: right;\">\n",
              "      <th></th>\n",
              "      <th>ecg</th>\n",
              "      <th>predict</th>\n",
              "    </tr>\n",
              "  </thead>\n",
              "  <tbody>\n",
              "    <tr>\n",
              "      <th>0</th>\n",
              "      <td>59.234508</td>\n",
              "      <td>57.249340</td>\n",
              "    </tr>\n",
              "    <tr>\n",
              "      <th>1</th>\n",
              "      <td>55.870445</td>\n",
              "      <td>58.726799</td>\n",
              "    </tr>\n",
              "    <tr>\n",
              "      <th>2</th>\n",
              "      <td>79.273175</td>\n",
              "      <td>62.990974</td>\n",
              "    </tr>\n",
              "    <tr>\n",
              "      <th>3</th>\n",
              "      <td>57.724329</td>\n",
              "      <td>61.081913</td>\n",
              "    </tr>\n",
              "    <tr>\n",
              "      <th>4</th>\n",
              "      <td>64.116345</td>\n",
              "      <td>59.111668</td>\n",
              "    </tr>\n",
              "    <tr>\n",
              "      <th>...</th>\n",
              "      <td>...</td>\n",
              "      <td>...</td>\n",
              "    </tr>\n",
              "    <tr>\n",
              "      <th>9036</th>\n",
              "      <td>56.572983</td>\n",
              "      <td>60.725605</td>\n",
              "    </tr>\n",
              "    <tr>\n",
              "      <th>9037</th>\n",
              "      <td>55.975039</td>\n",
              "      <td>59.614685</td>\n",
              "    </tr>\n",
              "    <tr>\n",
              "      <th>9038</th>\n",
              "      <td>63.954588</td>\n",
              "      <td>61.307968</td>\n",
              "    </tr>\n",
              "    <tr>\n",
              "      <th>9039</th>\n",
              "      <td>61.090226</td>\n",
              "      <td>59.297619</td>\n",
              "    </tr>\n",
              "    <tr>\n",
              "      <th>9040</th>\n",
              "      <td>57.003654</td>\n",
              "      <td>59.402035</td>\n",
              "    </tr>\n",
              "  </tbody>\n",
              "</table>\n",
              "<p>9041 rows × 2 columns</p>\n",
              "</div>"
            ],
            "text/plain": [
              "            ecg    predict\n",
              "0     59.234508  57.249340\n",
              "1     55.870445  58.726799\n",
              "2     79.273175  62.990974\n",
              "3     57.724329  61.081913\n",
              "4     64.116345  59.111668\n",
              "...         ...        ...\n",
              "9036  56.572983  60.725605\n",
              "9037  55.975039  59.614685\n",
              "9038  63.954588  61.307968\n",
              "9039  61.090226  59.297619\n",
              "9040  57.003654  59.402035\n",
              "\n",
              "[9041 rows x 2 columns]"
            ]
          },
          "metadata": {},
          "execution_count": 239
        }
      ]
    },
    {
      "cell_type": "code",
      "metadata": {
        "colab": {
          "base_uri": "https://localhost:8080/",
          "height": 407
        },
        "id": "5rm2cHNyb8aM",
        "outputId": "e6bfe8d2-f588-40c7-dee8-1bbf893b295b"
      },
      "source": [
        "# 타겟값 예측값 히스토그램\n",
        "bins = np.linspace(40, 130, 30)\n",
        "plt.figure(figsize=(12,6))\n",
        "\n",
        "plt.title('Sleep Data Target & Predict')\n",
        "plt.hist([df_sleep['ecg'],df_sleep['predict']], bins, alpha = 0.5, label = ['target', 'predict'])\n",
        "plt.legend(loc='upper left')"
      ],
      "execution_count": 240,
      "outputs": [
        {
          "output_type": "execute_result",
          "data": {
            "text/plain": [
              "<matplotlib.legend.Legend at 0x7f709252f050>"
            ]
          },
          "metadata": {},
          "execution_count": 240
        },
        {
          "output_type": "display_data",
          "data": {
            "image/png": "[encoded data removed]",
            "text/plain": [
              "<Figure size 864x432 with 1 Axes>"
            ]
          },
          "metadata": {
            "needs_background": "light"
          }
        }
      ]
    },
    {
      "cell_type": "markdown",
      "metadata": {
        "id": "btpDC4l6d1AI"
      },
      "source": [
        "- 타겟값의 분포와 비교적 비슷해진 모습을 보인다.\n",
        "- 낮은 심박수에 대한 예측 성능이 떨어지는 것으로 보인다."
      ]
    },
    {
      "cell_type": "code",
      "metadata": {
        "colab": {
          "base_uri": "https://localhost:8080/",
          "height": 204
        },
        "id": "xT1eZD57b8ev",
        "outputId": "637e0a7d-326e-4e61-bc95-460b6bad4a2a"
      },
      "source": [
        "# 오차율\n",
        "df_sleep['Error_rate'] = 100 * (abs(df_sleep['ecg']-df_sleep['predict'])) / df_sleep['ecg']\n",
        "\n",
        "df_sleep.head()"
      ],
      "execution_count": 241,
      "outputs": [
        {
          "output_type": "execute_result",
          "data": {
            "text/html": [
              "<div>\n",
              "<style scoped>\n",
              "    .dataframe tbody tr th:only-of-type {\n",
              "        vertical-align: middle;\n",
              "    }\n",
              "\n",
              "    .dataframe tbody tr th {\n",
              "        vertical-align: top;\n",
              "    }\n",
              "\n",
              "    .dataframe thead th {\n",
              "        text-align: right;\n",
              "    }\n",
              "</style>\n",
              "<table border=\"1\" class=\"dataframe\">\n",
              "  <thead>\n",
              "    <tr style=\"text-align: right;\">\n",
              "      <th></th>\n",
              "      <th>ecg</th>\n",
              "      <th>predict</th>\n",
              "      <th>Error_rate</th>\n",
              "    </tr>\n",
              "  </thead>\n",
              "  <tbody>\n",
              "    <tr>\n",
              "      <th>0</th>\n",
              "      <td>59.234508</td>\n",
              "      <td>57.249340</td>\n",
              "      <td>3.351371</td>\n",
              "    </tr>\n",
              "    <tr>\n",
              "      <th>1</th>\n",
              "      <td>55.870445</td>\n",
              "      <td>58.726799</td>\n",
              "      <td>5.112459</td>\n",
              "    </tr>\n",
              "    <tr>\n",
              "      <th>2</th>\n",
              "      <td>79.273175</td>\n",
              "      <td>62.990974</td>\n",
              "      <td>20.539357</td>\n",
              "    </tr>\n",
              "    <tr>\n",
              "      <th>3</th>\n",
              "      <td>57.724329</td>\n",
              "      <td>61.081913</td>\n",
              "      <td>5.816583</td>\n",
              "    </tr>\n",
              "    <tr>\n",
              "      <th>4</th>\n",
              "      <td>64.116345</td>\n",
              "      <td>59.111668</td>\n",
              "      <td>7.805619</td>\n",
              "    </tr>\n",
              "  </tbody>\n",
              "</table>\n",
              "</div>"
            ],
            "text/plain": [
              "         ecg    predict  Error_rate\n",
              "0  59.234508  57.249340    3.351371\n",
              "1  55.870445  58.726799    5.112459\n",
              "2  79.273175  62.990974   20.539357\n",
              "3  57.724329  61.081913    5.816583\n",
              "4  64.116345  59.111668    7.805619"
            ]
          },
          "metadata": {},
          "execution_count": 241
        }
      ]
    },
    {
      "cell_type": "code",
      "metadata": {
        "colab": {
          "base_uri": "https://localhost:8080/"
        },
        "id": "ZbBOeN5gcqWw",
        "outputId": "647cc4b2-e5b1-4675-a104-73884df7835b"
      },
      "source": [
        "# 오차율 평균\n",
        "np.average(df_sleep['Error_rate'])"
      ],
      "execution_count": 242,
      "outputs": [
        {
          "output_type": "execute_result",
          "data": {
            "text/plain": [
              "5.2009198776969265"
            ]
          },
          "metadata": {},
          "execution_count": 242
        }
      ]
    },
    {
      "cell_type": "markdown",
      "metadata": {
        "id": "XEzFn-CJf9cu"
      },
      "source": [
        "- 6.28 -> 5.20으로 오차율이 개선된 것으로 확인된다."
      ]
    },
    {
      "cell_type": "markdown",
      "metadata": {
        "id": "jSRwrVIJpX3R"
      },
      "source": [
        "### **(3) RandomForestRegressor**"
      ]
    },
    {
      "cell_type": "code",
      "metadata": {
        "id": "cNVXLA7IsDaB"
      },
      "source": [
        "!pip install category_encoders"
      ],
      "execution_count": null,
      "outputs": []
    },
    {
      "cell_type": "code",
      "metadata": {
        "id": "fxTTbvgHr7CS"
      },
      "source": [
        "from sklearn.pipeline import make_pipeline\n",
        "\n",
        "from category_encoders import OneHotEncoder\n",
        "from category_encoders import OrdinalEncoder\n",
        "from category_encoders import TargetEncoder\n",
        "from sklearn.impute import SimpleImputer\n",
        "from sklearn.preprocessing import StandardScaler\n",
        "from sklearn.tree import DecisionTreeClassifier\n",
        "from sklearn.ensemble import RandomForestRegressor\n",
        "from sklearn.ensemble import RandomForestClassifier\n",
        "from sklearn.model_selection import RandomizedSearchCV\n",
        "from sklearn.model_selection import GridSearchCV"
      ],
      "execution_count": 256,
      "outputs": []
    },
    {
      "cell_type": "code",
      "metadata": {
        "id": "-EqkfNr-ybCJ"
      },
      "source": [
        "X_train, X_val, y_train, y_val = train_test_split(sleep_transform.loc[:, ['bin-1','bin0','bin1','512fft','300fft','200fft','100fft','70fft','bin_var','motion_energy']], sleep_transform['ecg'])\n",
        "\n",
        "X_train = pd.DataFrame(X_train)\n",
        "X_val = pd.DataFrame(X_val)\n",
        "y_train = pd.DataFrame(y_train)\n",
        "y_val = pd.DataFrame(y_val)"
      ],
      "execution_count": 277,
      "outputs": []
    },
    {
      "cell_type": "code",
      "metadata": {
        "colab": {
          "base_uri": "https://localhost:8080/"
        },
        "id": "egpmVxdZqecx",
        "outputId": "02781f63-b153-4b28-b118-8cf0590f1186"
      },
      "source": [
        "# 파이프라인\n",
        "\n",
        "pipe = make_pipeline(\n",
        "    TargetEncoder(smoothing=150.0),\n",
        "    SimpleImputer(),\n",
        "    StandardScaler(),\n",
        "    RandomForestRegressor(n_estimators=200, max_depth=14, random_state=1)\n",
        ")\n",
        "\n",
        "pipe.fit(X_train, y_train)\n",
        "\n",
        "print('훈련 정확도', pipe.score(X_train, y_train))\n",
        "print('검증 정확도', pipe.score(X_val, y_val))"
      ],
      "execution_count": 255,
      "outputs": [
        {
          "output_type": "stream",
          "name": "stderr",
          "text": [
            "/usr/local/lib/python3.7/dist-packages/sklearn/pipeline.py:394: DataConversionWarning: A column-vector y was passed when a 1d array was expected. Please change the shape of y to (n_samples,), for example using ravel().\n",
            "  self._final_estimator.fit(Xt, y, **fit_params_last_step)\n"
          ]
        },
        {
          "output_type": "stream",
          "name": "stdout",
          "text": [
            "훈련 정확도 0.9471746593511946\n",
            "검증 정확도 0.9386102093236979\n"
          ]
        }
      ]
    },
    {
      "cell_type": "code",
      "metadata": {
        "colab": {
          "base_uri": "https://localhost:8080/",
          "height": 336
        },
        "id": "qZD8gBEatqcX",
        "outputId": "3e75381a-2f1a-4028-9301-ee3a5ac8e815"
      },
      "source": [
        "# 특성 중요도(ordinal)\n",
        "rf = pipe.named_steps['randomforestregressor']\n",
        "importances = pd.Series(rf.feature_importances_, X_train.columns)\n",
        "\n",
        "n = 6\n",
        "plt.figure(figsize=(7,5))\n",
        "plt.title(f'Top {n} features')\n",
        "importances.sort_values()[-n:].plot.barh();"
      ],
      "execution_count": 261,
      "outputs": [
        {
          "output_type": "display_data",
          "data": {
            "image/png": "[encoded data removed]",
            "text/plain": [
              "<Figure size 504x360 with 1 Axes>"
            ]
          },
          "metadata": {
            "needs_background": "light"
          }
        }
      ]
    },
    {
      "cell_type": "markdown",
      "metadata": {
        "id": "2YF6r-aw3ztE"
      },
      "source": [
        "- 특성 중요도에서 예상 외의 결과가 나왔다."
      ]
    },
    {
      "cell_type": "markdown",
      "metadata": {
        "id": "3l_Mj5rHxv9V"
      },
      "source": [
        "### **(4) Hyper-parameter 튜닝**"
      ]
    },
    {
      "cell_type": "code",
      "metadata": {
        "colab": {
          "base_uri": "https://localhost:8080/"
        },
        "id": "-Bmau_YPtxHh",
        "outputId": "031dcfbe-b185-4bb5-d05e-3364bfbeb612"
      },
      "source": [
        "from sklearn.model_selection import RandomizedSearchCV\n",
        "from scipy.stats import randint, uniform\n",
        "\n",
        "pipe2 = make_pipeline(\n",
        "    OrdinalEncoder(), \n",
        "    SimpleImputer(), \n",
        "    RandomForestRegressor(random_state=1)\n",
        ")\n",
        "\n",
        "dists = {   \n",
        "    'simpleimputer__strategy': ['mean', 'median'], \n",
        "    'randomforestregressor__n_estimators': randint(50, 100, 200),\n",
        "    'randomforestregressor__max_depth': [4, 8, 12, 16], \n",
        "    'randomforestregressor__max_features': uniform(0, 1)\n",
        "}\n",
        "\n",
        "clf = RandomizedSearchCV(\n",
        "    pipe2, \n",
        "    param_distributions=dists, \n",
        "    n_iter=10, \n",
        "    cv=3, \n",
        "    scoring='neg_mean_absolute_error',  \n",
        "    verbose=1,\n",
        "    n_jobs=-1\n",
        ")\n",
        "\n",
        "clf.fit(X_train, y_train);"
      ],
      "execution_count": 262,
      "outputs": [
        {
          "output_type": "stream",
          "name": "stdout",
          "text": [
            "Fitting 3 folds for each of 10 candidates, totalling 30 fits\n"
          ]
        },
        {
          "output_type": "stream",
          "name": "stderr",
          "text": [
            "/usr/local/lib/python3.7/dist-packages/sklearn/pipeline.py:394: DataConversionWarning: A column-vector y was passed when a 1d array was expected. Please change the shape of y to (n_samples,), for example using ravel().\n",
            "  self._final_estimator.fit(Xt, y, **fit_params_last_step)\n"
          ]
        }
      ]
    },
    {
      "cell_type": "code",
      "metadata": {
        "colab": {
          "base_uri": "https://localhost:8080/"
        },
        "id": "nhStkzmtu8AJ",
        "outputId": "c18f270a-3fd5-4666-da3a-280050d2950b"
      },
      "source": [
        "print('최적 하이퍼파라미터', clf.best_params_)"
      ],
      "execution_count": 263,
      "outputs": [
        {
          "output_type": "stream",
          "name": "stdout",
          "text": [
            "최적 하이퍼파라미터 {'randomforestregressor__max_depth': 16, 'randomforestregressor__max_features': 0.6556924148322318, 'randomforestregressor__n_estimators': 274, 'simpleimputer__strategy': 'mean'}\n"
          ]
        }
      ]
    },
    {
      "cell_type": "code",
      "metadata": {
        "colab": {
          "base_uri": "https://localhost:8080/"
        },
        "id": "uFs1RLezvCGy",
        "outputId": "1746e14e-bcd8-4c02-8c94-e9cebc11e435"
      },
      "source": [
        "pipe_new = make_pipeline(\n",
        "    OrdinalEncoder(),\n",
        "    SimpleImputer(strategy='mean'),\n",
        "    StandardScaler(),\n",
        "    RandomForestRegressor(n_estimators=274, max_depth=16, random_state=1, max_features=0.65569)\n",
        ")\n",
        "\n",
        "pipe_new.fit(X_train, y_train)\n",
        "\n",
        "print('훈련 정확도', pipe_new.score(X_train, y_train))\n",
        "print('검증 정확도', pipe_new.score(X_val, y_val))"
      ],
      "execution_count": 264,
      "outputs": [
        {
          "output_type": "stream",
          "name": "stderr",
          "text": [
            "/usr/local/lib/python3.7/dist-packages/sklearn/pipeline.py:394: DataConversionWarning: A column-vector y was passed when a 1d array was expected. Please change the shape of y to (n_samples,), for example using ravel().\n",
            "  self._final_estimator.fit(Xt, y, **fit_params_last_step)\n"
          ]
        },
        {
          "output_type": "stream",
          "name": "stdout",
          "text": [
            "훈련 정확도 0.9841689988975669\n",
            "검증 정확도 0.9792470098987518\n"
          ]
        }
      ]
    },
    {
      "cell_type": "code",
      "metadata": {
        "colab": {
          "base_uri": "https://localhost:8080/"
        },
        "id": "1ZaUGRUqwBtH",
        "outputId": "5af34337-6cc8-41b3-cd34-f84f9f5a785c"
      },
      "source": [
        "y_val_pred = pipe_new.predict(X_val)\n",
        "y_val_pred"
      ],
      "execution_count": 269,
      "outputs": [
        {
          "output_type": "execute_result",
          "data": {
            "text/plain": [
              "array([59.37990321, 56.23422077, 79.28157162, ..., 63.3554826 ,\n",
              "       60.35109828, 56.99840505])"
            ]
          },
          "metadata": {},
          "execution_count": 269
        }
      ]
    },
    {
      "cell_type": "code",
      "metadata": {
        "colab": {
          "base_uri": "https://localhost:8080/",
          "height": 419
        },
        "id": "QNp20IoGwP34",
        "outputId": "60338340-97ca-4436-d751-6c92c086ef65"
      },
      "source": [
        "y_val = y_val.reset_index(drop=True)\n",
        "y_val_pred = pd.DataFrame(y_val_pred, columns=['predict'])\n",
        "\n",
        "RandomForReg_predict = pd.concat([y_val, y_val_pred], axis=1)\n",
        "\n",
        "RandomForReg_predict"
      ],
      "execution_count": 272,
      "outputs": [
        {
          "output_type": "execute_result",
          "data": {
            "text/html": [
              "<div>\n",
              "<style scoped>\n",
              "    .dataframe tbody tr th:only-of-type {\n",
              "        vertical-align: middle;\n",
              "    }\n",
              "\n",
              "    .dataframe tbody tr th {\n",
              "        vertical-align: top;\n",
              "    }\n",
              "\n",
              "    .dataframe thead th {\n",
              "        text-align: right;\n",
              "    }\n",
              "</style>\n",
              "<table border=\"1\" class=\"dataframe\">\n",
              "  <thead>\n",
              "    <tr style=\"text-align: right;\">\n",
              "      <th></th>\n",
              "      <th>ecg</th>\n",
              "      <th>predict</th>\n",
              "    </tr>\n",
              "  </thead>\n",
              "  <tbody>\n",
              "    <tr>\n",
              "      <th>0</th>\n",
              "      <td>59.234508</td>\n",
              "      <td>59.379903</td>\n",
              "    </tr>\n",
              "    <tr>\n",
              "      <th>1</th>\n",
              "      <td>55.870445</td>\n",
              "      <td>56.234221</td>\n",
              "    </tr>\n",
              "    <tr>\n",
              "      <th>2</th>\n",
              "      <td>79.273175</td>\n",
              "      <td>79.281572</td>\n",
              "    </tr>\n",
              "    <tr>\n",
              "      <th>3</th>\n",
              "      <td>57.724329</td>\n",
              "      <td>58.018551</td>\n",
              "    </tr>\n",
              "    <tr>\n",
              "      <th>4</th>\n",
              "      <td>64.116345</td>\n",
              "      <td>62.271308</td>\n",
              "    </tr>\n",
              "    <tr>\n",
              "      <th>...</th>\n",
              "      <td>...</td>\n",
              "      <td>...</td>\n",
              "    </tr>\n",
              "    <tr>\n",
              "      <th>9036</th>\n",
              "      <td>56.572983</td>\n",
              "      <td>56.551380</td>\n",
              "    </tr>\n",
              "    <tr>\n",
              "      <th>9037</th>\n",
              "      <td>55.975039</td>\n",
              "      <td>57.028780</td>\n",
              "    </tr>\n",
              "    <tr>\n",
              "      <th>9038</th>\n",
              "      <td>63.954588</td>\n",
              "      <td>63.355483</td>\n",
              "    </tr>\n",
              "    <tr>\n",
              "      <th>9039</th>\n",
              "      <td>61.090226</td>\n",
              "      <td>60.351098</td>\n",
              "    </tr>\n",
              "    <tr>\n",
              "      <th>9040</th>\n",
              "      <td>57.003654</td>\n",
              "      <td>56.998405</td>\n",
              "    </tr>\n",
              "  </tbody>\n",
              "</table>\n",
              "<p>9041 rows × 2 columns</p>\n",
              "</div>"
            ],
            "text/plain": [
              "            ecg    predict\n",
              "0     59.234508  59.379903\n",
              "1     55.870445  56.234221\n",
              "2     79.273175  79.281572\n",
              "3     57.724329  58.018551\n",
              "4     64.116345  62.271308\n",
              "...         ...        ...\n",
              "9036  56.572983  56.551380\n",
              "9037  55.975039  57.028780\n",
              "9038  63.954588  63.355483\n",
              "9039  61.090226  60.351098\n",
              "9040  57.003654  56.998405\n",
              "\n",
              "[9041 rows x 2 columns]"
            ]
          },
          "metadata": {},
          "execution_count": 272
        }
      ]
    },
    {
      "cell_type": "code",
      "metadata": {
        "colab": {
          "base_uri": "https://localhost:8080/",
          "height": 407
        },
        "id": "NATKjEKnx5k_",
        "outputId": "567a7356-7f1e-4251-f796-28a5a6971382"
      },
      "source": [
        "# 타겟값 예측값 히스토그램\n",
        "bins = np.linspace(40, 130, 30)\n",
        "plt.figure(figsize=(12,6))\n",
        "\n",
        "plt.title('Sleep Data RandomForReg Target & Predict')\n",
        "plt.hist([RandomForReg_predict['ecg'],RandomForReg_predict['predict']], bins, alpha = 0.5, label = ['target', 'predict'])\n",
        "plt.legend(loc='upper left')"
      ],
      "execution_count": 278,
      "outputs": [
        {
          "output_type": "execute_result",
          "data": {
            "text/plain": [
              "<matplotlib.legend.Legend at 0x7f708d31ac10>"
            ]
          },
          "metadata": {},
          "execution_count": 278
        },
        {
          "output_type": "display_data",
          "data": {
            "image/png": "[encoded data removed]",
            "text/plain": [
              "<Figure size 864x432 with 1 Axes>"
            ]
          },
          "metadata": {
            "needs_background": "light"
          }
        }
      ]
    },
    {
      "cell_type": "code",
      "metadata": {
        "colab": {
          "base_uri": "https://localhost:8080/",
          "height": 204
        },
        "id": "mEeA-fItyC4V",
        "outputId": "c6a4c356-2950-4eea-c7bb-b6cb82f79d92"
      },
      "source": [
        "# 오차율\n",
        "RandomForReg_predict['Error_rate'] = 100 * (abs(RandomForReg_predict['ecg']-RandomForReg_predict['predict'])) / RandomForReg_predict['ecg']\n",
        "\n",
        "RandomForReg_predict.head()"
      ],
      "execution_count": 274,
      "outputs": [
        {
          "output_type": "execute_result",
          "data": {
            "text/html": [
              "<div>\n",
              "<style scoped>\n",
              "    .dataframe tbody tr th:only-of-type {\n",
              "        vertical-align: middle;\n",
              "    }\n",
              "\n",
              "    .dataframe tbody tr th {\n",
              "        vertical-align: top;\n",
              "    }\n",
              "\n",
              "    .dataframe thead th {\n",
              "        text-align: right;\n",
              "    }\n",
              "</style>\n",
              "<table border=\"1\" class=\"dataframe\">\n",
              "  <thead>\n",
              "    <tr style=\"text-align: right;\">\n",
              "      <th></th>\n",
              "      <th>ecg</th>\n",
              "      <th>predict</th>\n",
              "      <th>Error_rate</th>\n",
              "    </tr>\n",
              "  </thead>\n",
              "  <tbody>\n",
              "    <tr>\n",
              "      <th>0</th>\n",
              "      <td>59.234508</td>\n",
              "      <td>59.379903</td>\n",
              "      <td>0.245457</td>\n",
              "    </tr>\n",
              "    <tr>\n",
              "      <th>1</th>\n",
              "      <td>55.870445</td>\n",
              "      <td>56.234221</td>\n",
              "      <td>0.651105</td>\n",
              "    </tr>\n",
              "    <tr>\n",
              "      <th>2</th>\n",
              "      <td>79.273175</td>\n",
              "      <td>79.281572</td>\n",
              "      <td>0.010592</td>\n",
              "    </tr>\n",
              "    <tr>\n",
              "      <th>3</th>\n",
              "      <td>57.724329</td>\n",
              "      <td>58.018551</td>\n",
              "      <td>0.509701</td>\n",
              "    </tr>\n",
              "    <tr>\n",
              "      <th>4</th>\n",
              "      <td>64.116345</td>\n",
              "      <td>62.271308</td>\n",
              "      <td>2.877639</td>\n",
              "    </tr>\n",
              "  </tbody>\n",
              "</table>\n",
              "</div>"
            ],
            "text/plain": [
              "         ecg    predict  Error_rate\n",
              "0  59.234508  59.379903    0.245457\n",
              "1  55.870445  56.234221    0.651105\n",
              "2  79.273175  79.281572    0.010592\n",
              "3  57.724329  58.018551    0.509701\n",
              "4  64.116345  62.271308    2.877639"
            ]
          },
          "metadata": {},
          "execution_count": 274
        }
      ]
    },
    {
      "cell_type": "code",
      "metadata": {
        "colab": {
          "base_uri": "https://localhost:8080/"
        },
        "id": "dAHT3jB0yLqe",
        "outputId": "ebf1c445-7329-4a56-df8a-cc7433b8f4b2"
      },
      "source": [
        "# 오차율 평균\n",
        "np.average(RandomForReg_predict['Error_rate'])"
      ],
      "execution_count": 276,
      "outputs": [
        {
          "output_type": "execute_result",
          "data": {
            "text/plain": [
              "0.9284085613455089"
            ]
          },
          "metadata": {},
          "execution_count": 276
        }
      ]
    },
    {
      "cell_type": "markdown",
      "metadata": {
        "id": "c22_SFln4V7_"
      },
      "source": [
        "- 1% 미만의 오차율 값을 얻을 수 있었다."
      ]
    }
  ]
}
